{
  "cells": [
    {
      "cell_type": "markdown",
      "source": [
        "# Upload training, validation, and test sets to your drive then run this to mount your drive and have access to files from the notebook"
      ],
      "metadata": {
        "id": "4us2Umhd9f5M"
      }
    },
    {
      "cell_type": "code",
      "execution_count": 1,
      "metadata": {
        "colab": {
          "base_uri": "https://localhost:8080/"
        },
        "id": "l5ywUkd0MNb3",
        "outputId": "27d0413d-fb41-44c7-85f9-002555a6734a"
      },
      "outputs": [
        {
          "output_type": "stream",
          "name": "stdout",
          "text": [
            "Mounted at /content/drive\n"
          ]
        }
      ],
      "source": [
        "from google.colab import drive\n",
        "drive.mount('/content/drive')"
      ]
    },
    {
      "cell_type": "markdown",
      "source": [
        "# Install latest version of Huggingface and import necessary packages"
      ],
      "metadata": {
        "id": "BQexC9b299tX"
      }
    },
    {
      "cell_type": "code",
      "execution_count": 2,
      "metadata": {
        "colab": {
          "base_uri": "https://localhost:8080/"
        },
        "id": "qbXOqrnXK9Hh",
        "outputId": "c6d11a3f-fbd8-4e0f-ccb4-a877da6b488f"
      },
      "outputs": [
        {
          "output_type": "stream",
          "name": "stdout",
          "text": [
            "  Installing build dependencies ... \u001b[?25l\u001b[?25hdone\n",
            "  Getting requirements to build wheel ... \u001b[?25l\u001b[?25hdone\n",
            "  Preparing metadata (pyproject.toml) ... \u001b[?25l\u001b[?25hdone\n",
            "\u001b[2K     \u001b[90m━━━━━━━━━━━━━━━━━━━━━━━━━━━━━━━━━━━━━━━━\u001b[0m \u001b[32m3.6/3.6 MB\u001b[0m \u001b[31m37.8 MB/s\u001b[0m eta \u001b[36m0:00:00\u001b[0m\n",
            "\u001b[?25h  Building wheel for transformers (pyproject.toml) ... \u001b[?25l\u001b[?25hdone\n"
          ]
        }
      ],
      "source": [
        "!pip install -q git+https://github.com/huggingface/transformers"
      ]
    },
    {
      "cell_type": "code",
      "source": [
        "!pip install transformers"
      ],
      "metadata": {
        "colab": {
          "base_uri": "https://localhost:8080/"
        },
        "id": "XpbrgXdvDYG_",
        "outputId": "14861edf-14fd-4602-bc29-23f1ff853af5"
      },
      "execution_count": 3,
      "outputs": [
        {
          "output_type": "stream",
          "name": "stdout",
          "text": [
            "Requirement already satisfied: transformers in /usr/local/lib/python3.10/dist-packages (4.41.0.dev0)\n",
            "Requirement already satisfied: filelock in /usr/local/lib/python3.10/dist-packages (from transformers) (3.13.4)\n",
            "Requirement already satisfied: huggingface-hub<1.0,>=0.19.3 in /usr/local/lib/python3.10/dist-packages (from transformers) (0.20.3)\n",
            "Requirement already satisfied: numpy>=1.17 in /usr/local/lib/python3.10/dist-packages (from transformers) (1.25.2)\n",
            "Requirement already satisfied: packaging>=20.0 in /usr/local/lib/python3.10/dist-packages (from transformers) (24.0)\n",
            "Requirement already satisfied: pyyaml>=5.1 in /usr/local/lib/python3.10/dist-packages (from transformers) (6.0.1)\n",
            "Requirement already satisfied: regex!=2019.12.17 in /usr/local/lib/python3.10/dist-packages (from transformers) (2023.12.25)\n",
            "Requirement already satisfied: requests in /usr/local/lib/python3.10/dist-packages (from transformers) (2.31.0)\n",
            "Requirement already satisfied: tokenizers<0.20,>=0.19 in /usr/local/lib/python3.10/dist-packages (from transformers) (0.19.1)\n",
            "Requirement already satisfied: safetensors>=0.4.1 in /usr/local/lib/python3.10/dist-packages (from transformers) (0.4.3)\n",
            "Requirement already satisfied: tqdm>=4.27 in /usr/local/lib/python3.10/dist-packages (from transformers) (4.66.2)\n",
            "Requirement already satisfied: fsspec>=2023.5.0 in /usr/local/lib/python3.10/dist-packages (from huggingface-hub<1.0,>=0.19.3->transformers) (2023.6.0)\n",
            "Requirement already satisfied: typing-extensions>=3.7.4.3 in /usr/local/lib/python3.10/dist-packages (from huggingface-hub<1.0,>=0.19.3->transformers) (4.11.0)\n",
            "Requirement already satisfied: charset-normalizer<4,>=2 in /usr/local/lib/python3.10/dist-packages (from requests->transformers) (3.3.2)\n",
            "Requirement already satisfied: idna<4,>=2.5 in /usr/local/lib/python3.10/dist-packages (from requests->transformers) (3.7)\n",
            "Requirement already satisfied: urllib3<3,>=1.21.1 in /usr/local/lib/python3.10/dist-packages (from requests->transformers) (2.0.7)\n",
            "Requirement already satisfied: certifi>=2017.4.17 in /usr/local/lib/python3.10/dist-packages (from requests->transformers) (2024.2.2)\n"
          ]
        }
      ]
    },
    {
      "cell_type": "code",
      "execution_count": 4,
      "metadata": {
        "id": "QmGKTFUl1Jb3"
      },
      "outputs": [],
      "source": [
        "import pandas as pd\n",
        "import numpy as np\n",
        "import torch\n",
        "import torch.nn as nn\n",
        "from torch.utils.data import Dataset\n",
        "from torch.utils.data import DataLoader\n",
        "import torch.optim as optim\n",
        "import torch.nn.functional as F\n",
        "from torchsummary import summary\n",
        "from tqdm import tqdm\n",
        "from transformers import DistilBertTokenizer, DistilBertModel"
      ]
    },
    {
      "cell_type": "markdown",
      "source": [
        "#Q1."
      ],
      "metadata": {
        "id": "ydMnz_PxPy9G"
      }
    },
    {
      "cell_type": "code",
      "source": [
        "lst=['CS','ECE','MAE','Medical','MAE','biochemistry','Psychology','Psychology','Medical','CS','Medical','CS','MAE','MAE','Psychology','Medical','Civil','Medical','Civil','MAE']\n",
        "lst"
      ],
      "metadata": {
        "colab": {
          "base_uri": "https://localhost:8080/"
        },
        "id": "9BFLfyIoP5Wh",
        "outputId": "37bc91b5-cb7e-4f05-e8eb-776a43ca5597"
      },
      "execution_count": 5,
      "outputs": [
        {
          "output_type": "execute_result",
          "data": {
            "text/plain": [
              "['CS',\n",
              " 'ECE',\n",
              " 'MAE',\n",
              " 'Medical',\n",
              " 'MAE',\n",
              " 'biochemistry',\n",
              " 'Psychology',\n",
              " 'Psychology',\n",
              " 'Medical',\n",
              " 'CS',\n",
              " 'Medical',\n",
              " 'CS',\n",
              " 'MAE',\n",
              " 'MAE',\n",
              " 'Psychology',\n",
              " 'Medical',\n",
              " 'Civil',\n",
              " 'Medical',\n",
              " 'Civil',\n",
              " 'MAE']"
            ]
          },
          "metadata": {},
          "execution_count": 5
        }
      ]
    },
    {
      "cell_type": "code",
      "source": [
        "len(lst)"
      ],
      "metadata": {
        "colab": {
          "base_uri": "https://localhost:8080/"
        },
        "id": "jBy1uVHAP9wi",
        "outputId": "4b7363fe-86f2-448e-dec0-066bfe6d5eb4"
      },
      "execution_count": 6,
      "outputs": [
        {
          "output_type": "execute_result",
          "data": {
            "text/plain": [
              "20"
            ]
          },
          "metadata": {},
          "execution_count": 6
        }
      ]
    },
    {
      "cell_type": "code",
      "source": [
        "from google.colab import files\n",
        "uploaded=files.upload()"
      ],
      "metadata": {
        "colab": {
          "base_uri": "https://localhost:8080/",
          "height": 74
        },
        "id": "fvDuHvngQWoh",
        "outputId": "804b90ab-5794-4d9b-df42-2ae1fed493a1"
      },
      "execution_count": 7,
      "outputs": [
        {
          "output_type": "display_data",
          "data": {
            "text/plain": [
              "<IPython.core.display.HTML object>"
            ],
            "text/html": [
              "\n",
              "     <input type=\"file\" id=\"files-b08b6e6a-b85b-4d95-a5f1-8a1d69497f3c\" name=\"files[]\" multiple disabled\n",
              "        style=\"border:none\" />\n",
              "     <output id=\"result-b08b6e6a-b85b-4d95-a5f1-8a1d69497f3c\">\n",
              "      Upload widget is only available when the cell has been executed in the\n",
              "      current browser session. Please rerun this cell to enable.\n",
              "      </output>\n",
              "      <script>// Copyright 2017 Google LLC\n",
              "//\n",
              "// Licensed under the Apache License, Version 2.0 (the \"License\");\n",
              "// you may not use this file except in compliance with the License.\n",
              "// You may obtain a copy of the License at\n",
              "//\n",
              "//      http://www.apache.org/licenses/LICENSE-2.0\n",
              "//\n",
              "// Unless required by applicable law or agreed to in writing, software\n",
              "// distributed under the License is distributed on an \"AS IS\" BASIS,\n",
              "// WITHOUT WARRANTIES OR CONDITIONS OF ANY KIND, either express or implied.\n",
              "// See the License for the specific language governing permissions and\n",
              "// limitations under the License.\n",
              "\n",
              "/**\n",
              " * @fileoverview Helpers for google.colab Python module.\n",
              " */\n",
              "(function(scope) {\n",
              "function span(text, styleAttributes = {}) {\n",
              "  const element = document.createElement('span');\n",
              "  element.textContent = text;\n",
              "  for (const key of Object.keys(styleAttributes)) {\n",
              "    element.style[key] = styleAttributes[key];\n",
              "  }\n",
              "  return element;\n",
              "}\n",
              "\n",
              "// Max number of bytes which will be uploaded at a time.\n",
              "const MAX_PAYLOAD_SIZE = 100 * 1024;\n",
              "\n",
              "function _uploadFiles(inputId, outputId) {\n",
              "  const steps = uploadFilesStep(inputId, outputId);\n",
              "  const outputElement = document.getElementById(outputId);\n",
              "  // Cache steps on the outputElement to make it available for the next call\n",
              "  // to uploadFilesContinue from Python.\n",
              "  outputElement.steps = steps;\n",
              "\n",
              "  return _uploadFilesContinue(outputId);\n",
              "}\n",
              "\n",
              "// This is roughly an async generator (not supported in the browser yet),\n",
              "// where there are multiple asynchronous steps and the Python side is going\n",
              "// to poll for completion of each step.\n",
              "// This uses a Promise to block the python side on completion of each step,\n",
              "// then passes the result of the previous step as the input to the next step.\n",
              "function _uploadFilesContinue(outputId) {\n",
              "  const outputElement = document.getElementById(outputId);\n",
              "  const steps = outputElement.steps;\n",
              "\n",
              "  const next = steps.next(outputElement.lastPromiseValue);\n",
              "  return Promise.resolve(next.value.promise).then((value) => {\n",
              "    // Cache the last promise value to make it available to the next\n",
              "    // step of the generator.\n",
              "    outputElement.lastPromiseValue = value;\n",
              "    return next.value.response;\n",
              "  });\n",
              "}\n",
              "\n",
              "/**\n",
              " * Generator function which is called between each async step of the upload\n",
              " * process.\n",
              " * @param {string} inputId Element ID of the input file picker element.\n",
              " * @param {string} outputId Element ID of the output display.\n",
              " * @return {!Iterable<!Object>} Iterable of next steps.\n",
              " */\n",
              "function* uploadFilesStep(inputId, outputId) {\n",
              "  const inputElement = document.getElementById(inputId);\n",
              "  inputElement.disabled = false;\n",
              "\n",
              "  const outputElement = document.getElementById(outputId);\n",
              "  outputElement.innerHTML = '';\n",
              "\n",
              "  const pickedPromise = new Promise((resolve) => {\n",
              "    inputElement.addEventListener('change', (e) => {\n",
              "      resolve(e.target.files);\n",
              "    });\n",
              "  });\n",
              "\n",
              "  const cancel = document.createElement('button');\n",
              "  inputElement.parentElement.appendChild(cancel);\n",
              "  cancel.textContent = 'Cancel upload';\n",
              "  const cancelPromise = new Promise((resolve) => {\n",
              "    cancel.onclick = () => {\n",
              "      resolve(null);\n",
              "    };\n",
              "  });\n",
              "\n",
              "  // Wait for the user to pick the files.\n",
              "  const files = yield {\n",
              "    promise: Promise.race([pickedPromise, cancelPromise]),\n",
              "    response: {\n",
              "      action: 'starting',\n",
              "    }\n",
              "  };\n",
              "\n",
              "  cancel.remove();\n",
              "\n",
              "  // Disable the input element since further picks are not allowed.\n",
              "  inputElement.disabled = true;\n",
              "\n",
              "  if (!files) {\n",
              "    return {\n",
              "      response: {\n",
              "        action: 'complete',\n",
              "      }\n",
              "    };\n",
              "  }\n",
              "\n",
              "  for (const file of files) {\n",
              "    const li = document.createElement('li');\n",
              "    li.append(span(file.name, {fontWeight: 'bold'}));\n",
              "    li.append(span(\n",
              "        `(${file.type || 'n/a'}) - ${file.size} bytes, ` +\n",
              "        `last modified: ${\n",
              "            file.lastModifiedDate ? file.lastModifiedDate.toLocaleDateString() :\n",
              "                                    'n/a'} - `));\n",
              "    const percent = span('0% done');\n",
              "    li.appendChild(percent);\n",
              "\n",
              "    outputElement.appendChild(li);\n",
              "\n",
              "    const fileDataPromise = new Promise((resolve) => {\n",
              "      const reader = new FileReader();\n",
              "      reader.onload = (e) => {\n",
              "        resolve(e.target.result);\n",
              "      };\n",
              "      reader.readAsArrayBuffer(file);\n",
              "    });\n",
              "    // Wait for the data to be ready.\n",
              "    let fileData = yield {\n",
              "      promise: fileDataPromise,\n",
              "      response: {\n",
              "        action: 'continue',\n",
              "      }\n",
              "    };\n",
              "\n",
              "    // Use a chunked sending to avoid message size limits. See b/62115660.\n",
              "    let position = 0;\n",
              "    do {\n",
              "      const length = Math.min(fileData.byteLength - position, MAX_PAYLOAD_SIZE);\n",
              "      const chunk = new Uint8Array(fileData, position, length);\n",
              "      position += length;\n",
              "\n",
              "      const base64 = btoa(String.fromCharCode.apply(null, chunk));\n",
              "      yield {\n",
              "        response: {\n",
              "          action: 'append',\n",
              "          file: file.name,\n",
              "          data: base64,\n",
              "        },\n",
              "      };\n",
              "\n",
              "      let percentDone = fileData.byteLength === 0 ?\n",
              "          100 :\n",
              "          Math.round((position / fileData.byteLength) * 100);\n",
              "      percent.textContent = `${percentDone}% done`;\n",
              "\n",
              "    } while (position < fileData.byteLength);\n",
              "  }\n",
              "\n",
              "  // All done.\n",
              "  yield {\n",
              "    response: {\n",
              "      action: 'complete',\n",
              "    }\n",
              "  };\n",
              "}\n",
              "\n",
              "scope.google = scope.google || {};\n",
              "scope.google.colab = scope.google.colab || {};\n",
              "scope.google.colab._files = {\n",
              "  _uploadFiles,\n",
              "  _uploadFilesContinue,\n",
              "};\n",
              "})(self);\n",
              "</script> "
            ]
          },
          "metadata": {}
        },
        {
          "output_type": "stream",
          "name": "stdout",
          "text": [
            "Saving test_llm.csv to test_llm.csv\n"
          ]
        }
      ]
    },
    {
      "cell_type": "code",
      "source": [
        "df_test=pd.read_csv('test_llm.csv')\n",
        "df_test"
      ],
      "metadata": {
        "id": "ObgX7YljQf1C",
        "colab": {
          "base_uri": "https://localhost:8080/",
          "height": 677
        },
        "outputId": "9f45fa9a-6f13-433e-d1b0-0ee5f7222b86"
      },
      "execution_count": 8,
      "outputs": [
        {
          "output_type": "execute_result",
          "data": {
            "text/plain": [
              "           Domain                            area  \\\n",
              "0             CS                Data structures     \n",
              "1          Civil           Ambient Intelligence     \n",
              "2            ECE           Electrical generator     \n",
              "3        Medical                    Hepatitis C     \n",
              "4            ECE            Control engineering     \n",
              "5             CS                 Bioinformatics     \n",
              "6        Medical                    Weight Loss     \n",
              "7    Psychology                      Leadership     \n",
              "8    Psychology     Seasonal affective disorder     \n",
              "9             CS                Data structures     \n",
              "10       Medical            Atrial Fibrillation     \n",
              "11            CS          Distributed computing     \n",
              "12           MAE                     Hydraulics     \n",
              "13           ECE                 Electric motor     \n",
              "14   Psychology              Prosocial behavior     \n",
              "15       Medical            Alzheimer's Disease     \n",
              "16         Civil                     Geotextile     \n",
              "17  biochemistry              Northern blotting     \n",
              "18         Civil                 Remote Sensing     \n",
              "19         Civil                 Smart Material     \n",
              "\n",
              "                                             keywords  \\\n",
              "0    In-memory XPath processing; NESTOR; Set-based...   \n",
              "1    Home energy management; persuasive interface;...   \n",
              "2    non-standard electrical machine; generation o...   \n",
              "3    complications; patient engagement; patient-ce...   \n",
              "4    force feedback haptic interface; virtual real...   \n",
              "5                    Bioinformatics; genomics           \n",
              "6    Obesity; weight loss; moral work; body projec...   \n",
              "7    Data-based decision making; school improvemen...   \n",
              "8    Ramelteon; sleep; agomelatine; depression; in...   \n",
              "9    Succinct dynamic data structures; Succinct tr...   \n",
              "10   Transesophageal echocardiogram; Speckletracki...   \n",
              "11   Topology recognition; Leader election; Colore...   \n",
              "12   RETRAN-3D; Heat transfer; Condensation; Therm...   \n",
              "13   Contra-rotating fan; gearless; computational ...   \n",
              "14   inequity aversion; generosity; partiality; fa...   \n",
              "15   Mild cognitive impairment; Alzheimer's diseas...   \n",
              "16   Shear strength; Geosynthetic; Deposition plan...   \n",
              "17    Bpifb1; parotid acinar cells; NOD mouse           \n",
              "18   Soil moisture and ocean salinity (SMOS); Sea ...   \n",
              "19   shape-memory alloy; titanium-nickel alloy; su...   \n",
              "\n",
              "                                             Abstract  \n",
              "0   XML is a pervasive technology for representing...  \n",
              "1   The integration of renewable energy sources in...  \n",
              "2   The original free-swinging piston engine with ...  \n",
              "3   Barriers to access and long-term complications...  \n",
              "4   This paper is to present a technological solut...  \n",
              "5   Transposable elements (TEs) constitute the mos...  \n",
              "6   Cultural notions equating greater morality and...  \n",
              "7   Although data-based decision making can lead t...  \n",
              "8   Insomnia is common among elderly people and ne...  \n",
              "9   Cardinal trees (or tries of degree ) are a fun...  \n",
              "10  Vascular mechanics assessed with two-dimension...  \n",
              "11  Topology recognition and leader election are f...  \n",
              "12  The Great East Japan Earthquake occurred on Ma...  \n",
              "13  A gearless one-motor concept for contra-rotati...  \n",
              "14  Children and adults respond negatively to ineq...  \n",
              "15  Objective: To assess the accuracy of magnetic ...  \n",
              "16  The influence of the sand placement method abo...  \n",
              "17  OBJECTIVE: To define the increased mRNA expres...  \n",
              "18  The Soil Moisture and Ocean Salinity (SMOS) mi...  \n",
              "19  A SHAPE-MEMORY ALLOY (SMA) is expected to be a...  "
            ],
            "text/html": [
              "\n",
              "  <div id=\"df-c5acdf63-a6df-42b0-9604-f92fa515a4fb\" class=\"colab-df-container\">\n",
              "    <div>\n",
              "<style scoped>\n",
              "    .dataframe tbody tr th:only-of-type {\n",
              "        vertical-align: middle;\n",
              "    }\n",
              "\n",
              "    .dataframe tbody tr th {\n",
              "        vertical-align: top;\n",
              "    }\n",
              "\n",
              "    .dataframe thead th {\n",
              "        text-align: right;\n",
              "    }\n",
              "</style>\n",
              "<table border=\"1\" class=\"dataframe\">\n",
              "  <thead>\n",
              "    <tr style=\"text-align: right;\">\n",
              "      <th></th>\n",
              "      <th>Domain</th>\n",
              "      <th>area</th>\n",
              "      <th>keywords</th>\n",
              "      <th>Abstract</th>\n",
              "    </tr>\n",
              "  </thead>\n",
              "  <tbody>\n",
              "    <tr>\n",
              "      <th>0</th>\n",
              "      <td>CS</td>\n",
              "      <td>Data structures</td>\n",
              "      <td>In-memory XPath processing; NESTOR; Set-based...</td>\n",
              "      <td>XML is a pervasive technology for representing...</td>\n",
              "    </tr>\n",
              "    <tr>\n",
              "      <th>1</th>\n",
              "      <td>Civil</td>\n",
              "      <td>Ambient Intelligence</td>\n",
              "      <td>Home energy management; persuasive interface;...</td>\n",
              "      <td>The integration of renewable energy sources in...</td>\n",
              "    </tr>\n",
              "    <tr>\n",
              "      <th>2</th>\n",
              "      <td>ECE</td>\n",
              "      <td>Electrical generator</td>\n",
              "      <td>non-standard electrical machine; generation o...</td>\n",
              "      <td>The original free-swinging piston engine with ...</td>\n",
              "    </tr>\n",
              "    <tr>\n",
              "      <th>3</th>\n",
              "      <td>Medical</td>\n",
              "      <td>Hepatitis C</td>\n",
              "      <td>complications; patient engagement; patient-ce...</td>\n",
              "      <td>Barriers to access and long-term complications...</td>\n",
              "    </tr>\n",
              "    <tr>\n",
              "      <th>4</th>\n",
              "      <td>ECE</td>\n",
              "      <td>Control engineering</td>\n",
              "      <td>force feedback haptic interface; virtual real...</td>\n",
              "      <td>This paper is to present a technological solut...</td>\n",
              "    </tr>\n",
              "    <tr>\n",
              "      <th>5</th>\n",
              "      <td>CS</td>\n",
              "      <td>Bioinformatics</td>\n",
              "      <td>Bioinformatics; genomics</td>\n",
              "      <td>Transposable elements (TEs) constitute the mos...</td>\n",
              "    </tr>\n",
              "    <tr>\n",
              "      <th>6</th>\n",
              "      <td>Medical</td>\n",
              "      <td>Weight Loss</td>\n",
              "      <td>Obesity; weight loss; moral work; body projec...</td>\n",
              "      <td>Cultural notions equating greater morality and...</td>\n",
              "    </tr>\n",
              "    <tr>\n",
              "      <th>7</th>\n",
              "      <td>Psychology</td>\n",
              "      <td>Leadership</td>\n",
              "      <td>Data-based decision making; school improvemen...</td>\n",
              "      <td>Although data-based decision making can lead t...</td>\n",
              "    </tr>\n",
              "    <tr>\n",
              "      <th>8</th>\n",
              "      <td>Psychology</td>\n",
              "      <td>Seasonal affective disorder</td>\n",
              "      <td>Ramelteon; sleep; agomelatine; depression; in...</td>\n",
              "      <td>Insomnia is common among elderly people and ne...</td>\n",
              "    </tr>\n",
              "    <tr>\n",
              "      <th>9</th>\n",
              "      <td>CS</td>\n",
              "      <td>Data structures</td>\n",
              "      <td>Succinct dynamic data structures; Succinct tr...</td>\n",
              "      <td>Cardinal trees (or tries of degree ) are a fun...</td>\n",
              "    </tr>\n",
              "    <tr>\n",
              "      <th>10</th>\n",
              "      <td>Medical</td>\n",
              "      <td>Atrial Fibrillation</td>\n",
              "      <td>Transesophageal echocardiogram; Speckletracki...</td>\n",
              "      <td>Vascular mechanics assessed with two-dimension...</td>\n",
              "    </tr>\n",
              "    <tr>\n",
              "      <th>11</th>\n",
              "      <td>CS</td>\n",
              "      <td>Distributed computing</td>\n",
              "      <td>Topology recognition; Leader election; Colore...</td>\n",
              "      <td>Topology recognition and leader election are f...</td>\n",
              "    </tr>\n",
              "    <tr>\n",
              "      <th>12</th>\n",
              "      <td>MAE</td>\n",
              "      <td>Hydraulics</td>\n",
              "      <td>RETRAN-3D; Heat transfer; Condensation; Therm...</td>\n",
              "      <td>The Great East Japan Earthquake occurred on Ma...</td>\n",
              "    </tr>\n",
              "    <tr>\n",
              "      <th>13</th>\n",
              "      <td>ECE</td>\n",
              "      <td>Electric motor</td>\n",
              "      <td>Contra-rotating fan; gearless; computational ...</td>\n",
              "      <td>A gearless one-motor concept for contra-rotati...</td>\n",
              "    </tr>\n",
              "    <tr>\n",
              "      <th>14</th>\n",
              "      <td>Psychology</td>\n",
              "      <td>Prosocial behavior</td>\n",
              "      <td>inequity aversion; generosity; partiality; fa...</td>\n",
              "      <td>Children and adults respond negatively to ineq...</td>\n",
              "    </tr>\n",
              "    <tr>\n",
              "      <th>15</th>\n",
              "      <td>Medical</td>\n",
              "      <td>Alzheimer's Disease</td>\n",
              "      <td>Mild cognitive impairment; Alzheimer's diseas...</td>\n",
              "      <td>Objective: To assess the accuracy of magnetic ...</td>\n",
              "    </tr>\n",
              "    <tr>\n",
              "      <th>16</th>\n",
              "      <td>Civil</td>\n",
              "      <td>Geotextile</td>\n",
              "      <td>Shear strength; Geosynthetic; Deposition plan...</td>\n",
              "      <td>The influence of the sand placement method abo...</td>\n",
              "    </tr>\n",
              "    <tr>\n",
              "      <th>17</th>\n",
              "      <td>biochemistry</td>\n",
              "      <td>Northern blotting</td>\n",
              "      <td>Bpifb1; parotid acinar cells; NOD mouse</td>\n",
              "      <td>OBJECTIVE: To define the increased mRNA expres...</td>\n",
              "    </tr>\n",
              "    <tr>\n",
              "      <th>18</th>\n",
              "      <td>Civil</td>\n",
              "      <td>Remote Sensing</td>\n",
              "      <td>Soil moisture and ocean salinity (SMOS); Sea ...</td>\n",
              "      <td>The Soil Moisture and Ocean Salinity (SMOS) mi...</td>\n",
              "    </tr>\n",
              "    <tr>\n",
              "      <th>19</th>\n",
              "      <td>Civil</td>\n",
              "      <td>Smart Material</td>\n",
              "      <td>shape-memory alloy; titanium-nickel alloy; su...</td>\n",
              "      <td>A SHAPE-MEMORY ALLOY (SMA) is expected to be a...</td>\n",
              "    </tr>\n",
              "  </tbody>\n",
              "</table>\n",
              "</div>\n",
              "    <div class=\"colab-df-buttons\">\n",
              "\n",
              "  <div class=\"colab-df-container\">\n",
              "    <button class=\"colab-df-convert\" onclick=\"convertToInteractive('df-c5acdf63-a6df-42b0-9604-f92fa515a4fb')\"\n",
              "            title=\"Convert this dataframe to an interactive table.\"\n",
              "            style=\"display:none;\">\n",
              "\n",
              "  <svg xmlns=\"http://www.w3.org/2000/svg\" height=\"24px\" viewBox=\"0 -960 960 960\">\n",
              "    <path d=\"M120-120v-720h720v720H120Zm60-500h600v-160H180v160Zm220 220h160v-160H400v160Zm0 220h160v-160H400v160ZM180-400h160v-160H180v160Zm440 0h160v-160H620v160ZM180-180h160v-160H180v160Zm440 0h160v-160H620v160Z\"/>\n",
              "  </svg>\n",
              "    </button>\n",
              "\n",
              "  <style>\n",
              "    .colab-df-container {\n",
              "      display:flex;\n",
              "      gap: 12px;\n",
              "    }\n",
              "\n",
              "    .colab-df-convert {\n",
              "      background-color: #E8F0FE;\n",
              "      border: none;\n",
              "      border-radius: 50%;\n",
              "      cursor: pointer;\n",
              "      display: none;\n",
              "      fill: #1967D2;\n",
              "      height: 32px;\n",
              "      padding: 0 0 0 0;\n",
              "      width: 32px;\n",
              "    }\n",
              "\n",
              "    .colab-df-convert:hover {\n",
              "      background-color: #E2EBFA;\n",
              "      box-shadow: 0px 1px 2px rgba(60, 64, 67, 0.3), 0px 1px 3px 1px rgba(60, 64, 67, 0.15);\n",
              "      fill: #174EA6;\n",
              "    }\n",
              "\n",
              "    .colab-df-buttons div {\n",
              "      margin-bottom: 4px;\n",
              "    }\n",
              "\n",
              "    [theme=dark] .colab-df-convert {\n",
              "      background-color: #3B4455;\n",
              "      fill: #D2E3FC;\n",
              "    }\n",
              "\n",
              "    [theme=dark] .colab-df-convert:hover {\n",
              "      background-color: #434B5C;\n",
              "      box-shadow: 0px 1px 3px 1px rgba(0, 0, 0, 0.15);\n",
              "      filter: drop-shadow(0px 1px 2px rgba(0, 0, 0, 0.3));\n",
              "      fill: #FFFFFF;\n",
              "    }\n",
              "  </style>\n",
              "\n",
              "    <script>\n",
              "      const buttonEl =\n",
              "        document.querySelector('#df-c5acdf63-a6df-42b0-9604-f92fa515a4fb button.colab-df-convert');\n",
              "      buttonEl.style.display =\n",
              "        google.colab.kernel.accessAllowed ? 'block' : 'none';\n",
              "\n",
              "      async function convertToInteractive(key) {\n",
              "        const element = document.querySelector('#df-c5acdf63-a6df-42b0-9604-f92fa515a4fb');\n",
              "        const dataTable =\n",
              "          await google.colab.kernel.invokeFunction('convertToInteractive',\n",
              "                                                    [key], {});\n",
              "        if (!dataTable) return;\n",
              "\n",
              "        const docLinkHtml = 'Like what you see? Visit the ' +\n",
              "          '<a target=\"_blank\" href=https://colab.research.google.com/notebooks/data_table.ipynb>data table notebook</a>'\n",
              "          + ' to learn more about interactive tables.';\n",
              "        element.innerHTML = '';\n",
              "        dataTable['output_type'] = 'display_data';\n",
              "        await google.colab.output.renderOutput(dataTable, element);\n",
              "        const docLink = document.createElement('div');\n",
              "        docLink.innerHTML = docLinkHtml;\n",
              "        element.appendChild(docLink);\n",
              "      }\n",
              "    </script>\n",
              "  </div>\n",
              "\n",
              "\n",
              "<div id=\"df-6de7dc1a-3e6a-4ae8-9cad-73b474d28461\">\n",
              "  <button class=\"colab-df-quickchart\" onclick=\"quickchart('df-6de7dc1a-3e6a-4ae8-9cad-73b474d28461')\"\n",
              "            title=\"Suggest charts\"\n",
              "            style=\"display:none;\">\n",
              "\n",
              "<svg xmlns=\"http://www.w3.org/2000/svg\" height=\"24px\"viewBox=\"0 0 24 24\"\n",
              "     width=\"24px\">\n",
              "    <g>\n",
              "        <path d=\"M19 3H5c-1.1 0-2 .9-2 2v14c0 1.1.9 2 2 2h14c1.1 0 2-.9 2-2V5c0-1.1-.9-2-2-2zM9 17H7v-7h2v7zm4 0h-2V7h2v10zm4 0h-2v-4h2v4z\"/>\n",
              "    </g>\n",
              "</svg>\n",
              "  </button>\n",
              "\n",
              "<style>\n",
              "  .colab-df-quickchart {\n",
              "      --bg-color: #E8F0FE;\n",
              "      --fill-color: #1967D2;\n",
              "      --hover-bg-color: #E2EBFA;\n",
              "      --hover-fill-color: #174EA6;\n",
              "      --disabled-fill-color: #AAA;\n",
              "      --disabled-bg-color: #DDD;\n",
              "  }\n",
              "\n",
              "  [theme=dark] .colab-df-quickchart {\n",
              "      --bg-color: #3B4455;\n",
              "      --fill-color: #D2E3FC;\n",
              "      --hover-bg-color: #434B5C;\n",
              "      --hover-fill-color: #FFFFFF;\n",
              "      --disabled-bg-color: #3B4455;\n",
              "      --disabled-fill-color: #666;\n",
              "  }\n",
              "\n",
              "  .colab-df-quickchart {\n",
              "    background-color: var(--bg-color);\n",
              "    border: none;\n",
              "    border-radius: 50%;\n",
              "    cursor: pointer;\n",
              "    display: none;\n",
              "    fill: var(--fill-color);\n",
              "    height: 32px;\n",
              "    padding: 0;\n",
              "    width: 32px;\n",
              "  }\n",
              "\n",
              "  .colab-df-quickchart:hover {\n",
              "    background-color: var(--hover-bg-color);\n",
              "    box-shadow: 0 1px 2px rgba(60, 64, 67, 0.3), 0 1px 3px 1px rgba(60, 64, 67, 0.15);\n",
              "    fill: var(--button-hover-fill-color);\n",
              "  }\n",
              "\n",
              "  .colab-df-quickchart-complete:disabled,\n",
              "  .colab-df-quickchart-complete:disabled:hover {\n",
              "    background-color: var(--disabled-bg-color);\n",
              "    fill: var(--disabled-fill-color);\n",
              "    box-shadow: none;\n",
              "  }\n",
              "\n",
              "  .colab-df-spinner {\n",
              "    border: 2px solid var(--fill-color);\n",
              "    border-color: transparent;\n",
              "    border-bottom-color: var(--fill-color);\n",
              "    animation:\n",
              "      spin 1s steps(1) infinite;\n",
              "  }\n",
              "\n",
              "  @keyframes spin {\n",
              "    0% {\n",
              "      border-color: transparent;\n",
              "      border-bottom-color: var(--fill-color);\n",
              "      border-left-color: var(--fill-color);\n",
              "    }\n",
              "    20% {\n",
              "      border-color: transparent;\n",
              "      border-left-color: var(--fill-color);\n",
              "      border-top-color: var(--fill-color);\n",
              "    }\n",
              "    30% {\n",
              "      border-color: transparent;\n",
              "      border-left-color: var(--fill-color);\n",
              "      border-top-color: var(--fill-color);\n",
              "      border-right-color: var(--fill-color);\n",
              "    }\n",
              "    40% {\n",
              "      border-color: transparent;\n",
              "      border-right-color: var(--fill-color);\n",
              "      border-top-color: var(--fill-color);\n",
              "    }\n",
              "    60% {\n",
              "      border-color: transparent;\n",
              "      border-right-color: var(--fill-color);\n",
              "    }\n",
              "    80% {\n",
              "      border-color: transparent;\n",
              "      border-right-color: var(--fill-color);\n",
              "      border-bottom-color: var(--fill-color);\n",
              "    }\n",
              "    90% {\n",
              "      border-color: transparent;\n",
              "      border-bottom-color: var(--fill-color);\n",
              "    }\n",
              "  }\n",
              "</style>\n",
              "\n",
              "  <script>\n",
              "    async function quickchart(key) {\n",
              "      const quickchartButtonEl =\n",
              "        document.querySelector('#' + key + ' button');\n",
              "      quickchartButtonEl.disabled = true;  // To prevent multiple clicks.\n",
              "      quickchartButtonEl.classList.add('colab-df-spinner');\n",
              "      try {\n",
              "        const charts = await google.colab.kernel.invokeFunction(\n",
              "            'suggestCharts', [key], {});\n",
              "      } catch (error) {\n",
              "        console.error('Error during call to suggestCharts:', error);\n",
              "      }\n",
              "      quickchartButtonEl.classList.remove('colab-df-spinner');\n",
              "      quickchartButtonEl.classList.add('colab-df-quickchart-complete');\n",
              "    }\n",
              "    (() => {\n",
              "      let quickchartButtonEl =\n",
              "        document.querySelector('#df-6de7dc1a-3e6a-4ae8-9cad-73b474d28461 button');\n",
              "      quickchartButtonEl.style.display =\n",
              "        google.colab.kernel.accessAllowed ? 'block' : 'none';\n",
              "    })();\n",
              "  </script>\n",
              "</div>\n",
              "\n",
              "  <div id=\"id_6a565396-aa5f-418f-b383-0de2d161bd93\">\n",
              "    <style>\n",
              "      .colab-df-generate {\n",
              "        background-color: #E8F0FE;\n",
              "        border: none;\n",
              "        border-radius: 50%;\n",
              "        cursor: pointer;\n",
              "        display: none;\n",
              "        fill: #1967D2;\n",
              "        height: 32px;\n",
              "        padding: 0 0 0 0;\n",
              "        width: 32px;\n",
              "      }\n",
              "\n",
              "      .colab-df-generate:hover {\n",
              "        background-color: #E2EBFA;\n",
              "        box-shadow: 0px 1px 2px rgba(60, 64, 67, 0.3), 0px 1px 3px 1px rgba(60, 64, 67, 0.15);\n",
              "        fill: #174EA6;\n",
              "      }\n",
              "\n",
              "      [theme=dark] .colab-df-generate {\n",
              "        background-color: #3B4455;\n",
              "        fill: #D2E3FC;\n",
              "      }\n",
              "\n",
              "      [theme=dark] .colab-df-generate:hover {\n",
              "        background-color: #434B5C;\n",
              "        box-shadow: 0px 1px 3px 1px rgba(0, 0, 0, 0.15);\n",
              "        filter: drop-shadow(0px 1px 2px rgba(0, 0, 0, 0.3));\n",
              "        fill: #FFFFFF;\n",
              "      }\n",
              "    </style>\n",
              "    <button class=\"colab-df-generate\" onclick=\"generateWithVariable('df_test')\"\n",
              "            title=\"Generate code using this dataframe.\"\n",
              "            style=\"display:none;\">\n",
              "\n",
              "  <svg xmlns=\"http://www.w3.org/2000/svg\" height=\"24px\"viewBox=\"0 0 24 24\"\n",
              "       width=\"24px\">\n",
              "    <path d=\"M7,19H8.4L18.45,9,17,7.55,7,17.6ZM5,21V16.75L18.45,3.32a2,2,0,0,1,2.83,0l1.4,1.43a1.91,1.91,0,0,1,.58,1.4,1.91,1.91,0,0,1-.58,1.4L9.25,21ZM18.45,9,17,7.55Zm-12,3A5.31,5.31,0,0,0,4.9,8.1,5.31,5.31,0,0,0,1,6.5,5.31,5.31,0,0,0,4.9,4.9,5.31,5.31,0,0,0,6.5,1,5.31,5.31,0,0,0,8.1,4.9,5.31,5.31,0,0,0,12,6.5,5.46,5.46,0,0,0,6.5,12Z\"/>\n",
              "  </svg>\n",
              "    </button>\n",
              "    <script>\n",
              "      (() => {\n",
              "      const buttonEl =\n",
              "        document.querySelector('#id_6a565396-aa5f-418f-b383-0de2d161bd93 button.colab-df-generate');\n",
              "      buttonEl.style.display =\n",
              "        google.colab.kernel.accessAllowed ? 'block' : 'none';\n",
              "\n",
              "      buttonEl.onclick = () => {\n",
              "        google.colab.notebook.generateWithVariable('df_test');\n",
              "      }\n",
              "      })();\n",
              "    </script>\n",
              "  </div>\n",
              "\n",
              "    </div>\n",
              "  </div>\n"
            ],
            "application/vnd.google.colaboratory.intrinsic+json": {
              "type": "dataframe",
              "variable_name": "df_test",
              "summary": "{\n  \"name\": \"df_test\",\n  \"rows\": 20,\n  \"fields\": [\n    {\n      \"column\": \"Domain\",\n      \"properties\": {\n        \"dtype\": \"category\",\n        \"num_unique_values\": 7,\n        \"samples\": [\n          \"CS \",\n          \"Civil \",\n          \"MAE \"\n        ],\n        \"semantic_type\": \"\",\n        \"description\": \"\"\n      }\n    },\n    {\n      \"column\": \"area\",\n      \"properties\": {\n        \"dtype\": \"string\",\n        \"num_unique_values\": 19,\n        \"samples\": [\n          \" Data structures  \",\n          \" Bioinformatics  \",\n          \" Hydraulics  \"\n        ],\n        \"semantic_type\": \"\",\n        \"description\": \"\"\n      }\n    },\n    {\n      \"column\": \"keywords\",\n      \"properties\": {\n        \"dtype\": \"string\",\n        \"num_unique_values\": 20,\n        \"samples\": [\n          \" In-memory XPath processing; NESTOR; Set-based data models; Data structures        \",\n          \" Bpifb1; parotid acinar cells; NOD mouse        \",\n          \" Mild cognitive impairment; Alzheimer's disease; Magnetic resonance spectroscopy; Brain volumetry        \"\n        ],\n        \"semantic_type\": \"\",\n        \"description\": \"\"\n      }\n    },\n    {\n      \"column\": \"Abstract\",\n      \"properties\": {\n        \"dtype\": \"string\",\n        \"num_unique_values\": 20,\n        \"samples\": [\n          \"XML is a pervasive technology for representing and accessing semi-structured data. XPath is the standard language for navigational queries on XML documents and there is a growing demand for its efficient processing. In order to increase the efficiency in executing four navigational XML query primitives, namely descendants, ancestors, children and parent, we introduce a new paradigm where traditional approaches based on the efficient traversing of nodes and edges to reconstruct the requested subtrees are replaced by a brand new one based on basic set operations which allow us to directly return the desired subtree, avoiding to create it passing through nodes and edges. Our solution stems from the NEsted SeTs for Object hieRarchies (NEASTOR) formal model, which makes use of set-inclusion relations for representing and providing access to hierarchical data. We define in-memory efficient data structures to implement NESTOR, we develop algorithms to perform the descendants, ancestors, children and parent query primitives and we study their computational complexity. We conduct an extensive experimental evaluation by using several datasets: digital archives (EAD collections), INEX 2009 Wikipedia collection, and two widely-used synthetic datasets (XMark and XGen). We show that NESTOR-based data structures and query primitives consistently outperform state-of-the-art solutions for XPath processing at execution time and they are competitive in terms of both memory occupation and pre-processing time. (C) 2015 Elsevier Ltd. All rights reserved.\",\n          \"OBJECTIVE: To define the increased mRNA expression of Bpifb1, a member of the bactericidal/permeability-increasing protein family, in parotid acinar cells from non-obese diabetic (NOD) mice, an animal model for Sjogren's syndrome. MATERIALS AND METHODS: Parotid acinar cells were prepared from female NOD (NOD/ShiJcl) mice with or without diabetes, as well as from control (C57BL/6JJcl) mice. Total RNA and homogenate were prepared from the parotid acinar cells. Embryonic cDNA from a Mouse MTC (TM) Panel I kit was used. The expression of Bpifb1 was determined by cDNA microarray analysis, RT-PCR, real-time PCR, northern blotting and in situ hybridization. RESULTS: The expression of Bpifb1 mRNA was high in parotid acinar cells from diabetic and non-diabetic NOD mice at 5-50 weeks of age. Acinar cells in the C57BL/6 mice had a low expression of Bpifb1 mRNA at an age >8 weeks, but had a relatively high expression in the foetus and infantile stages. CONCLUSIONS: Bpifb1 mRNA is upregulated in parotid acinar cells in NOD mice, but its expression is not related to the onset of diabetes. These findings suggest that high expression levels of Bpifb1 might predict disease traits before the onset of autoimmunity.\",\n          \"Objective: To assess the accuracy of magnetic resonance spectroscopy (1H-MRS) and brain volumetry in mild cognitive impairment (MCI) to predict conversion to probable Alzheimer's disease (AD). Methods: Forty-eight patients fulfilling the criteria of amnestic MCI who underwent a conventional magnetic resonance imaging (MRI) followed by MRS, and T1-3D on 1.5 Tesla MR unit. At baseline the patients underwent neuropsychological examination. 1H-MRS of the brain was carried out by exploring the left medial occipital lobe and ventral posterior cingulated cortex (vPCC) using the LCModel software. A high resolution T1-3D sequence was acquired to carry out the volumetric measurement. A cortical and subcortical parcellation strategy was used to obtain the volumes of each area within the brain. The patients were followed up to detect conversion to probable AD. Results: After a 3-year follow-up, 15 (31.2%) patients converted to AD. The myo-inositol in the occipital cortex and glutamate + glutamine (Glx) in the posterior cingulate cortex predicted conversion to probable AD at 46.1% sensitivity and 90.6% specificity. The positive predictive value was 66.7%, and the negative predictive value was 80.6%, with an overall cross-validated classification accuracy of 77.8%. The volume of the third ventricle, the total white matter and entorhinal cortex predict conversion to probable AD at 46.7% sensitivity and 90.9% specificity. The positive predictive value was 70%, and the negative predictive value was 78.9%, with an overall cross validated classification accuracy of 77.1%. Combining volumetric measures in addition to the MRS measures the prediction to probable AD has a 38.5% sensitivity and 87.5% specificity, with a positive predictive value of 55.6%, a negative predictive value of 77.8% and an overall accuracy of 733%. Conclusion: Either MRS or brain volumetric measures are markers separately of cognitive decline and may serve as a noninvasive tool to monitor cognitive changes and progression to dementia in patients with amnestic MCI, but the results do not support the routine use in the clinical settings. (C) 2016 Elsevier Inc. All rights reserved.\"\n        ],\n        \"semantic_type\": \"\",\n        \"description\": \"\"\n      }\n    }\n  ]\n}"
            }
          },
          "metadata": {},
          "execution_count": 8
        }
      ]
    },
    {
      "cell_type": "code",
      "source": [
        "lst_actual=df_test['Domain'].str.strip().tolist()\n",
        "lst_actual"
      ],
      "metadata": {
        "id": "vuWJZFwoQuib",
        "colab": {
          "base_uri": "https://localhost:8080/"
        },
        "outputId": "214d5fa7-7d1f-478a-97d1-e0765d4eb670"
      },
      "execution_count": 9,
      "outputs": [
        {
          "output_type": "execute_result",
          "data": {
            "text/plain": [
              "['CS',\n",
              " 'Civil',\n",
              " 'ECE',\n",
              " 'Medical',\n",
              " 'ECE',\n",
              " 'CS',\n",
              " 'Medical',\n",
              " 'Psychology',\n",
              " 'Psychology',\n",
              " 'CS',\n",
              " 'Medical',\n",
              " 'CS',\n",
              " 'MAE',\n",
              " 'ECE',\n",
              " 'Psychology',\n",
              " 'Medical',\n",
              " 'Civil',\n",
              " 'biochemistry',\n",
              " 'Civil',\n",
              " 'Civil']"
            ]
          },
          "metadata": {},
          "execution_count": 9
        }
      ]
    },
    {
      "cell_type": "code",
      "source": [
        "total=len(lst_actual)\n",
        "total"
      ],
      "metadata": {
        "id": "6JmORue7Q0JE",
        "colab": {
          "base_uri": "https://localhost:8080/"
        },
        "outputId": "58a0e400-eecb-4e95-985d-5b82f3bf547f"
      },
      "execution_count": 10,
      "outputs": [
        {
          "output_type": "execute_result",
          "data": {
            "text/plain": [
              "20"
            ]
          },
          "metadata": {},
          "execution_count": 10
        }
      ]
    },
    {
      "cell_type": "code",
      "source": [
        "correct=0\n",
        "for i in range(total):\n",
        "  if lst_actual[i]==lst[i]:\n",
        "    correct+=1\n",
        "correct"
      ],
      "metadata": {
        "id": "aBUdxCGYQ1Ho",
        "colab": {
          "base_uri": "https://localhost:8080/"
        },
        "outputId": "8c57522f-3068-4c26-fe2c-c8d682e9ffdc"
      },
      "execution_count": 11,
      "outputs": [
        {
          "output_type": "execute_result",
          "data": {
            "text/plain": [
              "11"
            ]
          },
          "metadata": {},
          "execution_count": 11
        }
      ]
    },
    {
      "cell_type": "code",
      "source": [
        "accuracy=correct/total\n",
        "accuracy"
      ],
      "metadata": {
        "id": "hVl41-hjQ2XJ",
        "colab": {
          "base_uri": "https://localhost:8080/"
        },
        "outputId": "d024498e-5abe-4b7c-a307-c847ad5d27aa"
      },
      "execution_count": 12,
      "outputs": [
        {
          "output_type": "execute_result",
          "data": {
            "text/plain": [
              "0.55"
            ]
          },
          "metadata": {},
          "execution_count": 12
        }
      ]
    },
    {
      "cell_type": "markdown",
      "source": [
        "https://chat.openai.com/share/e6806eaa-8386-4453-8a07-c4af2538daab"
      ],
      "metadata": {
        "id": "gndeKRm-Q8Ye"
      }
    },
    {
      "cell_type": "markdown",
      "source": [
        "## Q2."
      ],
      "metadata": {
        "id": "-ylq1RuESB1r"
      }
    },
    {
      "cell_type": "code",
      "source": [
        "lst_trained=['CS', 'ECE', 'MAE', 'Medical', 'ECE', 'biochemistry', 'Psychology', 'Psychology', 'Medical', 'CS', 'Medical', 'CS', 'MAE', 'MAE', 'Psychology', 'Medical', 'Civil', 'Medical', 'MAE', 'MAE']\n",
        "lst_trained"
      ],
      "metadata": {
        "id": "UiONVGI_SDUq",
        "colab": {
          "base_uri": "https://localhost:8080/"
        },
        "outputId": "3399d6d8-4c1c-4af7-f60c-c3f728f51ccd"
      },
      "execution_count": 13,
      "outputs": [
        {
          "output_type": "execute_result",
          "data": {
            "text/plain": [
              "['CS',\n",
              " 'ECE',\n",
              " 'MAE',\n",
              " 'Medical',\n",
              " 'ECE',\n",
              " 'biochemistry',\n",
              " 'Psychology',\n",
              " 'Psychology',\n",
              " 'Medical',\n",
              " 'CS',\n",
              " 'Medical',\n",
              " 'CS',\n",
              " 'MAE',\n",
              " 'MAE',\n",
              " 'Psychology',\n",
              " 'Medical',\n",
              " 'Civil',\n",
              " 'Medical',\n",
              " 'MAE',\n",
              " 'MAE']"
            ]
          },
          "metadata": {},
          "execution_count": 13
        }
      ]
    },
    {
      "cell_type": "code",
      "source": [
        "len(lst_trained)"
      ],
      "metadata": {
        "id": "PsU5r3hCSLPZ",
        "colab": {
          "base_uri": "https://localhost:8080/"
        },
        "outputId": "d3624a7d-7496-4882-b7d0-5011687bcacc"
      },
      "execution_count": 14,
      "outputs": [
        {
          "output_type": "execute_result",
          "data": {
            "text/plain": [
              "20"
            ]
          },
          "metadata": {},
          "execution_count": 14
        }
      ]
    },
    {
      "cell_type": "code",
      "source": [
        "lst_actual"
      ],
      "metadata": {
        "id": "HXEQ57thSmQT",
        "colab": {
          "base_uri": "https://localhost:8080/"
        },
        "outputId": "071bf2b0-9cf6-48eb-afbf-c2403ac5675e"
      },
      "execution_count": 15,
      "outputs": [
        {
          "output_type": "execute_result",
          "data": {
            "text/plain": [
              "['CS',\n",
              " 'Civil',\n",
              " 'ECE',\n",
              " 'Medical',\n",
              " 'ECE',\n",
              " 'CS',\n",
              " 'Medical',\n",
              " 'Psychology',\n",
              " 'Psychology',\n",
              " 'CS',\n",
              " 'Medical',\n",
              " 'CS',\n",
              " 'MAE',\n",
              " 'ECE',\n",
              " 'Psychology',\n",
              " 'Medical',\n",
              " 'Civil',\n",
              " 'biochemistry',\n",
              " 'Civil',\n",
              " 'Civil']"
            ]
          },
          "metadata": {},
          "execution_count": 15
        }
      ]
    },
    {
      "cell_type": "code",
      "source": [
        "total = len(lst_actual)\n",
        "total"
      ],
      "metadata": {
        "id": "BwwvRF3FSpik",
        "colab": {
          "base_uri": "https://localhost:8080/"
        },
        "outputId": "2250b9fd-6798-48c3-9904-a444476801a0"
      },
      "execution_count": 16,
      "outputs": [
        {
          "output_type": "execute_result",
          "data": {
            "text/plain": [
              "20"
            ]
          },
          "metadata": {},
          "execution_count": 16
        }
      ]
    },
    {
      "cell_type": "code",
      "source": [
        "correct_trained=0\n",
        "for i in range(total):\n",
        "  if lst_trained[i]==lst_actual[i]:\n",
        "    correct_trained+=1\n",
        "correct_trained"
      ],
      "metadata": {
        "id": "jIT_RH5RStrL",
        "colab": {
          "base_uri": "https://localhost:8080/"
        },
        "outputId": "2ca5914f-7ed0-4ccd-d2eb-94ef7154ba54"
      },
      "execution_count": 17,
      "outputs": [
        {
          "output_type": "execute_result",
          "data": {
            "text/plain": [
              "11"
            ]
          },
          "metadata": {},
          "execution_count": 17
        }
      ]
    },
    {
      "cell_type": "code",
      "source": [
        "accuracy_trained=correct_trained/total\n",
        "accuracy_trained"
      ],
      "metadata": {
        "id": "EcstX2w8Sw-v",
        "colab": {
          "base_uri": "https://localhost:8080/"
        },
        "outputId": "fe853c79-c486-4466-8791-a2c1de7c3251"
      },
      "execution_count": 18,
      "outputs": [
        {
          "output_type": "execute_result",
          "data": {
            "text/plain": [
              "0.55"
            ]
          },
          "metadata": {},
          "execution_count": 18
        }
      ]
    },
    {
      "cell_type": "markdown",
      "source": [
        "https://chat.openai.com/share/33d4ef90-0d5a-494b-a3ad-a88f68954427"
      ],
      "metadata": {
        "id": "lwZOgcSnS39M"
      }
    },
    {
      "cell_type": "markdown",
      "source": [
        "# Question #3: Prepare the data for fine-tuning using OpenAI Playground"
      ],
      "metadata": {
        "id": "8790tgYT9eLv"
      }
    },
    {
      "cell_type": "code",
      "source": [
        "# Load training, test, and validation sets\n",
        "def load_data(PATH):\n",
        "  try:\n",
        "    data=pd.read_csv(PATH)\n",
        "    return data\n",
        "  except:\n",
        "    raise NotImplementedError"
      ],
      "metadata": {
        "id": "8fePXMKv8nng"
      },
      "execution_count": 19,
      "outputs": []
    },
    {
      "cell_type": "code",
      "source": [
        "df_train=load_data('/content/drive/My Drive/training.csv')\n",
        "df_train.head()"
      ],
      "metadata": {
        "id": "vpKWuCfzGqu5",
        "colab": {
          "base_uri": "https://localhost:8080/",
          "height": 206
        },
        "outputId": "2c6c93d9-07eb-45ca-d359-93ab4fa3e344"
      },
      "execution_count": 20,
      "outputs": [
        {
          "output_type": "execute_result",
          "data": {
            "text/plain": [
              "         Domain                      area  \\\n",
              "0      Medical              Hepatitis C     \n",
              "1           CS    Distributed computing     \n",
              "2          ECE      Control engineering     \n",
              "3  Psychology            False memories     \n",
              "4  Psychology                Leadership     \n",
              "\n",
              "                                            keywords  \\\n",
              "0   Feasibility study; hepatitis C risk behaviour...   \n",
              "1   Agent Architecture; Mobile Agent; Agent Cloni...   \n",
              "2   educational software tool; multivariable cont...   \n",
              "3   judgment; metamemory; accuracy; eyewitness me...   \n",
              "4   Implementation support; Co-occurring disorder...   \n",
              "\n",
              "                                            Abstract  \n",
              "0  Aims: This study aimed to develop and test the...  \n",
              "1  Mobile agent technology is becoming more popul...  \n",
              "2  This paper presents an educational software to...  \n",
              "3  Different researchers have reported positive, ...  \n",
              "4  Background: Incorporating evidence-based integ...  "
            ],
            "text/html": [
              "\n",
              "  <div id=\"df-589fb682-5f66-4663-ba34-e2e1e6410a1b\" class=\"colab-df-container\">\n",
              "    <div>\n",
              "<style scoped>\n",
              "    .dataframe tbody tr th:only-of-type {\n",
              "        vertical-align: middle;\n",
              "    }\n",
              "\n",
              "    .dataframe tbody tr th {\n",
              "        vertical-align: top;\n",
              "    }\n",
              "\n",
              "    .dataframe thead th {\n",
              "        text-align: right;\n",
              "    }\n",
              "</style>\n",
              "<table border=\"1\" class=\"dataframe\">\n",
              "  <thead>\n",
              "    <tr style=\"text-align: right;\">\n",
              "      <th></th>\n",
              "      <th>Domain</th>\n",
              "      <th>area</th>\n",
              "      <th>keywords</th>\n",
              "      <th>Abstract</th>\n",
              "    </tr>\n",
              "  </thead>\n",
              "  <tbody>\n",
              "    <tr>\n",
              "      <th>0</th>\n",
              "      <td>Medical</td>\n",
              "      <td>Hepatitis C</td>\n",
              "      <td>Feasibility study; hepatitis C risk behaviour...</td>\n",
              "      <td>Aims: This study aimed to develop and test the...</td>\n",
              "    </tr>\n",
              "    <tr>\n",
              "      <th>1</th>\n",
              "      <td>CS</td>\n",
              "      <td>Distributed computing</td>\n",
              "      <td>Agent Architecture; Mobile Agent; Agent Cloni...</td>\n",
              "      <td>Mobile agent technology is becoming more popul...</td>\n",
              "    </tr>\n",
              "    <tr>\n",
              "      <th>2</th>\n",
              "      <td>ECE</td>\n",
              "      <td>Control engineering</td>\n",
              "      <td>educational software tool; multivariable cont...</td>\n",
              "      <td>This paper presents an educational software to...</td>\n",
              "    </tr>\n",
              "    <tr>\n",
              "      <th>3</th>\n",
              "      <td>Psychology</td>\n",
              "      <td>False memories</td>\n",
              "      <td>judgment; metamemory; accuracy; eyewitness me...</td>\n",
              "      <td>Different researchers have reported positive, ...</td>\n",
              "    </tr>\n",
              "    <tr>\n",
              "      <th>4</th>\n",
              "      <td>Psychology</td>\n",
              "      <td>Leadership</td>\n",
              "      <td>Implementation support; Co-occurring disorder...</td>\n",
              "      <td>Background: Incorporating evidence-based integ...</td>\n",
              "    </tr>\n",
              "  </tbody>\n",
              "</table>\n",
              "</div>\n",
              "    <div class=\"colab-df-buttons\">\n",
              "\n",
              "  <div class=\"colab-df-container\">\n",
              "    <button class=\"colab-df-convert\" onclick=\"convertToInteractive('df-589fb682-5f66-4663-ba34-e2e1e6410a1b')\"\n",
              "            title=\"Convert this dataframe to an interactive table.\"\n",
              "            style=\"display:none;\">\n",
              "\n",
              "  <svg xmlns=\"http://www.w3.org/2000/svg\" height=\"24px\" viewBox=\"0 -960 960 960\">\n",
              "    <path d=\"M120-120v-720h720v720H120Zm60-500h600v-160H180v160Zm220 220h160v-160H400v160Zm0 220h160v-160H400v160ZM180-400h160v-160H180v160Zm440 0h160v-160H620v160ZM180-180h160v-160H180v160Zm440 0h160v-160H620v160Z\"/>\n",
              "  </svg>\n",
              "    </button>\n",
              "\n",
              "  <style>\n",
              "    .colab-df-container {\n",
              "      display:flex;\n",
              "      gap: 12px;\n",
              "    }\n",
              "\n",
              "    .colab-df-convert {\n",
              "      background-color: #E8F0FE;\n",
              "      border: none;\n",
              "      border-radius: 50%;\n",
              "      cursor: pointer;\n",
              "      display: none;\n",
              "      fill: #1967D2;\n",
              "      height: 32px;\n",
              "      padding: 0 0 0 0;\n",
              "      width: 32px;\n",
              "    }\n",
              "\n",
              "    .colab-df-convert:hover {\n",
              "      background-color: #E2EBFA;\n",
              "      box-shadow: 0px 1px 2px rgba(60, 64, 67, 0.3), 0px 1px 3px 1px rgba(60, 64, 67, 0.15);\n",
              "      fill: #174EA6;\n",
              "    }\n",
              "\n",
              "    .colab-df-buttons div {\n",
              "      margin-bottom: 4px;\n",
              "    }\n",
              "\n",
              "    [theme=dark] .colab-df-convert {\n",
              "      background-color: #3B4455;\n",
              "      fill: #D2E3FC;\n",
              "    }\n",
              "\n",
              "    [theme=dark] .colab-df-convert:hover {\n",
              "      background-color: #434B5C;\n",
              "      box-shadow: 0px 1px 3px 1px rgba(0, 0, 0, 0.15);\n",
              "      filter: drop-shadow(0px 1px 2px rgba(0, 0, 0, 0.3));\n",
              "      fill: #FFFFFF;\n",
              "    }\n",
              "  </style>\n",
              "\n",
              "    <script>\n",
              "      const buttonEl =\n",
              "        document.querySelector('#df-589fb682-5f66-4663-ba34-e2e1e6410a1b button.colab-df-convert');\n",
              "      buttonEl.style.display =\n",
              "        google.colab.kernel.accessAllowed ? 'block' : 'none';\n",
              "\n",
              "      async function convertToInteractive(key) {\n",
              "        const element = document.querySelector('#df-589fb682-5f66-4663-ba34-e2e1e6410a1b');\n",
              "        const dataTable =\n",
              "          await google.colab.kernel.invokeFunction('convertToInteractive',\n",
              "                                                    [key], {});\n",
              "        if (!dataTable) return;\n",
              "\n",
              "        const docLinkHtml = 'Like what you see? Visit the ' +\n",
              "          '<a target=\"_blank\" href=https://colab.research.google.com/notebooks/data_table.ipynb>data table notebook</a>'\n",
              "          + ' to learn more about interactive tables.';\n",
              "        element.innerHTML = '';\n",
              "        dataTable['output_type'] = 'display_data';\n",
              "        await google.colab.output.renderOutput(dataTable, element);\n",
              "        const docLink = document.createElement('div');\n",
              "        docLink.innerHTML = docLinkHtml;\n",
              "        element.appendChild(docLink);\n",
              "      }\n",
              "    </script>\n",
              "  </div>\n",
              "\n",
              "\n",
              "<div id=\"df-c50c6bc2-70ff-42c6-8adf-4d8e4bc21780\">\n",
              "  <button class=\"colab-df-quickchart\" onclick=\"quickchart('df-c50c6bc2-70ff-42c6-8adf-4d8e4bc21780')\"\n",
              "            title=\"Suggest charts\"\n",
              "            style=\"display:none;\">\n",
              "\n",
              "<svg xmlns=\"http://www.w3.org/2000/svg\" height=\"24px\"viewBox=\"0 0 24 24\"\n",
              "     width=\"24px\">\n",
              "    <g>\n",
              "        <path d=\"M19 3H5c-1.1 0-2 .9-2 2v14c0 1.1.9 2 2 2h14c1.1 0 2-.9 2-2V5c0-1.1-.9-2-2-2zM9 17H7v-7h2v7zm4 0h-2V7h2v10zm4 0h-2v-4h2v4z\"/>\n",
              "    </g>\n",
              "</svg>\n",
              "  </button>\n",
              "\n",
              "<style>\n",
              "  .colab-df-quickchart {\n",
              "      --bg-color: #E8F0FE;\n",
              "      --fill-color: #1967D2;\n",
              "      --hover-bg-color: #E2EBFA;\n",
              "      --hover-fill-color: #174EA6;\n",
              "      --disabled-fill-color: #AAA;\n",
              "      --disabled-bg-color: #DDD;\n",
              "  }\n",
              "\n",
              "  [theme=dark] .colab-df-quickchart {\n",
              "      --bg-color: #3B4455;\n",
              "      --fill-color: #D2E3FC;\n",
              "      --hover-bg-color: #434B5C;\n",
              "      --hover-fill-color: #FFFFFF;\n",
              "      --disabled-bg-color: #3B4455;\n",
              "      --disabled-fill-color: #666;\n",
              "  }\n",
              "\n",
              "  .colab-df-quickchart {\n",
              "    background-color: var(--bg-color);\n",
              "    border: none;\n",
              "    border-radius: 50%;\n",
              "    cursor: pointer;\n",
              "    display: none;\n",
              "    fill: var(--fill-color);\n",
              "    height: 32px;\n",
              "    padding: 0;\n",
              "    width: 32px;\n",
              "  }\n",
              "\n",
              "  .colab-df-quickchart:hover {\n",
              "    background-color: var(--hover-bg-color);\n",
              "    box-shadow: 0 1px 2px rgba(60, 64, 67, 0.3), 0 1px 3px 1px rgba(60, 64, 67, 0.15);\n",
              "    fill: var(--button-hover-fill-color);\n",
              "  }\n",
              "\n",
              "  .colab-df-quickchart-complete:disabled,\n",
              "  .colab-df-quickchart-complete:disabled:hover {\n",
              "    background-color: var(--disabled-bg-color);\n",
              "    fill: var(--disabled-fill-color);\n",
              "    box-shadow: none;\n",
              "  }\n",
              "\n",
              "  .colab-df-spinner {\n",
              "    border: 2px solid var(--fill-color);\n",
              "    border-color: transparent;\n",
              "    border-bottom-color: var(--fill-color);\n",
              "    animation:\n",
              "      spin 1s steps(1) infinite;\n",
              "  }\n",
              "\n",
              "  @keyframes spin {\n",
              "    0% {\n",
              "      border-color: transparent;\n",
              "      border-bottom-color: var(--fill-color);\n",
              "      border-left-color: var(--fill-color);\n",
              "    }\n",
              "    20% {\n",
              "      border-color: transparent;\n",
              "      border-left-color: var(--fill-color);\n",
              "      border-top-color: var(--fill-color);\n",
              "    }\n",
              "    30% {\n",
              "      border-color: transparent;\n",
              "      border-left-color: var(--fill-color);\n",
              "      border-top-color: var(--fill-color);\n",
              "      border-right-color: var(--fill-color);\n",
              "    }\n",
              "    40% {\n",
              "      border-color: transparent;\n",
              "      border-right-color: var(--fill-color);\n",
              "      border-top-color: var(--fill-color);\n",
              "    }\n",
              "    60% {\n",
              "      border-color: transparent;\n",
              "      border-right-color: var(--fill-color);\n",
              "    }\n",
              "    80% {\n",
              "      border-color: transparent;\n",
              "      border-right-color: var(--fill-color);\n",
              "      border-bottom-color: var(--fill-color);\n",
              "    }\n",
              "    90% {\n",
              "      border-color: transparent;\n",
              "      border-bottom-color: var(--fill-color);\n",
              "    }\n",
              "  }\n",
              "</style>\n",
              "\n",
              "  <script>\n",
              "    async function quickchart(key) {\n",
              "      const quickchartButtonEl =\n",
              "        document.querySelector('#' + key + ' button');\n",
              "      quickchartButtonEl.disabled = true;  // To prevent multiple clicks.\n",
              "      quickchartButtonEl.classList.add('colab-df-spinner');\n",
              "      try {\n",
              "        const charts = await google.colab.kernel.invokeFunction(\n",
              "            'suggestCharts', [key], {});\n",
              "      } catch (error) {\n",
              "        console.error('Error during call to suggestCharts:', error);\n",
              "      }\n",
              "      quickchartButtonEl.classList.remove('colab-df-spinner');\n",
              "      quickchartButtonEl.classList.add('colab-df-quickchart-complete');\n",
              "    }\n",
              "    (() => {\n",
              "      let quickchartButtonEl =\n",
              "        document.querySelector('#df-c50c6bc2-70ff-42c6-8adf-4d8e4bc21780 button');\n",
              "      quickchartButtonEl.style.display =\n",
              "        google.colab.kernel.accessAllowed ? 'block' : 'none';\n",
              "    })();\n",
              "  </script>\n",
              "</div>\n",
              "\n",
              "    </div>\n",
              "  </div>\n"
            ],
            "application/vnd.google.colaboratory.intrinsic+json": {
              "type": "dataframe",
              "variable_name": "df_train",
              "summary": "{\n  \"name\": \"df_train\",\n  \"rows\": 50,\n  \"fields\": [\n    {\n      \"column\": \"Domain\",\n      \"properties\": {\n        \"dtype\": \"category\",\n        \"num_unique_values\": 7,\n        \"samples\": [\n          \"Medical \",\n          \"CS \",\n          \"biochemistry \"\n        ],\n        \"semantic_type\": \"\",\n        \"description\": \"\"\n      }\n    },\n    {\n      \"column\": \"area\",\n      \"properties\": {\n        \"dtype\": \"string\",\n        \"num_unique_values\": 34,\n        \"samples\": [\n          \" Sports Injuries  \",\n          \" Human Metabolism  \",\n          \" Satellite radio  \"\n        ],\n        \"semantic_type\": \"\",\n        \"description\": \"\"\n      }\n    },\n    {\n      \"column\": \"keywords\",\n      \"properties\": {\n        \"dtype\": \"string\",\n        \"num_unique_values\": 50,\n        \"samples\": [\n          \" gloves; individual prevention; hand eczema; massage; occupational exposure; occupational health; occupational skin diseases; protection measure        \",\n          \" Drug metabolism; human-chimeric mice; human liver; mouse liver; phase I enzymes; phase II enzymes; rat-chimeric mice        \",\n          \" angiotensin II; losartan; renovascular hypertension; tissue-specific inhibitor of metalloproteinase-2        \"\n        ],\n        \"semantic_type\": \"\",\n        \"description\": \"\"\n      }\n    },\n    {\n      \"column\": \"Abstract\",\n      \"properties\": {\n        \"dtype\": \"string\",\n        \"num_unique_values\": 50,\n        \"samples\": [\n          \"Background: Physiotherapists have an occupationally elevated risk of dermatoses. One aim of skin care seminars for specific professional groupsin individual prevention programme in Germany is to ensure appropriate use of safety measures during patient treatment. Initially physiotherapists often think skeptically about the use of gloves and patients' acceptance of this protective measure. So the objective of this study was to assess the practicality of glove use during physiotherapy (qualitative investigation) and customer acceptance of them during massage (quantitative investigation). Methods: Structured problem-focused interviews about glove usage were held with 20 skin diseased physiotherapists and masseurs after skin care seminars. The data was evaluated inductively using Mayring's qualitative content analysis. The clients' acceptance was tested in a controlled randomized three setting study with 120 subjects who received a back massage and evaluated quality aspects of their massage in a questionnaire. The physiotherapist was wearing either gloves of PVC, gloves made of nitrile rubber or no gloves at all. A non-inferiority test was used to test group differences. Result: The majority of participating physiotherapists considered the use of protective gloves a practical and useful measure. However, occasional problems in everyday practice and in special therapy methods were reported. The analysis of 120 questionnaires (100% response rate) for quality aspects and the willingness to pay regarding client acceptancein a massage - with or without gloves - showed a non-inferiority result for massages with gloves. Conclusion: Convincing individual physiotherapists of the benefits of wearing gloves is crucial for implementation of this preventive measure. It is improbable that patients would refuse services because therapists wear gloves during treatments. Consequently, the usage of gloves is unlikely to result in a loss of practice custom.\",\n          \"1. Human-chimeric mice with humanized liver have been constructed by transplantation of human hepatocytes into several types of mice having genetic modifications that injure endogenous liver cells. Here, we focus on liver urokinase-type plasminogen activator-transgenic severe combined immunodeficiency (uPA/SCID) mice, which are the most widely used human-chimeric mice. Studies so far indicate that drug metabolism, drug transport, pharmacological effects and toxicological action in these mice are broadly similar to those in humans. 2. Expression of various drug-metabolizing enzymes is known to be different between humans and rodents. However, the expression pattern of cytochrome P450, aldehyde oxidase and phase II enzymes in the liver of human-chimeric mice resembles that in humans, not that in the host mice. 3. Metabolism of various drugs, including S-warfarin, zaleplon, ibuprofen, naproxen, coumarin, troglitazone and midazolam, in human-chimeric mice is mediated by human drug-metabolizing enzymes, not by host mouse enzymes, and thus resembles that in humans. 4. Pharmacological and toxicological effects of various drugs in human-chimeric mice are also similar to those in humans. 5. The current consensus is that chimeric mice with humanized liver are useful to predict drug metabolism catalyzed by cytochrome P450, aldehyde oxidase and phase II enzymes in humans in vivo and in vitro. Some remaining issues are discussed in this review.\",\n          \"1. Angiotensin (Ang) II plays a major role in vascular remodelling. Matrix metalloproteinases (MMPs) and their tissue inhibitors (TIMPs) are involved in the tissue remodelling processes. The aim of the present study was to investigate whether AngII modulates TIMP-2 expression in rat aortic smooth muscle cells in vivo. 2. Angiotensin II (200 ng/kg per min, s.c.) or AngII + losartan (10 mg/kg per day, s.c.) or normal saline was administered continuously by osmotic minipumps to Sprague-Dawley rats for 1 week. In addition, the effect of endogenous AngII on TIMP-2 expression was evaluated in renovascular hypertensive rats (two kidney, one clip (2K1C) and one kidney, one clip (1K1C) models). Control rats (sham 2K1C and sham 1K1C rats) underwent sham-clipping of the left renal artery. At the end of the treatment, plasma renin activity was measured by radioimmunoassay, aortic TIMP-2 mRNA expression was evaluated by real-time polymerase chain reaction and/or northern blotting and protein expression was evaluated by immunohistochemistry. Systolic blood pressure (SBP) was measured twice a week by the tail-cuff method. 3. Exogenous AngII administration produced the expected increase in SBP (P = 0.02) compared with the control saline-treated group. The increase in SBP was abolished in AngII + losartan-treated rats. Administration of AngII caused a significant increase in TIMP-2 expression (P = 0.01) in rat aortic smooth muscle cells that was abolished in AngII + losartan-treated rats. In renovascular hypertensive rats, SBP was higher (P < 0.0001) in 2K1C and 1K1C rats compared with the corresponding sham-operated rats. Plasma renin activity was higher (P < 0.01) in 2K1C rats compared with the other groups. The expression of TIMP-2 was significantly (P < 0.05) increased only in 2K1C rats. 4. Our in vivo data demonstrate that exogenous and endogenous AngII increases TIMP-2 expression in rat aortic smooth muscle cells. This effect is not dependent on the AngII-induced increase in blood pressure and is mediated by angiotensin AT(1) receptors.\"\n        ],\n        \"semantic_type\": \"\",\n        \"description\": \"\"\n      }\n    }\n  ]\n}"
            }
          },
          "metadata": {},
          "execution_count": 20
        }
      ]
    },
    {
      "cell_type": "code",
      "source": [
        "df_val=load_data('/content/drive/My Drive/validation.csv')\n",
        "df_val.head()"
      ],
      "metadata": {
        "id": "opSLe8cZG999",
        "colab": {
          "base_uri": "https://localhost:8080/",
          "height": 206
        },
        "outputId": "8edb616c-f537-4a62-9d68-c225346ddb4e"
      },
      "execution_count": 21,
      "outputs": [
        {
          "output_type": "execute_result",
          "data": {
            "text/plain": [
              "     Domain                     area  \\\n",
              "0       CS    Symbolic computation     \n",
              "1  Medical     Alzheimer's Disease     \n",
              "2    Civil          Green Building     \n",
              "3      ECE          Electric motor     \n",
              "4  Medical     Parkinson's Disease     \n",
              "\n",
              "                                            keywords  \\\n",
              "0   (2+1)-dimensional non-linear optical waves; e...   \n",
              "1   Aging; Tau; Amyloid; PET; Alzheimer's disease...   \n",
              "2   LED lighting system; PV system; Distributed l...   \n",
              "3   NdFeB magnets; Electric motor; Electric vehic...   \n",
              "4   Parkinson's disease; dyskinesia; adenosine A(...   \n",
              "\n",
              "                                            Abstract  \n",
              "0  (2 + 1)-dimensional non-linear optical waves t...  \n",
              "1  (beta-amyloid (A beta) and tau pathology becom...  \n",
              "2  (D)ecreasing of energy consumption and environ...  \n",
              "3  (Hybrid) electric vehicles are assumed to play...  \n",
              "4  (L)-3,4-Dihydroxyphenylalanine ((L)-DOPA) rema...  "
            ],
            "text/html": [
              "\n",
              "  <div id=\"df-d444b93e-3026-4580-8a43-a03ed8827635\" class=\"colab-df-container\">\n",
              "    <div>\n",
              "<style scoped>\n",
              "    .dataframe tbody tr th:only-of-type {\n",
              "        vertical-align: middle;\n",
              "    }\n",
              "\n",
              "    .dataframe tbody tr th {\n",
              "        vertical-align: top;\n",
              "    }\n",
              "\n",
              "    .dataframe thead th {\n",
              "        text-align: right;\n",
              "    }\n",
              "</style>\n",
              "<table border=\"1\" class=\"dataframe\">\n",
              "  <thead>\n",
              "    <tr style=\"text-align: right;\">\n",
              "      <th></th>\n",
              "      <th>Domain</th>\n",
              "      <th>area</th>\n",
              "      <th>keywords</th>\n",
              "      <th>Abstract</th>\n",
              "    </tr>\n",
              "  </thead>\n",
              "  <tbody>\n",
              "    <tr>\n",
              "      <th>0</th>\n",
              "      <td>CS</td>\n",
              "      <td>Symbolic computation</td>\n",
              "      <td>(2+1)-dimensional non-linear optical waves; e...</td>\n",
              "      <td>(2 + 1)-dimensional non-linear optical waves t...</td>\n",
              "    </tr>\n",
              "    <tr>\n",
              "      <th>1</th>\n",
              "      <td>Medical</td>\n",
              "      <td>Alzheimer's Disease</td>\n",
              "      <td>Aging; Tau; Amyloid; PET; Alzheimer's disease...</td>\n",
              "      <td>(beta-amyloid (A beta) and tau pathology becom...</td>\n",
              "    </tr>\n",
              "    <tr>\n",
              "      <th>2</th>\n",
              "      <td>Civil</td>\n",
              "      <td>Green Building</td>\n",
              "      <td>LED lighting system; PV system; Distributed l...</td>\n",
              "      <td>(D)ecreasing of energy consumption and environ...</td>\n",
              "    </tr>\n",
              "    <tr>\n",
              "      <th>3</th>\n",
              "      <td>ECE</td>\n",
              "      <td>Electric motor</td>\n",
              "      <td>NdFeB magnets; Electric motor; Electric vehic...</td>\n",
              "      <td>(Hybrid) electric vehicles are assumed to play...</td>\n",
              "    </tr>\n",
              "    <tr>\n",
              "      <th>4</th>\n",
              "      <td>Medical</td>\n",
              "      <td>Parkinson's Disease</td>\n",
              "      <td>Parkinson's disease; dyskinesia; adenosine A(...</td>\n",
              "      <td>(L)-3,4-Dihydroxyphenylalanine ((L)-DOPA) rema...</td>\n",
              "    </tr>\n",
              "  </tbody>\n",
              "</table>\n",
              "</div>\n",
              "    <div class=\"colab-df-buttons\">\n",
              "\n",
              "  <div class=\"colab-df-container\">\n",
              "    <button class=\"colab-df-convert\" onclick=\"convertToInteractive('df-d444b93e-3026-4580-8a43-a03ed8827635')\"\n",
              "            title=\"Convert this dataframe to an interactive table.\"\n",
              "            style=\"display:none;\">\n",
              "\n",
              "  <svg xmlns=\"http://www.w3.org/2000/svg\" height=\"24px\" viewBox=\"0 -960 960 960\">\n",
              "    <path d=\"M120-120v-720h720v720H120Zm60-500h600v-160H180v160Zm220 220h160v-160H400v160Zm0 220h160v-160H400v160ZM180-400h160v-160H180v160Zm440 0h160v-160H620v160ZM180-180h160v-160H180v160Zm440 0h160v-160H620v160Z\"/>\n",
              "  </svg>\n",
              "    </button>\n",
              "\n",
              "  <style>\n",
              "    .colab-df-container {\n",
              "      display:flex;\n",
              "      gap: 12px;\n",
              "    }\n",
              "\n",
              "    .colab-df-convert {\n",
              "      background-color: #E8F0FE;\n",
              "      border: none;\n",
              "      border-radius: 50%;\n",
              "      cursor: pointer;\n",
              "      display: none;\n",
              "      fill: #1967D2;\n",
              "      height: 32px;\n",
              "      padding: 0 0 0 0;\n",
              "      width: 32px;\n",
              "    }\n",
              "\n",
              "    .colab-df-convert:hover {\n",
              "      background-color: #E2EBFA;\n",
              "      box-shadow: 0px 1px 2px rgba(60, 64, 67, 0.3), 0px 1px 3px 1px rgba(60, 64, 67, 0.15);\n",
              "      fill: #174EA6;\n",
              "    }\n",
              "\n",
              "    .colab-df-buttons div {\n",
              "      margin-bottom: 4px;\n",
              "    }\n",
              "\n",
              "    [theme=dark] .colab-df-convert {\n",
              "      background-color: #3B4455;\n",
              "      fill: #D2E3FC;\n",
              "    }\n",
              "\n",
              "    [theme=dark] .colab-df-convert:hover {\n",
              "      background-color: #434B5C;\n",
              "      box-shadow: 0px 1px 3px 1px rgba(0, 0, 0, 0.15);\n",
              "      filter: drop-shadow(0px 1px 2px rgba(0, 0, 0, 0.3));\n",
              "      fill: #FFFFFF;\n",
              "    }\n",
              "  </style>\n",
              "\n",
              "    <script>\n",
              "      const buttonEl =\n",
              "        document.querySelector('#df-d444b93e-3026-4580-8a43-a03ed8827635 button.colab-df-convert');\n",
              "      buttonEl.style.display =\n",
              "        google.colab.kernel.accessAllowed ? 'block' : 'none';\n",
              "\n",
              "      async function convertToInteractive(key) {\n",
              "        const element = document.querySelector('#df-d444b93e-3026-4580-8a43-a03ed8827635');\n",
              "        const dataTable =\n",
              "          await google.colab.kernel.invokeFunction('convertToInteractive',\n",
              "                                                    [key], {});\n",
              "        if (!dataTable) return;\n",
              "\n",
              "        const docLinkHtml = 'Like what you see? Visit the ' +\n",
              "          '<a target=\"_blank\" href=https://colab.research.google.com/notebooks/data_table.ipynb>data table notebook</a>'\n",
              "          + ' to learn more about interactive tables.';\n",
              "        element.innerHTML = '';\n",
              "        dataTable['output_type'] = 'display_data';\n",
              "        await google.colab.output.renderOutput(dataTable, element);\n",
              "        const docLink = document.createElement('div');\n",
              "        docLink.innerHTML = docLinkHtml;\n",
              "        element.appendChild(docLink);\n",
              "      }\n",
              "    </script>\n",
              "  </div>\n",
              "\n",
              "\n",
              "<div id=\"df-d07cf924-6e70-4aec-b71b-b278c042f486\">\n",
              "  <button class=\"colab-df-quickchart\" onclick=\"quickchart('df-d07cf924-6e70-4aec-b71b-b278c042f486')\"\n",
              "            title=\"Suggest charts\"\n",
              "            style=\"display:none;\">\n",
              "\n",
              "<svg xmlns=\"http://www.w3.org/2000/svg\" height=\"24px\"viewBox=\"0 0 24 24\"\n",
              "     width=\"24px\">\n",
              "    <g>\n",
              "        <path d=\"M19 3H5c-1.1 0-2 .9-2 2v14c0 1.1.9 2 2 2h14c1.1 0 2-.9 2-2V5c0-1.1-.9-2-2-2zM9 17H7v-7h2v7zm4 0h-2V7h2v10zm4 0h-2v-4h2v4z\"/>\n",
              "    </g>\n",
              "</svg>\n",
              "  </button>\n",
              "\n",
              "<style>\n",
              "  .colab-df-quickchart {\n",
              "      --bg-color: #E8F0FE;\n",
              "      --fill-color: #1967D2;\n",
              "      --hover-bg-color: #E2EBFA;\n",
              "      --hover-fill-color: #174EA6;\n",
              "      --disabled-fill-color: #AAA;\n",
              "      --disabled-bg-color: #DDD;\n",
              "  }\n",
              "\n",
              "  [theme=dark] .colab-df-quickchart {\n",
              "      --bg-color: #3B4455;\n",
              "      --fill-color: #D2E3FC;\n",
              "      --hover-bg-color: #434B5C;\n",
              "      --hover-fill-color: #FFFFFF;\n",
              "      --disabled-bg-color: #3B4455;\n",
              "      --disabled-fill-color: #666;\n",
              "  }\n",
              "\n",
              "  .colab-df-quickchart {\n",
              "    background-color: var(--bg-color);\n",
              "    border: none;\n",
              "    border-radius: 50%;\n",
              "    cursor: pointer;\n",
              "    display: none;\n",
              "    fill: var(--fill-color);\n",
              "    height: 32px;\n",
              "    padding: 0;\n",
              "    width: 32px;\n",
              "  }\n",
              "\n",
              "  .colab-df-quickchart:hover {\n",
              "    background-color: var(--hover-bg-color);\n",
              "    box-shadow: 0 1px 2px rgba(60, 64, 67, 0.3), 0 1px 3px 1px rgba(60, 64, 67, 0.15);\n",
              "    fill: var(--button-hover-fill-color);\n",
              "  }\n",
              "\n",
              "  .colab-df-quickchart-complete:disabled,\n",
              "  .colab-df-quickchart-complete:disabled:hover {\n",
              "    background-color: var(--disabled-bg-color);\n",
              "    fill: var(--disabled-fill-color);\n",
              "    box-shadow: none;\n",
              "  }\n",
              "\n",
              "  .colab-df-spinner {\n",
              "    border: 2px solid var(--fill-color);\n",
              "    border-color: transparent;\n",
              "    border-bottom-color: var(--fill-color);\n",
              "    animation:\n",
              "      spin 1s steps(1) infinite;\n",
              "  }\n",
              "\n",
              "  @keyframes spin {\n",
              "    0% {\n",
              "      border-color: transparent;\n",
              "      border-bottom-color: var(--fill-color);\n",
              "      border-left-color: var(--fill-color);\n",
              "    }\n",
              "    20% {\n",
              "      border-color: transparent;\n",
              "      border-left-color: var(--fill-color);\n",
              "      border-top-color: var(--fill-color);\n",
              "    }\n",
              "    30% {\n",
              "      border-color: transparent;\n",
              "      border-left-color: var(--fill-color);\n",
              "      border-top-color: var(--fill-color);\n",
              "      border-right-color: var(--fill-color);\n",
              "    }\n",
              "    40% {\n",
              "      border-color: transparent;\n",
              "      border-right-color: var(--fill-color);\n",
              "      border-top-color: var(--fill-color);\n",
              "    }\n",
              "    60% {\n",
              "      border-color: transparent;\n",
              "      border-right-color: var(--fill-color);\n",
              "    }\n",
              "    80% {\n",
              "      border-color: transparent;\n",
              "      border-right-color: var(--fill-color);\n",
              "      border-bottom-color: var(--fill-color);\n",
              "    }\n",
              "    90% {\n",
              "      border-color: transparent;\n",
              "      border-bottom-color: var(--fill-color);\n",
              "    }\n",
              "  }\n",
              "</style>\n",
              "\n",
              "  <script>\n",
              "    async function quickchart(key) {\n",
              "      const quickchartButtonEl =\n",
              "        document.querySelector('#' + key + ' button');\n",
              "      quickchartButtonEl.disabled = true;  // To prevent multiple clicks.\n",
              "      quickchartButtonEl.classList.add('colab-df-spinner');\n",
              "      try {\n",
              "        const charts = await google.colab.kernel.invokeFunction(\n",
              "            'suggestCharts', [key], {});\n",
              "      } catch (error) {\n",
              "        console.error('Error during call to suggestCharts:', error);\n",
              "      }\n",
              "      quickchartButtonEl.classList.remove('colab-df-spinner');\n",
              "      quickchartButtonEl.classList.add('colab-df-quickchart-complete');\n",
              "    }\n",
              "    (() => {\n",
              "      let quickchartButtonEl =\n",
              "        document.querySelector('#df-d07cf924-6e70-4aec-b71b-b278c042f486 button');\n",
              "      quickchartButtonEl.style.display =\n",
              "        google.colab.kernel.accessAllowed ? 'block' : 'none';\n",
              "    })();\n",
              "  </script>\n",
              "</div>\n",
              "\n",
              "    </div>\n",
              "  </div>\n"
            ],
            "application/vnd.google.colaboratory.intrinsic+json": {
              "type": "dataframe",
              "variable_name": "df_val",
              "summary": "{\n  \"name\": \"df_val\",\n  \"rows\": 50,\n  \"fields\": [\n    {\n      \"column\": \"Domain\",\n      \"properties\": {\n        \"dtype\": \"category\",\n        \"num_unique_values\": 7,\n        \"samples\": [\n          \"CS \",\n          \"Medical \",\n          \"MAE \"\n        ],\n        \"semantic_type\": \"\",\n        \"description\": \"\"\n      }\n    },\n    {\n      \"column\": \"area\",\n      \"properties\": {\n        \"dtype\": \"string\",\n        \"num_unique_values\": 33,\n        \"samples\": [\n          \" computer-aided design  \",\n          \" Sports Injuries  \",\n          \" Birth Control  \"\n        ],\n        \"semantic_type\": \"\",\n        \"description\": \"\"\n      }\n    },\n    {\n      \"column\": \"keywords\",\n      \"properties\": {\n        \"dtype\": \"string\",\n        \"num_unique_values\": 50,\n        \"samples\": [\n          \" age-related macular degeneration; genetics; retina; telomere        \",\n          \" 17 beta HSD-3 enzyme deficiency; novel mutation        \",\n          \" bile acid; metabolism; species; biomarker; glucocorticoid; metabolic disease        \"\n        ],\n        \"semantic_type\": \"\",\n        \"description\": \"\"\n      }\n    },\n    {\n      \"column\": \"Abstract\",\n      \"properties\": {\n        \"dtype\": \"string\",\n        \"num_unique_values\": 50,\n        \"samples\": [\n          \". Purpose: To evaluate the association between telomere length and age-related macular degeneration (AMD). Methods: Circulating leucocyte telomere length and the proportion of telomeres <5kb were analysed in blood DNA samples taken from 121 patients with exudative AMD (83%), large drusen (14%) or central geographic atrophy (3%). Controls consisted of 77 age-matched subjects without AMD. The AMD status was assessed by a masked analysis of fundus photographs or angiographs. Telomere length was measured by Southern blotting. Results: Mean (SD) telomere length was 7.76kb (0.68) in AMD patients and 7.83 (0.69) in controls (p=0.485). The corresponding proportions of telomeres <5kb were 10.60 (2.76) and 10.05 (2.64) (p=0.197). In this material, there was no correlation between telomere length and age, gender or smoking status. There were no differences between the major AMD risk single-nucleotide polymorphisms (SNPs) of the CFH, HTRA1 or C3 genes, expect for somewhat longer telomeres in controls with the C3 risk SNP. There were no differences in telomere length between patients with drusen or exudative AMD. Conclusions: Telomere length is not associated with exudative AMD or high-risk drusen.\",\n          \"17-beta-Hydroxysteroid dehydrogenase type 3(17 beta HSD-3) is present almost exclusively in the testes, and converts androstenedione (A) to testosterone (T). 17 beta HSD-3 deficiency is rare. The diagnosis can be missed in early childhood as the clinical presentation may be subtle. The most frequent presentation of 17 HSD-3 deficiency is a 46,XY individual with female external genitalia, labial fusion and a blind ending vagina, with or without clitoromegaly. A low testosterone/androstenedion (T/A) ratio is suggestive of 17 beta HSD-3 deficiency, and such diagnosis can be confirmed with molecular genetic studies. A 12-day newborn was referred to our hospital because of palpable gonads in the labia majora. On physical examination, the baby had female external genitalia and palpable gonads in the labia majora. T/A ratio was 0.26 and the diagnosis was 17 beta HSD-3 deficiency, which was confirmed by the evidence of compound heterozygousity novel frameshift mutations in exon 9 and 10 of HSD17B3 gene.\",\n          \"11 beta-hydroxysteroid dehydrogenase type 1 (11 beta-HSD1) mediates glucocorticoid activation and is currently considered as therapeutic target to treat metabolic diseases; however, biomarkers to assess its activity in vivo are still lacking. Recent in vitro experiments suggested that human 11 beta-HSD1 metabolizes the secondary bile acid 7-oxolithocholic acid (7-oxoLCA) to chenodeoxycholic acid (CDCA) and minor amounts of ursodeoxycholic acid (UDCA). Here, we provide evidence from in vitro and in vivo studies for a major role of 11 beta-HSD1 in the oxidoreduction of 7-oxoLCA and compare its level and metabolism in several species. Hepatic microsomes from liver-specific 11 beta-HSD1-deficient mice were devoid of 7-oxoLCA oxidoreductase activity. Importantly, circulating and intrahepatic levels of 7-oxoLCA and its taurine conjugate were significantly elevated in mouse models of 11 beta-HSD1 deficiency. Moreover, comparative enzymology of 11 beta-HSD1-dependent oxidoreduction of 7-oxoLCA revealed that the guinea-pig enzyme is devoid of 7-oxoLCA oxidoreductase activity. Unlike in other species, 7-oxoLCA and its glycine conjugate are major bile acids in guinea-pigs.(jlr) In conclusion, the oxidoreduction of 7-oxoLCA and its conjugated metabolites are catalyzed by 11 beta-HSD1, and the lack of this activity leads to the accumulation of these bile acids in guinea-pigs and 11 beta-HSD1-deficient mice. Thus, 7-oxoLCA and its conjugates may serve as biomarkers of impaired 11 beta-HSD1 activity.\"\n        ],\n        \"semantic_type\": \"\",\n        \"description\": \"\"\n      }\n    }\n  ]\n}"
            }
          },
          "metadata": {},
          "execution_count": 21
        }
      ]
    },
    {
      "cell_type": "code",
      "source": [
        "df_test=load_data('/content/drive/My Drive/test_llm.csv')\n",
        "df_test.head()"
      ],
      "metadata": {
        "id": "V-djlcNdHMMI",
        "colab": {
          "base_uri": "https://localhost:8080/",
          "height": 206
        },
        "outputId": "30994dd8-1a0e-4d3b-d7e1-2a253557efee"
      },
      "execution_count": 22,
      "outputs": [
        {
          "output_type": "execute_result",
          "data": {
            "text/plain": [
              "     Domain                     area  \\\n",
              "0       CS         Data structures     \n",
              "1    Civil    Ambient Intelligence     \n",
              "2      ECE    Electrical generator     \n",
              "3  Medical             Hepatitis C     \n",
              "4      ECE     Control engineering     \n",
              "\n",
              "                                            keywords  \\\n",
              "0   In-memory XPath processing; NESTOR; Set-based...   \n",
              "1   Home energy management; persuasive interface;...   \n",
              "2   non-standard electrical machine; generation o...   \n",
              "3   complications; patient engagement; patient-ce...   \n",
              "4   force feedback haptic interface; virtual real...   \n",
              "\n",
              "                                            Abstract  \n",
              "0  XML is a pervasive technology for representing...  \n",
              "1  The integration of renewable energy sources in...  \n",
              "2  The original free-swinging piston engine with ...  \n",
              "3  Barriers to access and long-term complications...  \n",
              "4  This paper is to present a technological solut...  "
            ],
            "text/html": [
              "\n",
              "  <div id=\"df-0a8ad6de-4929-4e09-9888-69d16eb055fd\" class=\"colab-df-container\">\n",
              "    <div>\n",
              "<style scoped>\n",
              "    .dataframe tbody tr th:only-of-type {\n",
              "        vertical-align: middle;\n",
              "    }\n",
              "\n",
              "    .dataframe tbody tr th {\n",
              "        vertical-align: top;\n",
              "    }\n",
              "\n",
              "    .dataframe thead th {\n",
              "        text-align: right;\n",
              "    }\n",
              "</style>\n",
              "<table border=\"1\" class=\"dataframe\">\n",
              "  <thead>\n",
              "    <tr style=\"text-align: right;\">\n",
              "      <th></th>\n",
              "      <th>Domain</th>\n",
              "      <th>area</th>\n",
              "      <th>keywords</th>\n",
              "      <th>Abstract</th>\n",
              "    </tr>\n",
              "  </thead>\n",
              "  <tbody>\n",
              "    <tr>\n",
              "      <th>0</th>\n",
              "      <td>CS</td>\n",
              "      <td>Data structures</td>\n",
              "      <td>In-memory XPath processing; NESTOR; Set-based...</td>\n",
              "      <td>XML is a pervasive technology for representing...</td>\n",
              "    </tr>\n",
              "    <tr>\n",
              "      <th>1</th>\n",
              "      <td>Civil</td>\n",
              "      <td>Ambient Intelligence</td>\n",
              "      <td>Home energy management; persuasive interface;...</td>\n",
              "      <td>The integration of renewable energy sources in...</td>\n",
              "    </tr>\n",
              "    <tr>\n",
              "      <th>2</th>\n",
              "      <td>ECE</td>\n",
              "      <td>Electrical generator</td>\n",
              "      <td>non-standard electrical machine; generation o...</td>\n",
              "      <td>The original free-swinging piston engine with ...</td>\n",
              "    </tr>\n",
              "    <tr>\n",
              "      <th>3</th>\n",
              "      <td>Medical</td>\n",
              "      <td>Hepatitis C</td>\n",
              "      <td>complications; patient engagement; patient-ce...</td>\n",
              "      <td>Barriers to access and long-term complications...</td>\n",
              "    </tr>\n",
              "    <tr>\n",
              "      <th>4</th>\n",
              "      <td>ECE</td>\n",
              "      <td>Control engineering</td>\n",
              "      <td>force feedback haptic interface; virtual real...</td>\n",
              "      <td>This paper is to present a technological solut...</td>\n",
              "    </tr>\n",
              "  </tbody>\n",
              "</table>\n",
              "</div>\n",
              "    <div class=\"colab-df-buttons\">\n",
              "\n",
              "  <div class=\"colab-df-container\">\n",
              "    <button class=\"colab-df-convert\" onclick=\"convertToInteractive('df-0a8ad6de-4929-4e09-9888-69d16eb055fd')\"\n",
              "            title=\"Convert this dataframe to an interactive table.\"\n",
              "            style=\"display:none;\">\n",
              "\n",
              "  <svg xmlns=\"http://www.w3.org/2000/svg\" height=\"24px\" viewBox=\"0 -960 960 960\">\n",
              "    <path d=\"M120-120v-720h720v720H120Zm60-500h600v-160H180v160Zm220 220h160v-160H400v160Zm0 220h160v-160H400v160ZM180-400h160v-160H180v160Zm440 0h160v-160H620v160ZM180-180h160v-160H180v160Zm440 0h160v-160H620v160Z\"/>\n",
              "  </svg>\n",
              "    </button>\n",
              "\n",
              "  <style>\n",
              "    .colab-df-container {\n",
              "      display:flex;\n",
              "      gap: 12px;\n",
              "    }\n",
              "\n",
              "    .colab-df-convert {\n",
              "      background-color: #E8F0FE;\n",
              "      border: none;\n",
              "      border-radius: 50%;\n",
              "      cursor: pointer;\n",
              "      display: none;\n",
              "      fill: #1967D2;\n",
              "      height: 32px;\n",
              "      padding: 0 0 0 0;\n",
              "      width: 32px;\n",
              "    }\n",
              "\n",
              "    .colab-df-convert:hover {\n",
              "      background-color: #E2EBFA;\n",
              "      box-shadow: 0px 1px 2px rgba(60, 64, 67, 0.3), 0px 1px 3px 1px rgba(60, 64, 67, 0.15);\n",
              "      fill: #174EA6;\n",
              "    }\n",
              "\n",
              "    .colab-df-buttons div {\n",
              "      margin-bottom: 4px;\n",
              "    }\n",
              "\n",
              "    [theme=dark] .colab-df-convert {\n",
              "      background-color: #3B4455;\n",
              "      fill: #D2E3FC;\n",
              "    }\n",
              "\n",
              "    [theme=dark] .colab-df-convert:hover {\n",
              "      background-color: #434B5C;\n",
              "      box-shadow: 0px 1px 3px 1px rgba(0, 0, 0, 0.15);\n",
              "      filter: drop-shadow(0px 1px 2px rgba(0, 0, 0, 0.3));\n",
              "      fill: #FFFFFF;\n",
              "    }\n",
              "  </style>\n",
              "\n",
              "    <script>\n",
              "      const buttonEl =\n",
              "        document.querySelector('#df-0a8ad6de-4929-4e09-9888-69d16eb055fd button.colab-df-convert');\n",
              "      buttonEl.style.display =\n",
              "        google.colab.kernel.accessAllowed ? 'block' : 'none';\n",
              "\n",
              "      async function convertToInteractive(key) {\n",
              "        const element = document.querySelector('#df-0a8ad6de-4929-4e09-9888-69d16eb055fd');\n",
              "        const dataTable =\n",
              "          await google.colab.kernel.invokeFunction('convertToInteractive',\n",
              "                                                    [key], {});\n",
              "        if (!dataTable) return;\n",
              "\n",
              "        const docLinkHtml = 'Like what you see? Visit the ' +\n",
              "          '<a target=\"_blank\" href=https://colab.research.google.com/notebooks/data_table.ipynb>data table notebook</a>'\n",
              "          + ' to learn more about interactive tables.';\n",
              "        element.innerHTML = '';\n",
              "        dataTable['output_type'] = 'display_data';\n",
              "        await google.colab.output.renderOutput(dataTable, element);\n",
              "        const docLink = document.createElement('div');\n",
              "        docLink.innerHTML = docLinkHtml;\n",
              "        element.appendChild(docLink);\n",
              "      }\n",
              "    </script>\n",
              "  </div>\n",
              "\n",
              "\n",
              "<div id=\"df-a98a0119-0c31-4db3-a3b8-1033f2cf6270\">\n",
              "  <button class=\"colab-df-quickchart\" onclick=\"quickchart('df-a98a0119-0c31-4db3-a3b8-1033f2cf6270')\"\n",
              "            title=\"Suggest charts\"\n",
              "            style=\"display:none;\">\n",
              "\n",
              "<svg xmlns=\"http://www.w3.org/2000/svg\" height=\"24px\"viewBox=\"0 0 24 24\"\n",
              "     width=\"24px\">\n",
              "    <g>\n",
              "        <path d=\"M19 3H5c-1.1 0-2 .9-2 2v14c0 1.1.9 2 2 2h14c1.1 0 2-.9 2-2V5c0-1.1-.9-2-2-2zM9 17H7v-7h2v7zm4 0h-2V7h2v10zm4 0h-2v-4h2v4z\"/>\n",
              "    </g>\n",
              "</svg>\n",
              "  </button>\n",
              "\n",
              "<style>\n",
              "  .colab-df-quickchart {\n",
              "      --bg-color: #E8F0FE;\n",
              "      --fill-color: #1967D2;\n",
              "      --hover-bg-color: #E2EBFA;\n",
              "      --hover-fill-color: #174EA6;\n",
              "      --disabled-fill-color: #AAA;\n",
              "      --disabled-bg-color: #DDD;\n",
              "  }\n",
              "\n",
              "  [theme=dark] .colab-df-quickchart {\n",
              "      --bg-color: #3B4455;\n",
              "      --fill-color: #D2E3FC;\n",
              "      --hover-bg-color: #434B5C;\n",
              "      --hover-fill-color: #FFFFFF;\n",
              "      --disabled-bg-color: #3B4455;\n",
              "      --disabled-fill-color: #666;\n",
              "  }\n",
              "\n",
              "  .colab-df-quickchart {\n",
              "    background-color: var(--bg-color);\n",
              "    border: none;\n",
              "    border-radius: 50%;\n",
              "    cursor: pointer;\n",
              "    display: none;\n",
              "    fill: var(--fill-color);\n",
              "    height: 32px;\n",
              "    padding: 0;\n",
              "    width: 32px;\n",
              "  }\n",
              "\n",
              "  .colab-df-quickchart:hover {\n",
              "    background-color: var(--hover-bg-color);\n",
              "    box-shadow: 0 1px 2px rgba(60, 64, 67, 0.3), 0 1px 3px 1px rgba(60, 64, 67, 0.15);\n",
              "    fill: var(--button-hover-fill-color);\n",
              "  }\n",
              "\n",
              "  .colab-df-quickchart-complete:disabled,\n",
              "  .colab-df-quickchart-complete:disabled:hover {\n",
              "    background-color: var(--disabled-bg-color);\n",
              "    fill: var(--disabled-fill-color);\n",
              "    box-shadow: none;\n",
              "  }\n",
              "\n",
              "  .colab-df-spinner {\n",
              "    border: 2px solid var(--fill-color);\n",
              "    border-color: transparent;\n",
              "    border-bottom-color: var(--fill-color);\n",
              "    animation:\n",
              "      spin 1s steps(1) infinite;\n",
              "  }\n",
              "\n",
              "  @keyframes spin {\n",
              "    0% {\n",
              "      border-color: transparent;\n",
              "      border-bottom-color: var(--fill-color);\n",
              "      border-left-color: var(--fill-color);\n",
              "    }\n",
              "    20% {\n",
              "      border-color: transparent;\n",
              "      border-left-color: var(--fill-color);\n",
              "      border-top-color: var(--fill-color);\n",
              "    }\n",
              "    30% {\n",
              "      border-color: transparent;\n",
              "      border-left-color: var(--fill-color);\n",
              "      border-top-color: var(--fill-color);\n",
              "      border-right-color: var(--fill-color);\n",
              "    }\n",
              "    40% {\n",
              "      border-color: transparent;\n",
              "      border-right-color: var(--fill-color);\n",
              "      border-top-color: var(--fill-color);\n",
              "    }\n",
              "    60% {\n",
              "      border-color: transparent;\n",
              "      border-right-color: var(--fill-color);\n",
              "    }\n",
              "    80% {\n",
              "      border-color: transparent;\n",
              "      border-right-color: var(--fill-color);\n",
              "      border-bottom-color: var(--fill-color);\n",
              "    }\n",
              "    90% {\n",
              "      border-color: transparent;\n",
              "      border-bottom-color: var(--fill-color);\n",
              "    }\n",
              "  }\n",
              "</style>\n",
              "\n",
              "  <script>\n",
              "    async function quickchart(key) {\n",
              "      const quickchartButtonEl =\n",
              "        document.querySelector('#' + key + ' button');\n",
              "      quickchartButtonEl.disabled = true;  // To prevent multiple clicks.\n",
              "      quickchartButtonEl.classList.add('colab-df-spinner');\n",
              "      try {\n",
              "        const charts = await google.colab.kernel.invokeFunction(\n",
              "            'suggestCharts', [key], {});\n",
              "      } catch (error) {\n",
              "        console.error('Error during call to suggestCharts:', error);\n",
              "      }\n",
              "      quickchartButtonEl.classList.remove('colab-df-spinner');\n",
              "      quickchartButtonEl.classList.add('colab-df-quickchart-complete');\n",
              "    }\n",
              "    (() => {\n",
              "      let quickchartButtonEl =\n",
              "        document.querySelector('#df-a98a0119-0c31-4db3-a3b8-1033f2cf6270 button');\n",
              "      quickchartButtonEl.style.display =\n",
              "        google.colab.kernel.accessAllowed ? 'block' : 'none';\n",
              "    })();\n",
              "  </script>\n",
              "</div>\n",
              "\n",
              "    </div>\n",
              "  </div>\n"
            ],
            "application/vnd.google.colaboratory.intrinsic+json": {
              "type": "dataframe",
              "variable_name": "df_test",
              "summary": "{\n  \"name\": \"df_test\",\n  \"rows\": 20,\n  \"fields\": [\n    {\n      \"column\": \"Domain\",\n      \"properties\": {\n        \"dtype\": \"category\",\n        \"num_unique_values\": 7,\n        \"samples\": [\n          \"CS \",\n          \"Civil \",\n          \"MAE \"\n        ],\n        \"semantic_type\": \"\",\n        \"description\": \"\"\n      }\n    },\n    {\n      \"column\": \"area\",\n      \"properties\": {\n        \"dtype\": \"string\",\n        \"num_unique_values\": 19,\n        \"samples\": [\n          \" Data structures  \",\n          \" Bioinformatics  \",\n          \" Hydraulics  \"\n        ],\n        \"semantic_type\": \"\",\n        \"description\": \"\"\n      }\n    },\n    {\n      \"column\": \"keywords\",\n      \"properties\": {\n        \"dtype\": \"string\",\n        \"num_unique_values\": 20,\n        \"samples\": [\n          \" In-memory XPath processing; NESTOR; Set-based data models; Data structures        \",\n          \" Bpifb1; parotid acinar cells; NOD mouse        \",\n          \" Mild cognitive impairment; Alzheimer's disease; Magnetic resonance spectroscopy; Brain volumetry        \"\n        ],\n        \"semantic_type\": \"\",\n        \"description\": \"\"\n      }\n    },\n    {\n      \"column\": \"Abstract\",\n      \"properties\": {\n        \"dtype\": \"string\",\n        \"num_unique_values\": 20,\n        \"samples\": [\n          \"XML is a pervasive technology for representing and accessing semi-structured data. XPath is the standard language for navigational queries on XML documents and there is a growing demand for its efficient processing. In order to increase the efficiency in executing four navigational XML query primitives, namely descendants, ancestors, children and parent, we introduce a new paradigm where traditional approaches based on the efficient traversing of nodes and edges to reconstruct the requested subtrees are replaced by a brand new one based on basic set operations which allow us to directly return the desired subtree, avoiding to create it passing through nodes and edges. Our solution stems from the NEsted SeTs for Object hieRarchies (NEASTOR) formal model, which makes use of set-inclusion relations for representing and providing access to hierarchical data. We define in-memory efficient data structures to implement NESTOR, we develop algorithms to perform the descendants, ancestors, children and parent query primitives and we study their computational complexity. We conduct an extensive experimental evaluation by using several datasets: digital archives (EAD collections), INEX 2009 Wikipedia collection, and two widely-used synthetic datasets (XMark and XGen). We show that NESTOR-based data structures and query primitives consistently outperform state-of-the-art solutions for XPath processing at execution time and they are competitive in terms of both memory occupation and pre-processing time. (C) 2015 Elsevier Ltd. All rights reserved.\",\n          \"OBJECTIVE: To define the increased mRNA expression of Bpifb1, a member of the bactericidal/permeability-increasing protein family, in parotid acinar cells from non-obese diabetic (NOD) mice, an animal model for Sjogren's syndrome. MATERIALS AND METHODS: Parotid acinar cells were prepared from female NOD (NOD/ShiJcl) mice with or without diabetes, as well as from control (C57BL/6JJcl) mice. Total RNA and homogenate were prepared from the parotid acinar cells. Embryonic cDNA from a Mouse MTC (TM) Panel I kit was used. The expression of Bpifb1 was determined by cDNA microarray analysis, RT-PCR, real-time PCR, northern blotting and in situ hybridization. RESULTS: The expression of Bpifb1 mRNA was high in parotid acinar cells from diabetic and non-diabetic NOD mice at 5-50 weeks of age. Acinar cells in the C57BL/6 mice had a low expression of Bpifb1 mRNA at an age >8 weeks, but had a relatively high expression in the foetus and infantile stages. CONCLUSIONS: Bpifb1 mRNA is upregulated in parotid acinar cells in NOD mice, but its expression is not related to the onset of diabetes. These findings suggest that high expression levels of Bpifb1 might predict disease traits before the onset of autoimmunity.\",\n          \"Objective: To assess the accuracy of magnetic resonance spectroscopy (1H-MRS) and brain volumetry in mild cognitive impairment (MCI) to predict conversion to probable Alzheimer's disease (AD). Methods: Forty-eight patients fulfilling the criteria of amnestic MCI who underwent a conventional magnetic resonance imaging (MRI) followed by MRS, and T1-3D on 1.5 Tesla MR unit. At baseline the patients underwent neuropsychological examination. 1H-MRS of the brain was carried out by exploring the left medial occipital lobe and ventral posterior cingulated cortex (vPCC) using the LCModel software. A high resolution T1-3D sequence was acquired to carry out the volumetric measurement. A cortical and subcortical parcellation strategy was used to obtain the volumes of each area within the brain. The patients were followed up to detect conversion to probable AD. Results: After a 3-year follow-up, 15 (31.2%) patients converted to AD. The myo-inositol in the occipital cortex and glutamate + glutamine (Glx) in the posterior cingulate cortex predicted conversion to probable AD at 46.1% sensitivity and 90.6% specificity. The positive predictive value was 66.7%, and the negative predictive value was 80.6%, with an overall cross-validated classification accuracy of 77.8%. The volume of the third ventricle, the total white matter and entorhinal cortex predict conversion to probable AD at 46.7% sensitivity and 90.9% specificity. The positive predictive value was 70%, and the negative predictive value was 78.9%, with an overall cross validated classification accuracy of 77.1%. Combining volumetric measures in addition to the MRS measures the prediction to probable AD has a 38.5% sensitivity and 87.5% specificity, with a positive predictive value of 55.6%, a negative predictive value of 77.8% and an overall accuracy of 733%. Conclusion: Either MRS or brain volumetric measures are markers separately of cognitive decline and may serve as a noninvasive tool to monitor cognitive changes and progression to dementia in patients with amnestic MCI, but the results do not support the routine use in the clinical settings. (C) 2016 Elsevier Inc. All rights reserved.\"\n        ],\n        \"semantic_type\": \"\",\n        \"description\": \"\"\n      }\n    }\n  ]\n}"
            }
          },
          "metadata": {},
          "execution_count": 22
        }
      ]
    },
    {
      "cell_type": "code",
      "source": [
        "# Format the training and validation sets\n",
        "# to make them usable for Open AI playground fine-tuning\n",
        "# Format:\n",
        "# {\"messages\": [{\"role\": \"system\", \"content\": \"Marv is a factual chatbot that is also sarcastic.\"}, {\"role\": \"user\", \"content\": \"What's the capital of France?\"}, {\"role\": \"assistant\", \"content\": \"Paris, as if everyone doesn't know that already.\"}]}\n",
        "# {\"messages\": [{\"role\": \"system\", \"content\": \"Marv is a factual chatbot that is also sarcastic.\"}, {\"role\": \"user\", \"content\": \"Who wrote 'Romeo and Juliet'?\"}, {\"role\": \"assistant\", \"content\": \"Oh, just some guy named William Shakespeare. Ever heard of him?\"}]}\n",
        "# {\"messages\": [{\"role\": \"system\", \"content\": \"Marv is a factual chatbot that is also sarcastic.\"}, {\"role\": \"user\", \"content\": \"How far is the Moon from Earth?\"}, {\"role\": \"assistant\", \"content\": \"Around 384,400 kilometers. Give or take a few, like that really matters.\"}]}\n",
        "# Use gpt-3.5-turbo\n",
        "# See https://platform.openai.com/docs/guides/fine-tuning/preparing-your-dataset\n",
        "def make_finetuning_data_gpt(dataset):\n",
        "  try:\n",
        "    formatted_data = []\n",
        "    for index, row in dataset.iterrows():\n",
        "        # Structure the prompt with the abstract as a user input\n",
        "        user_message = {\"role\": \"user\", \"content\": row[\"Abstract\"]}\n",
        "\n",
        "        # Structure the response with the domain as an assistant output\n",
        "        assistant_message = {\"role\": \"assistant\", \"content\": row[\"Domain\"]}\n",
        "\n",
        "        # Combine into a single data point\n",
        "        data_point = {\"messages\": [user_message, assistant_message]}\n",
        "\n",
        "        formatted_data.append(data_point)\n",
        "\n",
        "    return formatted_data\n",
        "  except:\n",
        "    raise NotImplementedError"
      ],
      "metadata": {
        "id": "TcfnD_-s8yc2"
      },
      "execution_count": 23,
      "outputs": []
    },
    {
      "cell_type": "code",
      "source": [
        "formatted_training_data = make_finetuning_data_gpt(df_train)\n",
        "formatted_validation_data = make_finetuning_data_gpt(df_val)"
      ],
      "metadata": {
        "id": "heXoPPewHaW1"
      },
      "execution_count": 24,
      "outputs": []
    },
    {
      "cell_type": "code",
      "source": [
        "import json\n",
        "with open('formatted_training_data.jsonl', 'w') as file_train:\n",
        "    for entry in formatted_training_data:\n",
        "      json.dump(entry, file_train)\n",
        "      file_train.write('\\n')"
      ],
      "metadata": {
        "id": "fe3sThLtHlJz"
      },
      "execution_count": 25,
      "outputs": []
    },
    {
      "cell_type": "code",
      "source": [
        "import json\n",
        "with open('formatted_validation_data.jsonl', 'w') as file_val:\n",
        "    for entry in formatted_validation_data:\n",
        "      json.dump(entry, file_val)\n",
        "      file_val.write('\\n')"
      ],
      "metadata": {
        "id": "4A-RmMtqH1D-"
      },
      "execution_count": 26,
      "outputs": []
    },
    {
      "cell_type": "code",
      "source": [
        "from google.colab import files\n",
        "files.download('formatted_training_data.jsonl')"
      ],
      "metadata": {
        "colab": {
          "base_uri": "https://localhost:8080/",
          "height": 17
        },
        "id": "CxcLR2BQCZin",
        "outputId": "676c501f-ca5b-406d-d42e-ee2386983b7b"
      },
      "execution_count": 27,
      "outputs": [
        {
          "output_type": "display_data",
          "data": {
            "text/plain": [
              "<IPython.core.display.Javascript object>"
            ],
            "application/javascript": [
              "\n",
              "    async function download(id, filename, size) {\n",
              "      if (!google.colab.kernel.accessAllowed) {\n",
              "        return;\n",
              "      }\n",
              "      const div = document.createElement('div');\n",
              "      const label = document.createElement('label');\n",
              "      label.textContent = `Downloading \"${filename}\": `;\n",
              "      div.appendChild(label);\n",
              "      const progress = document.createElement('progress');\n",
              "      progress.max = size;\n",
              "      div.appendChild(progress);\n",
              "      document.body.appendChild(div);\n",
              "\n",
              "      const buffers = [];\n",
              "      let downloaded = 0;\n",
              "\n",
              "      const channel = await google.colab.kernel.comms.open(id);\n",
              "      // Send a message to notify the kernel that we're ready.\n",
              "      channel.send({})\n",
              "\n",
              "      for await (const message of channel.messages) {\n",
              "        // Send a message to notify the kernel that we're ready.\n",
              "        channel.send({})\n",
              "        if (message.buffers) {\n",
              "          for (const buffer of message.buffers) {\n",
              "            buffers.push(buffer);\n",
              "            downloaded += buffer.byteLength;\n",
              "            progress.value = downloaded;\n",
              "          }\n",
              "        }\n",
              "      }\n",
              "      const blob = new Blob(buffers, {type: 'application/binary'});\n",
              "      const a = document.createElement('a');\n",
              "      a.href = window.URL.createObjectURL(blob);\n",
              "      a.download = filename;\n",
              "      div.appendChild(a);\n",
              "      a.click();\n",
              "      div.remove();\n",
              "    }\n",
              "  "
            ]
          },
          "metadata": {}
        },
        {
          "output_type": "display_data",
          "data": {
            "text/plain": [
              "<IPython.core.display.Javascript object>"
            ],
            "application/javascript": [
              "download(\"download_571e9481-9f24-4f5d-b516-968d0d1ca1fe\", \"formatted_training_data.jsonl\", 81515)"
            ]
          },
          "metadata": {}
        }
      ]
    },
    {
      "cell_type": "code",
      "source": [
        "files.download('formatted_validation_data.jsonl')"
      ],
      "metadata": {
        "colab": {
          "base_uri": "https://localhost:8080/",
          "height": 17
        },
        "id": "36tjQbuACzqf",
        "outputId": "4f0a90be-fedc-4dc5-f245-4ff6bab5677c"
      },
      "execution_count": 28,
      "outputs": [
        {
          "output_type": "display_data",
          "data": {
            "text/plain": [
              "<IPython.core.display.Javascript object>"
            ],
            "application/javascript": [
              "\n",
              "    async function download(id, filename, size) {\n",
              "      if (!google.colab.kernel.accessAllowed) {\n",
              "        return;\n",
              "      }\n",
              "      const div = document.createElement('div');\n",
              "      const label = document.createElement('label');\n",
              "      label.textContent = `Downloading \"${filename}\": `;\n",
              "      div.appendChild(label);\n",
              "      const progress = document.createElement('progress');\n",
              "      progress.max = size;\n",
              "      div.appendChild(progress);\n",
              "      document.body.appendChild(div);\n",
              "\n",
              "      const buffers = [];\n",
              "      let downloaded = 0;\n",
              "\n",
              "      const channel = await google.colab.kernel.comms.open(id);\n",
              "      // Send a message to notify the kernel that we're ready.\n",
              "      channel.send({})\n",
              "\n",
              "      for await (const message of channel.messages) {\n",
              "        // Send a message to notify the kernel that we're ready.\n",
              "        channel.send({})\n",
              "        if (message.buffers) {\n",
              "          for (const buffer of message.buffers) {\n",
              "            buffers.push(buffer);\n",
              "            downloaded += buffer.byteLength;\n",
              "            progress.value = downloaded;\n",
              "          }\n",
              "        }\n",
              "      }\n",
              "      const blob = new Blob(buffers, {type: 'application/binary'});\n",
              "      const a = document.createElement('a');\n",
              "      a.href = window.URL.createObjectURL(blob);\n",
              "      a.download = filename;\n",
              "      div.appendChild(a);\n",
              "      a.click();\n",
              "      div.remove();\n",
              "    }\n",
              "  "
            ]
          },
          "metadata": {}
        },
        {
          "output_type": "display_data",
          "data": {
            "text/plain": [
              "<IPython.core.display.Javascript object>"
            ],
            "application/javascript": [
              "download(\"download_f0c23d36-ce9c-4dda-9897-c8abc49dbff5\", \"formatted_validation_data.jsonl\", 73382)"
            ]
          },
          "metadata": {}
        }
      ]
    },
    {
      "cell_type": "markdown",
      "source": [
        "## Without Prompt Engineering"
      ],
      "metadata": {
        "id": "Oo4hs9wnGyPd"
      }
    },
    {
      "cell_type": "code",
      "source": [
        "lst_determined=['CS', 'Civil', 'MAE', 'Medical', 'ECE', 'biochemistry', 'Psychology', 'Psychology', 'Medical', 'CS', 'Medical', 'CS', 'Civil', 'MAE', 'Psychology', 'Medical', 'Civil', 'Medical', 'ECE', 'MAE']\n",
        "lst_determined"
      ],
      "metadata": {
        "colab": {
          "base_uri": "https://localhost:8080/"
        },
        "id": "6ASNJvwGHj8d",
        "outputId": "7b5617ce-b20c-4ea9-a4fb-3f19714be05e"
      },
      "execution_count": 29,
      "outputs": [
        {
          "output_type": "execute_result",
          "data": {
            "text/plain": [
              "['CS',\n",
              " 'Civil',\n",
              " 'MAE',\n",
              " 'Medical',\n",
              " 'ECE',\n",
              " 'biochemistry',\n",
              " 'Psychology',\n",
              " 'Psychology',\n",
              " 'Medical',\n",
              " 'CS',\n",
              " 'Medical',\n",
              " 'CS',\n",
              " 'Civil',\n",
              " 'MAE',\n",
              " 'Psychology',\n",
              " 'Medical',\n",
              " 'Civil',\n",
              " 'Medical',\n",
              " 'ECE',\n",
              " 'MAE']"
            ]
          },
          "metadata": {},
          "execution_count": 29
        }
      ]
    },
    {
      "cell_type": "code",
      "source": [
        "len(lst_determined)"
      ],
      "metadata": {
        "colab": {
          "base_uri": "https://localhost:8080/"
        },
        "id": "JVDpAmlJI2Kc",
        "outputId": "44b4fffc-fee8-432e-f570-d26b150760f8"
      },
      "execution_count": 30,
      "outputs": [
        {
          "output_type": "execute_result",
          "data": {
            "text/plain": [
              "20"
            ]
          },
          "metadata": {},
          "execution_count": 30
        }
      ]
    },
    {
      "cell_type": "code",
      "source": [
        "df_test"
      ],
      "metadata": {
        "colab": {
          "base_uri": "https://localhost:8080/",
          "height": 677
        },
        "id": "UDeTYQqo0iCu",
        "outputId": "9a73a0f9-b916-43f6-c530-2be2629bbf97"
      },
      "execution_count": 31,
      "outputs": [
        {
          "output_type": "execute_result",
          "data": {
            "text/plain": [
              "           Domain                            area  \\\n",
              "0             CS                Data structures     \n",
              "1          Civil           Ambient Intelligence     \n",
              "2            ECE           Electrical generator     \n",
              "3        Medical                    Hepatitis C     \n",
              "4            ECE            Control engineering     \n",
              "5             CS                 Bioinformatics     \n",
              "6        Medical                    Weight Loss     \n",
              "7    Psychology                      Leadership     \n",
              "8    Psychology     Seasonal affective disorder     \n",
              "9             CS                Data structures     \n",
              "10       Medical            Atrial Fibrillation     \n",
              "11            CS          Distributed computing     \n",
              "12           MAE                     Hydraulics     \n",
              "13           ECE                 Electric motor     \n",
              "14   Psychology              Prosocial behavior     \n",
              "15       Medical            Alzheimer's Disease     \n",
              "16         Civil                     Geotextile     \n",
              "17  biochemistry              Northern blotting     \n",
              "18         Civil                 Remote Sensing     \n",
              "19         Civil                 Smart Material     \n",
              "\n",
              "                                             keywords  \\\n",
              "0    In-memory XPath processing; NESTOR; Set-based...   \n",
              "1    Home energy management; persuasive interface;...   \n",
              "2    non-standard electrical machine; generation o...   \n",
              "3    complications; patient engagement; patient-ce...   \n",
              "4    force feedback haptic interface; virtual real...   \n",
              "5                    Bioinformatics; genomics           \n",
              "6    Obesity; weight loss; moral work; body projec...   \n",
              "7    Data-based decision making; school improvemen...   \n",
              "8    Ramelteon; sleep; agomelatine; depression; in...   \n",
              "9    Succinct dynamic data structures; Succinct tr...   \n",
              "10   Transesophageal echocardiogram; Speckletracki...   \n",
              "11   Topology recognition; Leader election; Colore...   \n",
              "12   RETRAN-3D; Heat transfer; Condensation; Therm...   \n",
              "13   Contra-rotating fan; gearless; computational ...   \n",
              "14   inequity aversion; generosity; partiality; fa...   \n",
              "15   Mild cognitive impairment; Alzheimer's diseas...   \n",
              "16   Shear strength; Geosynthetic; Deposition plan...   \n",
              "17    Bpifb1; parotid acinar cells; NOD mouse           \n",
              "18   Soil moisture and ocean salinity (SMOS); Sea ...   \n",
              "19   shape-memory alloy; titanium-nickel alloy; su...   \n",
              "\n",
              "                                             Abstract  \n",
              "0   XML is a pervasive technology for representing...  \n",
              "1   The integration of renewable energy sources in...  \n",
              "2   The original free-swinging piston engine with ...  \n",
              "3   Barriers to access and long-term complications...  \n",
              "4   This paper is to present a technological solut...  \n",
              "5   Transposable elements (TEs) constitute the mos...  \n",
              "6   Cultural notions equating greater morality and...  \n",
              "7   Although data-based decision making can lead t...  \n",
              "8   Insomnia is common among elderly people and ne...  \n",
              "9   Cardinal trees (or tries of degree ) are a fun...  \n",
              "10  Vascular mechanics assessed with two-dimension...  \n",
              "11  Topology recognition and leader election are f...  \n",
              "12  The Great East Japan Earthquake occurred on Ma...  \n",
              "13  A gearless one-motor concept for contra-rotati...  \n",
              "14  Children and adults respond negatively to ineq...  \n",
              "15  Objective: To assess the accuracy of magnetic ...  \n",
              "16  The influence of the sand placement method abo...  \n",
              "17  OBJECTIVE: To define the increased mRNA expres...  \n",
              "18  The Soil Moisture and Ocean Salinity (SMOS) mi...  \n",
              "19  A SHAPE-MEMORY ALLOY (SMA) is expected to be a...  "
            ],
            "text/html": [
              "\n",
              "  <div id=\"df-3da19cba-13e8-4fe8-9d36-d0864bbd618a\" class=\"colab-df-container\">\n",
              "    <div>\n",
              "<style scoped>\n",
              "    .dataframe tbody tr th:only-of-type {\n",
              "        vertical-align: middle;\n",
              "    }\n",
              "\n",
              "    .dataframe tbody tr th {\n",
              "        vertical-align: top;\n",
              "    }\n",
              "\n",
              "    .dataframe thead th {\n",
              "        text-align: right;\n",
              "    }\n",
              "</style>\n",
              "<table border=\"1\" class=\"dataframe\">\n",
              "  <thead>\n",
              "    <tr style=\"text-align: right;\">\n",
              "      <th></th>\n",
              "      <th>Domain</th>\n",
              "      <th>area</th>\n",
              "      <th>keywords</th>\n",
              "      <th>Abstract</th>\n",
              "    </tr>\n",
              "  </thead>\n",
              "  <tbody>\n",
              "    <tr>\n",
              "      <th>0</th>\n",
              "      <td>CS</td>\n",
              "      <td>Data structures</td>\n",
              "      <td>In-memory XPath processing; NESTOR; Set-based...</td>\n",
              "      <td>XML is a pervasive technology for representing...</td>\n",
              "    </tr>\n",
              "    <tr>\n",
              "      <th>1</th>\n",
              "      <td>Civil</td>\n",
              "      <td>Ambient Intelligence</td>\n",
              "      <td>Home energy management; persuasive interface;...</td>\n",
              "      <td>The integration of renewable energy sources in...</td>\n",
              "    </tr>\n",
              "    <tr>\n",
              "      <th>2</th>\n",
              "      <td>ECE</td>\n",
              "      <td>Electrical generator</td>\n",
              "      <td>non-standard electrical machine; generation o...</td>\n",
              "      <td>The original free-swinging piston engine with ...</td>\n",
              "    </tr>\n",
              "    <tr>\n",
              "      <th>3</th>\n",
              "      <td>Medical</td>\n",
              "      <td>Hepatitis C</td>\n",
              "      <td>complications; patient engagement; patient-ce...</td>\n",
              "      <td>Barriers to access and long-term complications...</td>\n",
              "    </tr>\n",
              "    <tr>\n",
              "      <th>4</th>\n",
              "      <td>ECE</td>\n",
              "      <td>Control engineering</td>\n",
              "      <td>force feedback haptic interface; virtual real...</td>\n",
              "      <td>This paper is to present a technological solut...</td>\n",
              "    </tr>\n",
              "    <tr>\n",
              "      <th>5</th>\n",
              "      <td>CS</td>\n",
              "      <td>Bioinformatics</td>\n",
              "      <td>Bioinformatics; genomics</td>\n",
              "      <td>Transposable elements (TEs) constitute the mos...</td>\n",
              "    </tr>\n",
              "    <tr>\n",
              "      <th>6</th>\n",
              "      <td>Medical</td>\n",
              "      <td>Weight Loss</td>\n",
              "      <td>Obesity; weight loss; moral work; body projec...</td>\n",
              "      <td>Cultural notions equating greater morality and...</td>\n",
              "    </tr>\n",
              "    <tr>\n",
              "      <th>7</th>\n",
              "      <td>Psychology</td>\n",
              "      <td>Leadership</td>\n",
              "      <td>Data-based decision making; school improvemen...</td>\n",
              "      <td>Although data-based decision making can lead t...</td>\n",
              "    </tr>\n",
              "    <tr>\n",
              "      <th>8</th>\n",
              "      <td>Psychology</td>\n",
              "      <td>Seasonal affective disorder</td>\n",
              "      <td>Ramelteon; sleep; agomelatine; depression; in...</td>\n",
              "      <td>Insomnia is common among elderly people and ne...</td>\n",
              "    </tr>\n",
              "    <tr>\n",
              "      <th>9</th>\n",
              "      <td>CS</td>\n",
              "      <td>Data structures</td>\n",
              "      <td>Succinct dynamic data structures; Succinct tr...</td>\n",
              "      <td>Cardinal trees (or tries of degree ) are a fun...</td>\n",
              "    </tr>\n",
              "    <tr>\n",
              "      <th>10</th>\n",
              "      <td>Medical</td>\n",
              "      <td>Atrial Fibrillation</td>\n",
              "      <td>Transesophageal echocardiogram; Speckletracki...</td>\n",
              "      <td>Vascular mechanics assessed with two-dimension...</td>\n",
              "    </tr>\n",
              "    <tr>\n",
              "      <th>11</th>\n",
              "      <td>CS</td>\n",
              "      <td>Distributed computing</td>\n",
              "      <td>Topology recognition; Leader election; Colore...</td>\n",
              "      <td>Topology recognition and leader election are f...</td>\n",
              "    </tr>\n",
              "    <tr>\n",
              "      <th>12</th>\n",
              "      <td>MAE</td>\n",
              "      <td>Hydraulics</td>\n",
              "      <td>RETRAN-3D; Heat transfer; Condensation; Therm...</td>\n",
              "      <td>The Great East Japan Earthquake occurred on Ma...</td>\n",
              "    </tr>\n",
              "    <tr>\n",
              "      <th>13</th>\n",
              "      <td>ECE</td>\n",
              "      <td>Electric motor</td>\n",
              "      <td>Contra-rotating fan; gearless; computational ...</td>\n",
              "      <td>A gearless one-motor concept for contra-rotati...</td>\n",
              "    </tr>\n",
              "    <tr>\n",
              "      <th>14</th>\n",
              "      <td>Psychology</td>\n",
              "      <td>Prosocial behavior</td>\n",
              "      <td>inequity aversion; generosity; partiality; fa...</td>\n",
              "      <td>Children and adults respond negatively to ineq...</td>\n",
              "    </tr>\n",
              "    <tr>\n",
              "      <th>15</th>\n",
              "      <td>Medical</td>\n",
              "      <td>Alzheimer's Disease</td>\n",
              "      <td>Mild cognitive impairment; Alzheimer's diseas...</td>\n",
              "      <td>Objective: To assess the accuracy of magnetic ...</td>\n",
              "    </tr>\n",
              "    <tr>\n",
              "      <th>16</th>\n",
              "      <td>Civil</td>\n",
              "      <td>Geotextile</td>\n",
              "      <td>Shear strength; Geosynthetic; Deposition plan...</td>\n",
              "      <td>The influence of the sand placement method abo...</td>\n",
              "    </tr>\n",
              "    <tr>\n",
              "      <th>17</th>\n",
              "      <td>biochemistry</td>\n",
              "      <td>Northern blotting</td>\n",
              "      <td>Bpifb1; parotid acinar cells; NOD mouse</td>\n",
              "      <td>OBJECTIVE: To define the increased mRNA expres...</td>\n",
              "    </tr>\n",
              "    <tr>\n",
              "      <th>18</th>\n",
              "      <td>Civil</td>\n",
              "      <td>Remote Sensing</td>\n",
              "      <td>Soil moisture and ocean salinity (SMOS); Sea ...</td>\n",
              "      <td>The Soil Moisture and Ocean Salinity (SMOS) mi...</td>\n",
              "    </tr>\n",
              "    <tr>\n",
              "      <th>19</th>\n",
              "      <td>Civil</td>\n",
              "      <td>Smart Material</td>\n",
              "      <td>shape-memory alloy; titanium-nickel alloy; su...</td>\n",
              "      <td>A SHAPE-MEMORY ALLOY (SMA) is expected to be a...</td>\n",
              "    </tr>\n",
              "  </tbody>\n",
              "</table>\n",
              "</div>\n",
              "    <div class=\"colab-df-buttons\">\n",
              "\n",
              "  <div class=\"colab-df-container\">\n",
              "    <button class=\"colab-df-convert\" onclick=\"convertToInteractive('df-3da19cba-13e8-4fe8-9d36-d0864bbd618a')\"\n",
              "            title=\"Convert this dataframe to an interactive table.\"\n",
              "            style=\"display:none;\">\n",
              "\n",
              "  <svg xmlns=\"http://www.w3.org/2000/svg\" height=\"24px\" viewBox=\"0 -960 960 960\">\n",
              "    <path d=\"M120-120v-720h720v720H120Zm60-500h600v-160H180v160Zm220 220h160v-160H400v160Zm0 220h160v-160H400v160ZM180-400h160v-160H180v160Zm440 0h160v-160H620v160ZM180-180h160v-160H180v160Zm440 0h160v-160H620v160Z\"/>\n",
              "  </svg>\n",
              "    </button>\n",
              "\n",
              "  <style>\n",
              "    .colab-df-container {\n",
              "      display:flex;\n",
              "      gap: 12px;\n",
              "    }\n",
              "\n",
              "    .colab-df-convert {\n",
              "      background-color: #E8F0FE;\n",
              "      border: none;\n",
              "      border-radius: 50%;\n",
              "      cursor: pointer;\n",
              "      display: none;\n",
              "      fill: #1967D2;\n",
              "      height: 32px;\n",
              "      padding: 0 0 0 0;\n",
              "      width: 32px;\n",
              "    }\n",
              "\n",
              "    .colab-df-convert:hover {\n",
              "      background-color: #E2EBFA;\n",
              "      box-shadow: 0px 1px 2px rgba(60, 64, 67, 0.3), 0px 1px 3px 1px rgba(60, 64, 67, 0.15);\n",
              "      fill: #174EA6;\n",
              "    }\n",
              "\n",
              "    .colab-df-buttons div {\n",
              "      margin-bottom: 4px;\n",
              "    }\n",
              "\n",
              "    [theme=dark] .colab-df-convert {\n",
              "      background-color: #3B4455;\n",
              "      fill: #D2E3FC;\n",
              "    }\n",
              "\n",
              "    [theme=dark] .colab-df-convert:hover {\n",
              "      background-color: #434B5C;\n",
              "      box-shadow: 0px 1px 3px 1px rgba(0, 0, 0, 0.15);\n",
              "      filter: drop-shadow(0px 1px 2px rgba(0, 0, 0, 0.3));\n",
              "      fill: #FFFFFF;\n",
              "    }\n",
              "  </style>\n",
              "\n",
              "    <script>\n",
              "      const buttonEl =\n",
              "        document.querySelector('#df-3da19cba-13e8-4fe8-9d36-d0864bbd618a button.colab-df-convert');\n",
              "      buttonEl.style.display =\n",
              "        google.colab.kernel.accessAllowed ? 'block' : 'none';\n",
              "\n",
              "      async function convertToInteractive(key) {\n",
              "        const element = document.querySelector('#df-3da19cba-13e8-4fe8-9d36-d0864bbd618a');\n",
              "        const dataTable =\n",
              "          await google.colab.kernel.invokeFunction('convertToInteractive',\n",
              "                                                    [key], {});\n",
              "        if (!dataTable) return;\n",
              "\n",
              "        const docLinkHtml = 'Like what you see? Visit the ' +\n",
              "          '<a target=\"_blank\" href=https://colab.research.google.com/notebooks/data_table.ipynb>data table notebook</a>'\n",
              "          + ' to learn more about interactive tables.';\n",
              "        element.innerHTML = '';\n",
              "        dataTable['output_type'] = 'display_data';\n",
              "        await google.colab.output.renderOutput(dataTable, element);\n",
              "        const docLink = document.createElement('div');\n",
              "        docLink.innerHTML = docLinkHtml;\n",
              "        element.appendChild(docLink);\n",
              "      }\n",
              "    </script>\n",
              "  </div>\n",
              "\n",
              "\n",
              "<div id=\"df-e59864dd-611f-468c-8a64-a9c0fdc25a43\">\n",
              "  <button class=\"colab-df-quickchart\" onclick=\"quickchart('df-e59864dd-611f-468c-8a64-a9c0fdc25a43')\"\n",
              "            title=\"Suggest charts\"\n",
              "            style=\"display:none;\">\n",
              "\n",
              "<svg xmlns=\"http://www.w3.org/2000/svg\" height=\"24px\"viewBox=\"0 0 24 24\"\n",
              "     width=\"24px\">\n",
              "    <g>\n",
              "        <path d=\"M19 3H5c-1.1 0-2 .9-2 2v14c0 1.1.9 2 2 2h14c1.1 0 2-.9 2-2V5c0-1.1-.9-2-2-2zM9 17H7v-7h2v7zm4 0h-2V7h2v10zm4 0h-2v-4h2v4z\"/>\n",
              "    </g>\n",
              "</svg>\n",
              "  </button>\n",
              "\n",
              "<style>\n",
              "  .colab-df-quickchart {\n",
              "      --bg-color: #E8F0FE;\n",
              "      --fill-color: #1967D2;\n",
              "      --hover-bg-color: #E2EBFA;\n",
              "      --hover-fill-color: #174EA6;\n",
              "      --disabled-fill-color: #AAA;\n",
              "      --disabled-bg-color: #DDD;\n",
              "  }\n",
              "\n",
              "  [theme=dark] .colab-df-quickchart {\n",
              "      --bg-color: #3B4455;\n",
              "      --fill-color: #D2E3FC;\n",
              "      --hover-bg-color: #434B5C;\n",
              "      --hover-fill-color: #FFFFFF;\n",
              "      --disabled-bg-color: #3B4455;\n",
              "      --disabled-fill-color: #666;\n",
              "  }\n",
              "\n",
              "  .colab-df-quickchart {\n",
              "    background-color: var(--bg-color);\n",
              "    border: none;\n",
              "    border-radius: 50%;\n",
              "    cursor: pointer;\n",
              "    display: none;\n",
              "    fill: var(--fill-color);\n",
              "    height: 32px;\n",
              "    padding: 0;\n",
              "    width: 32px;\n",
              "  }\n",
              "\n",
              "  .colab-df-quickchart:hover {\n",
              "    background-color: var(--hover-bg-color);\n",
              "    box-shadow: 0 1px 2px rgba(60, 64, 67, 0.3), 0 1px 3px 1px rgba(60, 64, 67, 0.15);\n",
              "    fill: var(--button-hover-fill-color);\n",
              "  }\n",
              "\n",
              "  .colab-df-quickchart-complete:disabled,\n",
              "  .colab-df-quickchart-complete:disabled:hover {\n",
              "    background-color: var(--disabled-bg-color);\n",
              "    fill: var(--disabled-fill-color);\n",
              "    box-shadow: none;\n",
              "  }\n",
              "\n",
              "  .colab-df-spinner {\n",
              "    border: 2px solid var(--fill-color);\n",
              "    border-color: transparent;\n",
              "    border-bottom-color: var(--fill-color);\n",
              "    animation:\n",
              "      spin 1s steps(1) infinite;\n",
              "  }\n",
              "\n",
              "  @keyframes spin {\n",
              "    0% {\n",
              "      border-color: transparent;\n",
              "      border-bottom-color: var(--fill-color);\n",
              "      border-left-color: var(--fill-color);\n",
              "    }\n",
              "    20% {\n",
              "      border-color: transparent;\n",
              "      border-left-color: var(--fill-color);\n",
              "      border-top-color: var(--fill-color);\n",
              "    }\n",
              "    30% {\n",
              "      border-color: transparent;\n",
              "      border-left-color: var(--fill-color);\n",
              "      border-top-color: var(--fill-color);\n",
              "      border-right-color: var(--fill-color);\n",
              "    }\n",
              "    40% {\n",
              "      border-color: transparent;\n",
              "      border-right-color: var(--fill-color);\n",
              "      border-top-color: var(--fill-color);\n",
              "    }\n",
              "    60% {\n",
              "      border-color: transparent;\n",
              "      border-right-color: var(--fill-color);\n",
              "    }\n",
              "    80% {\n",
              "      border-color: transparent;\n",
              "      border-right-color: var(--fill-color);\n",
              "      border-bottom-color: var(--fill-color);\n",
              "    }\n",
              "    90% {\n",
              "      border-color: transparent;\n",
              "      border-bottom-color: var(--fill-color);\n",
              "    }\n",
              "  }\n",
              "</style>\n",
              "\n",
              "  <script>\n",
              "    async function quickchart(key) {\n",
              "      const quickchartButtonEl =\n",
              "        document.querySelector('#' + key + ' button');\n",
              "      quickchartButtonEl.disabled = true;  // To prevent multiple clicks.\n",
              "      quickchartButtonEl.classList.add('colab-df-spinner');\n",
              "      try {\n",
              "        const charts = await google.colab.kernel.invokeFunction(\n",
              "            'suggestCharts', [key], {});\n",
              "      } catch (error) {\n",
              "        console.error('Error during call to suggestCharts:', error);\n",
              "      }\n",
              "      quickchartButtonEl.classList.remove('colab-df-spinner');\n",
              "      quickchartButtonEl.classList.add('colab-df-quickchart-complete');\n",
              "    }\n",
              "    (() => {\n",
              "      let quickchartButtonEl =\n",
              "        document.querySelector('#df-e59864dd-611f-468c-8a64-a9c0fdc25a43 button');\n",
              "      quickchartButtonEl.style.display =\n",
              "        google.colab.kernel.accessAllowed ? 'block' : 'none';\n",
              "    })();\n",
              "  </script>\n",
              "</div>\n",
              "\n",
              "  <div id=\"id_01f418dd-586a-4fa2-a112-63a4a9375c2e\">\n",
              "    <style>\n",
              "      .colab-df-generate {\n",
              "        background-color: #E8F0FE;\n",
              "        border: none;\n",
              "        border-radius: 50%;\n",
              "        cursor: pointer;\n",
              "        display: none;\n",
              "        fill: #1967D2;\n",
              "        height: 32px;\n",
              "        padding: 0 0 0 0;\n",
              "        width: 32px;\n",
              "      }\n",
              "\n",
              "      .colab-df-generate:hover {\n",
              "        background-color: #E2EBFA;\n",
              "        box-shadow: 0px 1px 2px rgba(60, 64, 67, 0.3), 0px 1px 3px 1px rgba(60, 64, 67, 0.15);\n",
              "        fill: #174EA6;\n",
              "      }\n",
              "\n",
              "      [theme=dark] .colab-df-generate {\n",
              "        background-color: #3B4455;\n",
              "        fill: #D2E3FC;\n",
              "      }\n",
              "\n",
              "      [theme=dark] .colab-df-generate:hover {\n",
              "        background-color: #434B5C;\n",
              "        box-shadow: 0px 1px 3px 1px rgba(0, 0, 0, 0.15);\n",
              "        filter: drop-shadow(0px 1px 2px rgba(0, 0, 0, 0.3));\n",
              "        fill: #FFFFFF;\n",
              "      }\n",
              "    </style>\n",
              "    <button class=\"colab-df-generate\" onclick=\"generateWithVariable('df_test')\"\n",
              "            title=\"Generate code using this dataframe.\"\n",
              "            style=\"display:none;\">\n",
              "\n",
              "  <svg xmlns=\"http://www.w3.org/2000/svg\" height=\"24px\"viewBox=\"0 0 24 24\"\n",
              "       width=\"24px\">\n",
              "    <path d=\"M7,19H8.4L18.45,9,17,7.55,7,17.6ZM5,21V16.75L18.45,3.32a2,2,0,0,1,2.83,0l1.4,1.43a1.91,1.91,0,0,1,.58,1.4,1.91,1.91,0,0,1-.58,1.4L9.25,21ZM18.45,9,17,7.55Zm-12,3A5.31,5.31,0,0,0,4.9,8.1,5.31,5.31,0,0,0,1,6.5,5.31,5.31,0,0,0,4.9,4.9,5.31,5.31,0,0,0,6.5,1,5.31,5.31,0,0,0,8.1,4.9,5.31,5.31,0,0,0,12,6.5,5.46,5.46,0,0,0,6.5,12Z\"/>\n",
              "  </svg>\n",
              "    </button>\n",
              "    <script>\n",
              "      (() => {\n",
              "      const buttonEl =\n",
              "        document.querySelector('#id_01f418dd-586a-4fa2-a112-63a4a9375c2e button.colab-df-generate');\n",
              "      buttonEl.style.display =\n",
              "        google.colab.kernel.accessAllowed ? 'block' : 'none';\n",
              "\n",
              "      buttonEl.onclick = () => {\n",
              "        google.colab.notebook.generateWithVariable('df_test');\n",
              "      }\n",
              "      })();\n",
              "    </script>\n",
              "  </div>\n",
              "\n",
              "    </div>\n",
              "  </div>\n"
            ],
            "application/vnd.google.colaboratory.intrinsic+json": {
              "type": "dataframe",
              "variable_name": "df_test",
              "summary": "{\n  \"name\": \"df_test\",\n  \"rows\": 20,\n  \"fields\": [\n    {\n      \"column\": \"Domain\",\n      \"properties\": {\n        \"dtype\": \"category\",\n        \"num_unique_values\": 7,\n        \"samples\": [\n          \"CS \",\n          \"Civil \",\n          \"MAE \"\n        ],\n        \"semantic_type\": \"\",\n        \"description\": \"\"\n      }\n    },\n    {\n      \"column\": \"area\",\n      \"properties\": {\n        \"dtype\": \"string\",\n        \"num_unique_values\": 19,\n        \"samples\": [\n          \" Data structures  \",\n          \" Bioinformatics  \",\n          \" Hydraulics  \"\n        ],\n        \"semantic_type\": \"\",\n        \"description\": \"\"\n      }\n    },\n    {\n      \"column\": \"keywords\",\n      \"properties\": {\n        \"dtype\": \"string\",\n        \"num_unique_values\": 20,\n        \"samples\": [\n          \" In-memory XPath processing; NESTOR; Set-based data models; Data structures        \",\n          \" Bpifb1; parotid acinar cells; NOD mouse        \",\n          \" Mild cognitive impairment; Alzheimer's disease; Magnetic resonance spectroscopy; Brain volumetry        \"\n        ],\n        \"semantic_type\": \"\",\n        \"description\": \"\"\n      }\n    },\n    {\n      \"column\": \"Abstract\",\n      \"properties\": {\n        \"dtype\": \"string\",\n        \"num_unique_values\": 20,\n        \"samples\": [\n          \"XML is a pervasive technology for representing and accessing semi-structured data. XPath is the standard language for navigational queries on XML documents and there is a growing demand for its efficient processing. In order to increase the efficiency in executing four navigational XML query primitives, namely descendants, ancestors, children and parent, we introduce a new paradigm where traditional approaches based on the efficient traversing of nodes and edges to reconstruct the requested subtrees are replaced by a brand new one based on basic set operations which allow us to directly return the desired subtree, avoiding to create it passing through nodes and edges. Our solution stems from the NEsted SeTs for Object hieRarchies (NEASTOR) formal model, which makes use of set-inclusion relations for representing and providing access to hierarchical data. We define in-memory efficient data structures to implement NESTOR, we develop algorithms to perform the descendants, ancestors, children and parent query primitives and we study their computational complexity. We conduct an extensive experimental evaluation by using several datasets: digital archives (EAD collections), INEX 2009 Wikipedia collection, and two widely-used synthetic datasets (XMark and XGen). We show that NESTOR-based data structures and query primitives consistently outperform state-of-the-art solutions for XPath processing at execution time and they are competitive in terms of both memory occupation and pre-processing time. (C) 2015 Elsevier Ltd. All rights reserved.\",\n          \"OBJECTIVE: To define the increased mRNA expression of Bpifb1, a member of the bactericidal/permeability-increasing protein family, in parotid acinar cells from non-obese diabetic (NOD) mice, an animal model for Sjogren's syndrome. MATERIALS AND METHODS: Parotid acinar cells were prepared from female NOD (NOD/ShiJcl) mice with or without diabetes, as well as from control (C57BL/6JJcl) mice. Total RNA and homogenate were prepared from the parotid acinar cells. Embryonic cDNA from a Mouse MTC (TM) Panel I kit was used. The expression of Bpifb1 was determined by cDNA microarray analysis, RT-PCR, real-time PCR, northern blotting and in situ hybridization. RESULTS: The expression of Bpifb1 mRNA was high in parotid acinar cells from diabetic and non-diabetic NOD mice at 5-50 weeks of age. Acinar cells in the C57BL/6 mice had a low expression of Bpifb1 mRNA at an age >8 weeks, but had a relatively high expression in the foetus and infantile stages. CONCLUSIONS: Bpifb1 mRNA is upregulated in parotid acinar cells in NOD mice, but its expression is not related to the onset of diabetes. These findings suggest that high expression levels of Bpifb1 might predict disease traits before the onset of autoimmunity.\",\n          \"Objective: To assess the accuracy of magnetic resonance spectroscopy (1H-MRS) and brain volumetry in mild cognitive impairment (MCI) to predict conversion to probable Alzheimer's disease (AD). Methods: Forty-eight patients fulfilling the criteria of amnestic MCI who underwent a conventional magnetic resonance imaging (MRI) followed by MRS, and T1-3D on 1.5 Tesla MR unit. At baseline the patients underwent neuropsychological examination. 1H-MRS of the brain was carried out by exploring the left medial occipital lobe and ventral posterior cingulated cortex (vPCC) using the LCModel software. A high resolution T1-3D sequence was acquired to carry out the volumetric measurement. A cortical and subcortical parcellation strategy was used to obtain the volumes of each area within the brain. The patients were followed up to detect conversion to probable AD. Results: After a 3-year follow-up, 15 (31.2%) patients converted to AD. The myo-inositol in the occipital cortex and glutamate + glutamine (Glx) in the posterior cingulate cortex predicted conversion to probable AD at 46.1% sensitivity and 90.6% specificity. The positive predictive value was 66.7%, and the negative predictive value was 80.6%, with an overall cross-validated classification accuracy of 77.8%. The volume of the third ventricle, the total white matter and entorhinal cortex predict conversion to probable AD at 46.7% sensitivity and 90.9% specificity. The positive predictive value was 70%, and the negative predictive value was 78.9%, with an overall cross validated classification accuracy of 77.1%. Combining volumetric measures in addition to the MRS measures the prediction to probable AD has a 38.5% sensitivity and 87.5% specificity, with a positive predictive value of 55.6%, a negative predictive value of 77.8% and an overall accuracy of 733%. Conclusion: Either MRS or brain volumetric measures are markers separately of cognitive decline and may serve as a noninvasive tool to monitor cognitive changes and progression to dementia in patients with amnestic MCI, but the results do not support the routine use in the clinical settings. (C) 2016 Elsevier Inc. All rights reserved.\"\n        ],\n        \"semantic_type\": \"\",\n        \"description\": \"\"\n      }\n    }\n  ]\n}"
            }
          },
          "metadata": {},
          "execution_count": 31
        }
      ]
    },
    {
      "cell_type": "code",
      "source": [
        "lst_actual=df_test['Domain'].str.strip().tolist()\n",
        "lst_actual"
      ],
      "metadata": {
        "colab": {
          "base_uri": "https://localhost:8080/"
        },
        "id": "2vMnqw_SI4DP",
        "outputId": "27f494d8-41e7-493f-a737-2b8654ead16b"
      },
      "execution_count": 32,
      "outputs": [
        {
          "output_type": "execute_result",
          "data": {
            "text/plain": [
              "['CS',\n",
              " 'Civil',\n",
              " 'ECE',\n",
              " 'Medical',\n",
              " 'ECE',\n",
              " 'CS',\n",
              " 'Medical',\n",
              " 'Psychology',\n",
              " 'Psychology',\n",
              " 'CS',\n",
              " 'Medical',\n",
              " 'CS',\n",
              " 'MAE',\n",
              " 'ECE',\n",
              " 'Psychology',\n",
              " 'Medical',\n",
              " 'Civil',\n",
              " 'biochemistry',\n",
              " 'Civil',\n",
              " 'Civil']"
            ]
          },
          "metadata": {},
          "execution_count": 32
        }
      ]
    },
    {
      "cell_type": "code",
      "source": [
        "total=len(lst_actual)\n",
        "total"
      ],
      "metadata": {
        "id": "SfJKKyO4JBEp",
        "colab": {
          "base_uri": "https://localhost:8080/"
        },
        "outputId": "ab967a99-e902-408e-baed-adfaba579e01"
      },
      "execution_count": 33,
      "outputs": [
        {
          "output_type": "execute_result",
          "data": {
            "text/plain": [
              "20"
            ]
          },
          "metadata": {},
          "execution_count": 33
        }
      ]
    },
    {
      "cell_type": "code",
      "source": [
        "correct=0\n",
        "for i in range(total):\n",
        "  if lst_actual[i]==lst_determined[i]:\n",
        "    correct+=1\n",
        "correct"
      ],
      "metadata": {
        "id": "jfyq9ogyJHKM",
        "colab": {
          "base_uri": "https://localhost:8080/"
        },
        "outputId": "778883f4-0a88-475f-edee-9b7d56b89e63"
      },
      "execution_count": 34,
      "outputs": [
        {
          "output_type": "execute_result",
          "data": {
            "text/plain": [
              "11"
            ]
          },
          "metadata": {},
          "execution_count": 34
        }
      ]
    },
    {
      "cell_type": "code",
      "source": [
        "accuracy=correct/total\n",
        "accuracy"
      ],
      "metadata": {
        "id": "WXiMrmSJJLOG",
        "colab": {
          "base_uri": "https://localhost:8080/"
        },
        "outputId": "ad015e00-b222-44ed-8078-56bcaf892320"
      },
      "execution_count": 35,
      "outputs": [
        {
          "output_type": "execute_result",
          "data": {
            "text/plain": [
              "0.55"
            ]
          },
          "metadata": {},
          "execution_count": 35
        }
      ]
    },
    {
      "cell_type": "markdown",
      "source": [
        "https://platform.openai.com/playground/p/0BX4x6Ak7zaUDudqjODwZbwl?model=ft:gpt-3.5-turbo-1106:personal:gpt-fine-tuned:9672aibL&mode=chat"
      ],
      "metadata": {
        "id": "-Ng25UhPJ0l8"
      }
    },
    {
      "cell_type": "markdown",
      "source": [
        "## With Prompt Engineering"
      ],
      "metadata": {
        "id": "BIDhrkhsK4Jo"
      }
    },
    {
      "cell_type": "code",
      "source": [
        "lst_determined1=['CS','MAE','ECE','Medical','ECE','biochemistry','Psychology','Psychology','Medical','CS','Medical','CS','MAE','MAE','Psychology','Medical','Civil','Medical','ECE','MAE']\n",
        "lst_determined1"
      ],
      "metadata": {
        "id": "0lXqXpOGK5-Q",
        "colab": {
          "base_uri": "https://localhost:8080/"
        },
        "outputId": "7a60caef-b0a5-4c2f-a2fd-c0794e91eb8f"
      },
      "execution_count": 36,
      "outputs": [
        {
          "output_type": "execute_result",
          "data": {
            "text/plain": [
              "['CS',\n",
              " 'MAE',\n",
              " 'ECE',\n",
              " 'Medical',\n",
              " 'ECE',\n",
              " 'biochemistry',\n",
              " 'Psychology',\n",
              " 'Psychology',\n",
              " 'Medical',\n",
              " 'CS',\n",
              " 'Medical',\n",
              " 'CS',\n",
              " 'MAE',\n",
              " 'MAE',\n",
              " 'Psychology',\n",
              " 'Medical',\n",
              " 'Civil',\n",
              " 'Medical',\n",
              " 'ECE',\n",
              " 'MAE']"
            ]
          },
          "metadata": {},
          "execution_count": 36
        }
      ]
    },
    {
      "cell_type": "code",
      "source": [
        "lst_actual"
      ],
      "metadata": {
        "id": "Z70skrPlMAzQ",
        "colab": {
          "base_uri": "https://localhost:8080/"
        },
        "outputId": "5722c01c-45ed-4f4d-85c1-850f773b85e5"
      },
      "execution_count": 37,
      "outputs": [
        {
          "output_type": "execute_result",
          "data": {
            "text/plain": [
              "['CS',\n",
              " 'Civil',\n",
              " 'ECE',\n",
              " 'Medical',\n",
              " 'ECE',\n",
              " 'CS',\n",
              " 'Medical',\n",
              " 'Psychology',\n",
              " 'Psychology',\n",
              " 'CS',\n",
              " 'Medical',\n",
              " 'CS',\n",
              " 'MAE',\n",
              " 'ECE',\n",
              " 'Psychology',\n",
              " 'Medical',\n",
              " 'Civil',\n",
              " 'biochemistry',\n",
              " 'Civil',\n",
              " 'Civil']"
            ]
          },
          "metadata": {},
          "execution_count": 37
        }
      ]
    },
    {
      "cell_type": "code",
      "source": [
        "total=len(lst_actual)\n",
        "total"
      ],
      "metadata": {
        "id": "xLnPW55gMCe7",
        "colab": {
          "base_uri": "https://localhost:8080/"
        },
        "outputId": "b72e3ff5-6075-4ab4-8102-105374467c70"
      },
      "execution_count": 38,
      "outputs": [
        {
          "output_type": "execute_result",
          "data": {
            "text/plain": [
              "20"
            ]
          },
          "metadata": {},
          "execution_count": 38
        }
      ]
    },
    {
      "cell_type": "code",
      "source": [
        "correct=0\n",
        "for i in range(total):\n",
        "  if lst_actual[i]==lst_determined1[i]:\n",
        "    correct+=1\n",
        "correct"
      ],
      "metadata": {
        "id": "Vawcabv7MDyn",
        "colab": {
          "base_uri": "https://localhost:8080/"
        },
        "outputId": "b9973724-d0b1-4aab-fffb-2e0dd774857c"
      },
      "execution_count": 39,
      "outputs": [
        {
          "output_type": "execute_result",
          "data": {
            "text/plain": [
              "12"
            ]
          },
          "metadata": {},
          "execution_count": 39
        }
      ]
    },
    {
      "cell_type": "code",
      "source": [
        "accuracy=correct/total\n",
        "accuracy"
      ],
      "metadata": {
        "id": "bxrtPcaJMFgF",
        "colab": {
          "base_uri": "https://localhost:8080/"
        },
        "outputId": "23a0d859-f96f-406a-ab1e-446d5b69cc12"
      },
      "execution_count": 40,
      "outputs": [
        {
          "output_type": "execute_result",
          "data": {
            "text/plain": [
              "0.6"
            ]
          },
          "metadata": {},
          "execution_count": 40
        }
      ]
    },
    {
      "cell_type": "markdown",
      "source": [
        "https://platform.openai.com/playground/p/0pkZyS46MVZ20wosRgfW3pdZ?model=gpt-3.5-turbo&mode=chat"
      ],
      "metadata": {
        "id": "-FXuXq92MOIO"
      }
    },
    {
      "cell_type": "markdown",
      "metadata": {
        "id": "f3_bCj6iM0qw"
      },
      "source": [
        "# Question #4: Fine-tune a Distilbert model on the training set\n"
      ]
    },
    {
      "cell_type": "markdown",
      "source": [
        "1) Prepare the data and load the pre-trained model"
      ],
      "metadata": {
        "id": "iP0jlP02_kVl"
      }
    },
    {
      "cell_type": "code",
      "execution_count": 75,
      "metadata": {
        "id": "Kk6iSRegd_Xd"
      },
      "outputs": [],
      "source": [
        "training_set = load_data('/content/drive/My Drive/training.csv')\n",
        "validation_set = load_data('/content/drive/My Drive/validation.csv')\n",
        "test_set = load_data('/content/drive/My Drive/test_llm.csv')"
      ]
    },
    {
      "cell_type": "code",
      "source": [
        "# Format the training, validation, and test sets\n",
        "# to use them for fine-tuning and evaluation using Distilbert\n",
        "tokenizer = DistilBertTokenizer.from_pretrained('distilbert-base-uncased')\n",
        "def make_finetuning_data_distilbert(dataset, tokenizer, max_length=512):\n",
        "    inputs = tokenizer(dataset[\"Abstract\"].tolist(), padding=\"max_length\", truncation=True, max_length=max_length, return_tensors=\"pt\")\n",
        "    labels = pd.get_dummies(dataset[\"Domain\"]).values.argmax(axis=1)\n",
        "    return {\"input_ids\": inputs[\"input_ids\"], \"attention_mask\": inputs[\"attention_mask\"], \"labels\": torch.tensor(labels)}\n",
        "\n",
        "MAX_LENGTH = 512\n",
        "training_set = make_finetuning_data_distilbert(training_set, tokenizer, MAX_LENGTH)\n",
        "validation_set = make_finetuning_data_distilbert(validation_set, tokenizer, MAX_LENGTH)\n",
        "test_set = make_finetuning_data_distilbert(test_set, tokenizer, MAX_LENGTH)"
      ],
      "metadata": {
        "id": "uYW0LXaq_AaG"
      },
      "execution_count": 76,
      "outputs": []
    },
    {
      "cell_type": "code",
      "source": [
        "# use the distilbert tokenizer and pre-trained model\n",
        "#tokenizer = DistilBertTokenizer.from_pretrained('distilbert-base-uncased')\n",
        "bert_model = DistilBertModel.from_pretrained(\"distilbert-base-uncased\")"
      ],
      "metadata": {
        "id": "YKeXsry96WoS"
      },
      "execution_count": 77,
      "outputs": []
    },
    {
      "cell_type": "markdown",
      "source": [
        "2) Prepare the dataloader"
      ],
      "metadata": {
        "id": "akWkecsS_pH_"
      }
    },
    {
      "cell_type": "code",
      "source": [
        "MAX_LENGTH = MAX_LENGTH\n",
        "BATCH_SIZE_TRAIN = 8\n",
        "BATCH_SIZE_VAL = 8\n",
        "\n",
        "class FTDataset(Dataset):\n",
        "    def __init__(self, encodings, labels):\n",
        "        self.encodings = encodings\n",
        "        self.labels = labels\n",
        "\n",
        "    def __len__(self):\n",
        "        return len(self.labels)\n",
        "\n",
        "    def __getitem__(self, index):\n",
        "        # Here, 'encodings' is a dictionary containing 'input_ids' and 'attention_mask'\n",
        "        item = {key: val[index] for key, val in self.encodings.items()}\n",
        "        item['labels'] = self.labels[index]\n",
        "        return item\n",
        "\n",
        "# Correctly passing the entire dictionaries\n",
        "dataset_train = FTDataset(training_set, training_set['labels'])\n",
        "dataloader_train = DataLoader(dataset=dataset_train, batch_size=BATCH_SIZE_TRAIN)\n",
        "dataset_val = FTDataset(validation_set, validation_set['labels'])\n",
        "dataloader_val = DataLoader(dataset=dataset_val, batch_size=BATCH_SIZE_VAL)"
      ],
      "metadata": {
        "id": "tilzC0vbx5Df"
      },
      "execution_count": 78,
      "outputs": []
    },
    {
      "cell_type": "code",
      "source": [
        "training_set"
      ],
      "metadata": {
        "colab": {
          "base_uri": "https://localhost:8080/"
        },
        "id": "09NQDnKuu3qm",
        "outputId": "d272e6a4-e38d-4e97-9f14-8029164c0f1a"
      },
      "execution_count": 79,
      "outputs": [
        {
          "output_type": "execute_result",
          "data": {
            "text/plain": [
              "{'input_ids': tensor([[ 101, 8704, 1024,  ...,    0,    0,    0],\n",
              "         [ 101, 4684, 4005,  ...,    0,    0,    0],\n",
              "         [ 101, 2023, 3259,  ...,    0,    0,    0],\n",
              "         ...,\n",
              "         [ 101, 1015, 1012,  ...,    0,    0,    0],\n",
              "         [ 101, 1015, 1012,  ...,    0,    0,    0],\n",
              "         [ 101, 1037, 2186,  ...,    0,    0,    0]]),\n",
              " 'attention_mask': tensor([[1, 1, 1,  ..., 0, 0, 0],\n",
              "         [1, 1, 1,  ..., 0, 0, 0],\n",
              "         [1, 1, 1,  ..., 0, 0, 0],\n",
              "         ...,\n",
              "         [1, 1, 1,  ..., 0, 0, 0],\n",
              "         [1, 1, 1,  ..., 0, 0, 0],\n",
              "         [1, 1, 1,  ..., 0, 0, 0]]),\n",
              " 'labels': tensor([4, 0, 2, 5, 5, 0, 5, 2, 0, 4, 4, 1, 6, 4, 2, 4, 1, 4, 3, 5, 4, 4, 0, 2,\n",
              "         6, 6, 4, 6, 6, 5, 6, 0, 2, 6, 5, 6, 2, 6, 6, 6, 6, 1, 1, 1, 3, 4, 6, 6,\n",
              "         4, 3])}"
            ]
          },
          "metadata": {},
          "execution_count": 79
        }
      ]
    },
    {
      "cell_type": "markdown",
      "source": [
        "2) Add (a) trainable layer(s) on top of DistilBert"
      ],
      "metadata": {
        "id": "8D2KTsRSAOsd"
      }
    },
    {
      "cell_type": "code",
      "source": [
        "path= '/content/drive/My Drive/'"
      ],
      "metadata": {
        "id": "sRDCO0zc98MV"
      },
      "execution_count": 80,
      "outputs": []
    },
    {
      "cell_type": "code",
      "source": [
        "df_training_for_labels = pd.read_csv(path+'training.csv')\n",
        "df_training_for_labels.head()"
      ],
      "metadata": {
        "colab": {
          "base_uri": "https://localhost:8080/",
          "height": 206
        },
        "id": "rQzLptpVzJHP",
        "outputId": "330a3241-07a4-42a9-afba-c987960cd8a5"
      },
      "execution_count": 81,
      "outputs": [
        {
          "output_type": "execute_result",
          "data": {
            "text/plain": [
              "         Domain                      area  \\\n",
              "0      Medical              Hepatitis C     \n",
              "1           CS    Distributed computing     \n",
              "2          ECE      Control engineering     \n",
              "3  Psychology            False memories     \n",
              "4  Psychology                Leadership     \n",
              "\n",
              "                                            keywords  \\\n",
              "0   Feasibility study; hepatitis C risk behaviour...   \n",
              "1   Agent Architecture; Mobile Agent; Agent Cloni...   \n",
              "2   educational software tool; multivariable cont...   \n",
              "3   judgment; metamemory; accuracy; eyewitness me...   \n",
              "4   Implementation support; Co-occurring disorder...   \n",
              "\n",
              "                                            Abstract  \n",
              "0  Aims: This study aimed to develop and test the...  \n",
              "1  Mobile agent technology is becoming more popul...  \n",
              "2  This paper presents an educational software to...  \n",
              "3  Different researchers have reported positive, ...  \n",
              "4  Background: Incorporating evidence-based integ...  "
            ],
            "text/html": [
              "\n",
              "  <div id=\"df-1e4dc668-db1d-44ba-8e9c-cb16cc7e1661\" class=\"colab-df-container\">\n",
              "    <div>\n",
              "<style scoped>\n",
              "    .dataframe tbody tr th:only-of-type {\n",
              "        vertical-align: middle;\n",
              "    }\n",
              "\n",
              "    .dataframe tbody tr th {\n",
              "        vertical-align: top;\n",
              "    }\n",
              "\n",
              "    .dataframe thead th {\n",
              "        text-align: right;\n",
              "    }\n",
              "</style>\n",
              "<table border=\"1\" class=\"dataframe\">\n",
              "  <thead>\n",
              "    <tr style=\"text-align: right;\">\n",
              "      <th></th>\n",
              "      <th>Domain</th>\n",
              "      <th>area</th>\n",
              "      <th>keywords</th>\n",
              "      <th>Abstract</th>\n",
              "    </tr>\n",
              "  </thead>\n",
              "  <tbody>\n",
              "    <tr>\n",
              "      <th>0</th>\n",
              "      <td>Medical</td>\n",
              "      <td>Hepatitis C</td>\n",
              "      <td>Feasibility study; hepatitis C risk behaviour...</td>\n",
              "      <td>Aims: This study aimed to develop and test the...</td>\n",
              "    </tr>\n",
              "    <tr>\n",
              "      <th>1</th>\n",
              "      <td>CS</td>\n",
              "      <td>Distributed computing</td>\n",
              "      <td>Agent Architecture; Mobile Agent; Agent Cloni...</td>\n",
              "      <td>Mobile agent technology is becoming more popul...</td>\n",
              "    </tr>\n",
              "    <tr>\n",
              "      <th>2</th>\n",
              "      <td>ECE</td>\n",
              "      <td>Control engineering</td>\n",
              "      <td>educational software tool; multivariable cont...</td>\n",
              "      <td>This paper presents an educational software to...</td>\n",
              "    </tr>\n",
              "    <tr>\n",
              "      <th>3</th>\n",
              "      <td>Psychology</td>\n",
              "      <td>False memories</td>\n",
              "      <td>judgment; metamemory; accuracy; eyewitness me...</td>\n",
              "      <td>Different researchers have reported positive, ...</td>\n",
              "    </tr>\n",
              "    <tr>\n",
              "      <th>4</th>\n",
              "      <td>Psychology</td>\n",
              "      <td>Leadership</td>\n",
              "      <td>Implementation support; Co-occurring disorder...</td>\n",
              "      <td>Background: Incorporating evidence-based integ...</td>\n",
              "    </tr>\n",
              "  </tbody>\n",
              "</table>\n",
              "</div>\n",
              "    <div class=\"colab-df-buttons\">\n",
              "\n",
              "  <div class=\"colab-df-container\">\n",
              "    <button class=\"colab-df-convert\" onclick=\"convertToInteractive('df-1e4dc668-db1d-44ba-8e9c-cb16cc7e1661')\"\n",
              "            title=\"Convert this dataframe to an interactive table.\"\n",
              "            style=\"display:none;\">\n",
              "\n",
              "  <svg xmlns=\"http://www.w3.org/2000/svg\" height=\"24px\" viewBox=\"0 -960 960 960\">\n",
              "    <path d=\"M120-120v-720h720v720H120Zm60-500h600v-160H180v160Zm220 220h160v-160H400v160Zm0 220h160v-160H400v160ZM180-400h160v-160H180v160Zm440 0h160v-160H620v160ZM180-180h160v-160H180v160Zm440 0h160v-160H620v160Z\"/>\n",
              "  </svg>\n",
              "    </button>\n",
              "\n",
              "  <style>\n",
              "    .colab-df-container {\n",
              "      display:flex;\n",
              "      gap: 12px;\n",
              "    }\n",
              "\n",
              "    .colab-df-convert {\n",
              "      background-color: #E8F0FE;\n",
              "      border: none;\n",
              "      border-radius: 50%;\n",
              "      cursor: pointer;\n",
              "      display: none;\n",
              "      fill: #1967D2;\n",
              "      height: 32px;\n",
              "      padding: 0 0 0 0;\n",
              "      width: 32px;\n",
              "    }\n",
              "\n",
              "    .colab-df-convert:hover {\n",
              "      background-color: #E2EBFA;\n",
              "      box-shadow: 0px 1px 2px rgba(60, 64, 67, 0.3), 0px 1px 3px 1px rgba(60, 64, 67, 0.15);\n",
              "      fill: #174EA6;\n",
              "    }\n",
              "\n",
              "    .colab-df-buttons div {\n",
              "      margin-bottom: 4px;\n",
              "    }\n",
              "\n",
              "    [theme=dark] .colab-df-convert {\n",
              "      background-color: #3B4455;\n",
              "      fill: #D2E3FC;\n",
              "    }\n",
              "\n",
              "    [theme=dark] .colab-df-convert:hover {\n",
              "      background-color: #434B5C;\n",
              "      box-shadow: 0px 1px 3px 1px rgba(0, 0, 0, 0.15);\n",
              "      filter: drop-shadow(0px 1px 2px rgba(0, 0, 0, 0.3));\n",
              "      fill: #FFFFFF;\n",
              "    }\n",
              "  </style>\n",
              "\n",
              "    <script>\n",
              "      const buttonEl =\n",
              "        document.querySelector('#df-1e4dc668-db1d-44ba-8e9c-cb16cc7e1661 button.colab-df-convert');\n",
              "      buttonEl.style.display =\n",
              "        google.colab.kernel.accessAllowed ? 'block' : 'none';\n",
              "\n",
              "      async function convertToInteractive(key) {\n",
              "        const element = document.querySelector('#df-1e4dc668-db1d-44ba-8e9c-cb16cc7e1661');\n",
              "        const dataTable =\n",
              "          await google.colab.kernel.invokeFunction('convertToInteractive',\n",
              "                                                    [key], {});\n",
              "        if (!dataTable) return;\n",
              "\n",
              "        const docLinkHtml = 'Like what you see? Visit the ' +\n",
              "          '<a target=\"_blank\" href=https://colab.research.google.com/notebooks/data_table.ipynb>data table notebook</a>'\n",
              "          + ' to learn more about interactive tables.';\n",
              "        element.innerHTML = '';\n",
              "        dataTable['output_type'] = 'display_data';\n",
              "        await google.colab.output.renderOutput(dataTable, element);\n",
              "        const docLink = document.createElement('div');\n",
              "        docLink.innerHTML = docLinkHtml;\n",
              "        element.appendChild(docLink);\n",
              "      }\n",
              "    </script>\n",
              "  </div>\n",
              "\n",
              "\n",
              "<div id=\"df-a5c24afd-d03c-4129-a73d-908a160d7427\">\n",
              "  <button class=\"colab-df-quickchart\" onclick=\"quickchart('df-a5c24afd-d03c-4129-a73d-908a160d7427')\"\n",
              "            title=\"Suggest charts\"\n",
              "            style=\"display:none;\">\n",
              "\n",
              "<svg xmlns=\"http://www.w3.org/2000/svg\" height=\"24px\"viewBox=\"0 0 24 24\"\n",
              "     width=\"24px\">\n",
              "    <g>\n",
              "        <path d=\"M19 3H5c-1.1 0-2 .9-2 2v14c0 1.1.9 2 2 2h14c1.1 0 2-.9 2-2V5c0-1.1-.9-2-2-2zM9 17H7v-7h2v7zm4 0h-2V7h2v10zm4 0h-2v-4h2v4z\"/>\n",
              "    </g>\n",
              "</svg>\n",
              "  </button>\n",
              "\n",
              "<style>\n",
              "  .colab-df-quickchart {\n",
              "      --bg-color: #E8F0FE;\n",
              "      --fill-color: #1967D2;\n",
              "      --hover-bg-color: #E2EBFA;\n",
              "      --hover-fill-color: #174EA6;\n",
              "      --disabled-fill-color: #AAA;\n",
              "      --disabled-bg-color: #DDD;\n",
              "  }\n",
              "\n",
              "  [theme=dark] .colab-df-quickchart {\n",
              "      --bg-color: #3B4455;\n",
              "      --fill-color: #D2E3FC;\n",
              "      --hover-bg-color: #434B5C;\n",
              "      --hover-fill-color: #FFFFFF;\n",
              "      --disabled-bg-color: #3B4455;\n",
              "      --disabled-fill-color: #666;\n",
              "  }\n",
              "\n",
              "  .colab-df-quickchart {\n",
              "    background-color: var(--bg-color);\n",
              "    border: none;\n",
              "    border-radius: 50%;\n",
              "    cursor: pointer;\n",
              "    display: none;\n",
              "    fill: var(--fill-color);\n",
              "    height: 32px;\n",
              "    padding: 0;\n",
              "    width: 32px;\n",
              "  }\n",
              "\n",
              "  .colab-df-quickchart:hover {\n",
              "    background-color: var(--hover-bg-color);\n",
              "    box-shadow: 0 1px 2px rgba(60, 64, 67, 0.3), 0 1px 3px 1px rgba(60, 64, 67, 0.15);\n",
              "    fill: var(--button-hover-fill-color);\n",
              "  }\n",
              "\n",
              "  .colab-df-quickchart-complete:disabled,\n",
              "  .colab-df-quickchart-complete:disabled:hover {\n",
              "    background-color: var(--disabled-bg-color);\n",
              "    fill: var(--disabled-fill-color);\n",
              "    box-shadow: none;\n",
              "  }\n",
              "\n",
              "  .colab-df-spinner {\n",
              "    border: 2px solid var(--fill-color);\n",
              "    border-color: transparent;\n",
              "    border-bottom-color: var(--fill-color);\n",
              "    animation:\n",
              "      spin 1s steps(1) infinite;\n",
              "  }\n",
              "\n",
              "  @keyframes spin {\n",
              "    0% {\n",
              "      border-color: transparent;\n",
              "      border-bottom-color: var(--fill-color);\n",
              "      border-left-color: var(--fill-color);\n",
              "    }\n",
              "    20% {\n",
              "      border-color: transparent;\n",
              "      border-left-color: var(--fill-color);\n",
              "      border-top-color: var(--fill-color);\n",
              "    }\n",
              "    30% {\n",
              "      border-color: transparent;\n",
              "      border-left-color: var(--fill-color);\n",
              "      border-top-color: var(--fill-color);\n",
              "      border-right-color: var(--fill-color);\n",
              "    }\n",
              "    40% {\n",
              "      border-color: transparent;\n",
              "      border-right-color: var(--fill-color);\n",
              "      border-top-color: var(--fill-color);\n",
              "    }\n",
              "    60% {\n",
              "      border-color: transparent;\n",
              "      border-right-color: var(--fill-color);\n",
              "    }\n",
              "    80% {\n",
              "      border-color: transparent;\n",
              "      border-right-color: var(--fill-color);\n",
              "      border-bottom-color: var(--fill-color);\n",
              "    }\n",
              "    90% {\n",
              "      border-color: transparent;\n",
              "      border-bottom-color: var(--fill-color);\n",
              "    }\n",
              "  }\n",
              "</style>\n",
              "\n",
              "  <script>\n",
              "    async function quickchart(key) {\n",
              "      const quickchartButtonEl =\n",
              "        document.querySelector('#' + key + ' button');\n",
              "      quickchartButtonEl.disabled = true;  // To prevent multiple clicks.\n",
              "      quickchartButtonEl.classList.add('colab-df-spinner');\n",
              "      try {\n",
              "        const charts = await google.colab.kernel.invokeFunction(\n",
              "            'suggestCharts', [key], {});\n",
              "      } catch (error) {\n",
              "        console.error('Error during call to suggestCharts:', error);\n",
              "      }\n",
              "      quickchartButtonEl.classList.remove('colab-df-spinner');\n",
              "      quickchartButtonEl.classList.add('colab-df-quickchart-complete');\n",
              "    }\n",
              "    (() => {\n",
              "      let quickchartButtonEl =\n",
              "        document.querySelector('#df-a5c24afd-d03c-4129-a73d-908a160d7427 button');\n",
              "      quickchartButtonEl.style.display =\n",
              "        google.colab.kernel.accessAllowed ? 'block' : 'none';\n",
              "    })();\n",
              "  </script>\n",
              "</div>\n",
              "\n",
              "    </div>\n",
              "  </div>\n"
            ],
            "application/vnd.google.colaboratory.intrinsic+json": {
              "type": "dataframe",
              "variable_name": "df_training_for_labels",
              "summary": "{\n  \"name\": \"df_training_for_labels\",\n  \"rows\": 50,\n  \"fields\": [\n    {\n      \"column\": \"Domain\",\n      \"properties\": {\n        \"dtype\": \"category\",\n        \"num_unique_values\": 7,\n        \"samples\": [\n          \"Medical \",\n          \"CS \",\n          \"biochemistry \"\n        ],\n        \"semantic_type\": \"\",\n        \"description\": \"\"\n      }\n    },\n    {\n      \"column\": \"area\",\n      \"properties\": {\n        \"dtype\": \"string\",\n        \"num_unique_values\": 34,\n        \"samples\": [\n          \" Sports Injuries  \",\n          \" Human Metabolism  \",\n          \" Satellite radio  \"\n        ],\n        \"semantic_type\": \"\",\n        \"description\": \"\"\n      }\n    },\n    {\n      \"column\": \"keywords\",\n      \"properties\": {\n        \"dtype\": \"string\",\n        \"num_unique_values\": 50,\n        \"samples\": [\n          \" gloves; individual prevention; hand eczema; massage; occupational exposure; occupational health; occupational skin diseases; protection measure        \",\n          \" Drug metabolism; human-chimeric mice; human liver; mouse liver; phase I enzymes; phase II enzymes; rat-chimeric mice        \",\n          \" angiotensin II; losartan; renovascular hypertension; tissue-specific inhibitor of metalloproteinase-2        \"\n        ],\n        \"semantic_type\": \"\",\n        \"description\": \"\"\n      }\n    },\n    {\n      \"column\": \"Abstract\",\n      \"properties\": {\n        \"dtype\": \"string\",\n        \"num_unique_values\": 50,\n        \"samples\": [\n          \"Background: Physiotherapists have an occupationally elevated risk of dermatoses. One aim of skin care seminars for specific professional groupsin individual prevention programme in Germany is to ensure appropriate use of safety measures during patient treatment. Initially physiotherapists often think skeptically about the use of gloves and patients' acceptance of this protective measure. So the objective of this study was to assess the practicality of glove use during physiotherapy (qualitative investigation) and customer acceptance of them during massage (quantitative investigation). Methods: Structured problem-focused interviews about glove usage were held with 20 skin diseased physiotherapists and masseurs after skin care seminars. The data was evaluated inductively using Mayring's qualitative content analysis. The clients' acceptance was tested in a controlled randomized three setting study with 120 subjects who received a back massage and evaluated quality aspects of their massage in a questionnaire. The physiotherapist was wearing either gloves of PVC, gloves made of nitrile rubber or no gloves at all. A non-inferiority test was used to test group differences. Result: The majority of participating physiotherapists considered the use of protective gloves a practical and useful measure. However, occasional problems in everyday practice and in special therapy methods were reported. The analysis of 120 questionnaires (100% response rate) for quality aspects and the willingness to pay regarding client acceptancein a massage - with or without gloves - showed a non-inferiority result for massages with gloves. Conclusion: Convincing individual physiotherapists of the benefits of wearing gloves is crucial for implementation of this preventive measure. It is improbable that patients would refuse services because therapists wear gloves during treatments. Consequently, the usage of gloves is unlikely to result in a loss of practice custom.\",\n          \"1. Human-chimeric mice with humanized liver have been constructed by transplantation of human hepatocytes into several types of mice having genetic modifications that injure endogenous liver cells. Here, we focus on liver urokinase-type plasminogen activator-transgenic severe combined immunodeficiency (uPA/SCID) mice, which are the most widely used human-chimeric mice. Studies so far indicate that drug metabolism, drug transport, pharmacological effects and toxicological action in these mice are broadly similar to those in humans. 2. Expression of various drug-metabolizing enzymes is known to be different between humans and rodents. However, the expression pattern of cytochrome P450, aldehyde oxidase and phase II enzymes in the liver of human-chimeric mice resembles that in humans, not that in the host mice. 3. Metabolism of various drugs, including S-warfarin, zaleplon, ibuprofen, naproxen, coumarin, troglitazone and midazolam, in human-chimeric mice is mediated by human drug-metabolizing enzymes, not by host mouse enzymes, and thus resembles that in humans. 4. Pharmacological and toxicological effects of various drugs in human-chimeric mice are also similar to those in humans. 5. The current consensus is that chimeric mice with humanized liver are useful to predict drug metabolism catalyzed by cytochrome P450, aldehyde oxidase and phase II enzymes in humans in vivo and in vitro. Some remaining issues are discussed in this review.\",\n          \"1. Angiotensin (Ang) II plays a major role in vascular remodelling. Matrix metalloproteinases (MMPs) and their tissue inhibitors (TIMPs) are involved in the tissue remodelling processes. The aim of the present study was to investigate whether AngII modulates TIMP-2 expression in rat aortic smooth muscle cells in vivo. 2. Angiotensin II (200 ng/kg per min, s.c.) or AngII + losartan (10 mg/kg per day, s.c.) or normal saline was administered continuously by osmotic minipumps to Sprague-Dawley rats for 1 week. In addition, the effect of endogenous AngII on TIMP-2 expression was evaluated in renovascular hypertensive rats (two kidney, one clip (2K1C) and one kidney, one clip (1K1C) models). Control rats (sham 2K1C and sham 1K1C rats) underwent sham-clipping of the left renal artery. At the end of the treatment, plasma renin activity was measured by radioimmunoassay, aortic TIMP-2 mRNA expression was evaluated by real-time polymerase chain reaction and/or northern blotting and protein expression was evaluated by immunohistochemistry. Systolic blood pressure (SBP) was measured twice a week by the tail-cuff method. 3. Exogenous AngII administration produced the expected increase in SBP (P = 0.02) compared with the control saline-treated group. The increase in SBP was abolished in AngII + losartan-treated rats. Administration of AngII caused a significant increase in TIMP-2 expression (P = 0.01) in rat aortic smooth muscle cells that was abolished in AngII + losartan-treated rats. In renovascular hypertensive rats, SBP was higher (P < 0.0001) in 2K1C and 1K1C rats compared with the corresponding sham-operated rats. Plasma renin activity was higher (P < 0.01) in 2K1C rats compared with the other groups. The expression of TIMP-2 was significantly (P < 0.05) increased only in 2K1C rats. 4. Our in vivo data demonstrate that exogenous and endogenous AngII increases TIMP-2 expression in rat aortic smooth muscle cells. This effect is not dependent on the AngII-induced increase in blood pressure and is mediated by angiotensin AT(1) receptors.\"\n        ],\n        \"semantic_type\": \"\",\n        \"description\": \"\"\n      }\n    }\n  ]\n}"
            }
          },
          "metadata": {},
          "execution_count": 81
        }
      ]
    },
    {
      "cell_type": "code",
      "source": [
        "num_labels=df_training_for_labels['Domain'].nunique()\n",
        "num_labels"
      ],
      "metadata": {
        "colab": {
          "base_uri": "https://localhost:8080/"
        },
        "id": "753g5Ejzzhzl",
        "outputId": "5f2f4ffa-dd0f-48f8-8999-46264ccaf55c"
      },
      "execution_count": 82,
      "outputs": [
        {
          "output_type": "execute_result",
          "data": {
            "text/plain": [
              "7"
            ]
          },
          "metadata": {},
          "execution_count": 82
        }
      ]
    },
    {
      "cell_type": "code",
      "source": [
        "class FTModel(nn.Module):\n",
        "    def __init__(self, num_labels):\n",
        "      try:\n",
        "        super(FTModel, self).__init__()\n",
        "        self.bert_model = bert_model\n",
        "        self.classifier = nn.Linear(self.bert_model.config.dim, num_labels)\n",
        "      except:\n",
        "        raise NotImplementedError\n",
        "\n",
        "    def forward(self,input_ids,attention_mask):\n",
        "      try:\n",
        "        outputs = self.bert_model(input_ids=input_ids, attention_mask=attention_mask)\n",
        "        cls_output = outputs.last_hidden_state[:, 0, :]\n",
        "        pred = self.classifier(cls_output)\n",
        "        return pred\n",
        "      except:\n",
        "        raise NotImplementedError\n",
        "\n",
        "model = FTModel(num_labels)"
      ],
      "metadata": {
        "id": "6zfJWtlfyqqV"
      },
      "execution_count": 83,
      "outputs": []
    },
    {
      "cell_type": "code",
      "source": [
        "LEARNING_RATE = 0.001\n",
        "# Use cross-entropy loss\n",
        "loss_fn = nn.CrossEntropyLoss()\n",
        "\n",
        "# Initialize Optimizer\n",
        "optimizer= optim.Adam(model.parameters(),lr= LEARNING_RATE)"
      ],
      "metadata": {
        "id": "W-BFVGXg7eS1"
      },
      "execution_count": 84,
      "outputs": []
    },
    {
      "cell_type": "code",
      "execution_count": 85,
      "metadata": {
        "id": "DisQOmG1DK3T"
      },
      "outputs": [],
      "source": [
        "# Freeze parameters of the pre-trained Distilbert model\n",
        "for parameters_1 in model.bert_model.parameters():\n",
        "    parameters_1.requires_grad = False"
      ]
    },
    {
      "cell_type": "markdown",
      "source": [
        "3) Write the fine-tuning and evaluation functions"
      ],
      "metadata": {
        "id": "i7YKz80RAvPV"
      }
    },
    {
      "cell_type": "code",
      "source": [
        "def train_epoch(model, data_loader, loss_fn, optimizer, device):\n",
        "    model = model.train()\n",
        "    losses = []\n",
        "    correct_predictions = 0\n",
        "\n",
        "    for d in data_loader:\n",
        "        input_ids = d[\"input_ids\"].to(device)\n",
        "        attention_mask = d[\"attention_mask\"].to(device)\n",
        "        labels = d[\"labels\"].to(device)\n",
        "\n",
        "        outputs = model(input_ids=input_ids, attention_mask=attention_mask)\n",
        "        _, preds = torch.max(outputs, dim=1)\n",
        "        loss = loss_fn(outputs, labels)\n",
        "\n",
        "        correct_predictions += torch.sum(preds == labels)\n",
        "        losses.append(loss.item())\n",
        "\n",
        "        loss.backward()\n",
        "        optimizer.step()\n",
        "        optimizer.zero_grad()\n",
        "\n",
        "    return correct_predictions.double() / len(data_loader.dataset), np.mean(losses)\n",
        "\n",
        "def eval_model(model, data_loader, loss_fn, device):\n",
        "    model = model.eval()\n",
        "    losses = []\n",
        "    correct_predictions = 0\n",
        "\n",
        "    with torch.no_grad():\n",
        "        for d in data_loader:\n",
        "            input_ids = d[\"input_ids\"].to(device)\n",
        "            attention_mask = d[\"attention_mask\"].to(device)\n",
        "            labels = d[\"labels\"].to(device)\n",
        "\n",
        "            outputs = model(input_ids=input_ids, attention_mask=attention_mask)\n",
        "            _, preds = torch.max(outputs, dim=1)\n",
        "            loss = loss_fn(outputs, labels)\n",
        "\n",
        "            correct_predictions += torch.sum(preds == labels)\n",
        "            losses.append(loss.item())\n",
        "\n",
        "    return correct_predictions.double() / len(data_loader.dataset), np.mean(losses)"
      ],
      "metadata": {
        "id": "X5JrdzArC_wt"
      },
      "execution_count": 86,
      "outputs": []
    },
    {
      "cell_type": "code",
      "source": [
        "device = torch.device(\"cuda\" if torch.cuda.is_available() else \"cpu\")\n",
        "VAL_FREQUENCY = 1\n",
        "EPOCHS = 3\n",
        "for epoch in range(1, EPOCHS + 1):\n",
        "    print(f\"Epoch {epoch}/{EPOCHS}\")\n",
        "    train_acc, train_loss = train_epoch(model, dataloader_train, loss_fn, optimizer, device)\n",
        "    print(f\"Train loss {train_loss} accuracy {train_acc}\")\n",
        "\n",
        "    if epoch % VAL_FREQUENCY == 0 or epoch == EPOCHS:\n",
        "        val_acc, val_loss = eval_model(model, dataloader_val, loss_fn, device)\n",
        "        print(f\"Val loss {val_loss} accuracy {val_acc}\")\n"
      ],
      "metadata": {
        "colab": {
          "base_uri": "https://localhost:8080/"
        },
        "id": "ROMMXvDmT_xu",
        "outputId": "3b98e37f-17f4-479a-cbae-4e21023041d8"
      },
      "execution_count": 87,
      "outputs": [
        {
          "output_type": "stream",
          "name": "stdout",
          "text": [
            "Epoch 1/3\n",
            "Train loss 2.0483247893197194 accuracy 0.08\n",
            "Val loss 1.7680703571864538 accuracy 0.34\n",
            "Epoch 2/3\n",
            "Train loss 1.750523294721331 accuracy 0.26\n",
            "Val loss 1.5295626095363073 accuracy 0.4\n",
            "Epoch 3/3\n",
            "Train loss 1.651096957070487 accuracy 0.36\n",
            "Val loss 1.4328575730323792 accuracy 0.38\n"
          ]
        }
      ]
    },
    {
      "cell_type": "markdown",
      "source": [
        "# Report accuracy on test set using sklearn.metrics.accuracy_score"
      ],
      "metadata": {
        "id": "W1_6mGpCB_13"
      }
    },
    {
      "cell_type": "code",
      "source": [
        "from sklearn.metrics import accuracy_score\n",
        "\n",
        "def evaluate_on_test(model, data_loader, device):\n",
        "    model = model.eval()\n",
        "    predictions = []\n",
        "    real_values = []\n",
        "\n",
        "    with torch.no_grad():\n",
        "        for d in data_loader:\n",
        "            input_ids = d['input_ids'].to(device)\n",
        "            attention_mask = d['attention_mask'].to(device)\n",
        "            labels = d['labels'].to(device)\n",
        "\n",
        "            outputs = model(input_ids=input_ids, attention_mask=attention_mask)\n",
        "            _, preds = torch.max(outputs, dim=1)\n",
        "\n",
        "            predictions.extend(preds.tolist())\n",
        "            real_values.extend(labels.tolist())\n",
        "\n",
        "    return accuracy_score(real_values, predictions)"
      ],
      "metadata": {
        "id": "hACtlqzuR0WU"
      },
      "execution_count": 88,
      "outputs": []
    },
    {
      "cell_type": "code",
      "source": [
        "dataset_test = FTDataset(test_set, test_set['labels'])\n",
        "dataloader_test = DataLoader(dataset=dataset_test, batch_size=BATCH_SIZE_TRAIN)\n",
        "evaluate_on_test(model, dataloader_test, device)"
      ],
      "metadata": {
        "colab": {
          "base_uri": "https://localhost:8080/"
        },
        "id": "WXj0A8CT-mV-",
        "outputId": "16c35e8a-3662-4d45-ae74-88aeb88f401b"
      },
      "execution_count": 89,
      "outputs": [
        {
          "output_type": "execute_result",
          "data": {
            "text/plain": [
              "0.2"
            ]
          },
          "metadata": {},
          "execution_count": 89
        }
      ]
    },
    {
      "cell_type": "markdown",
      "source": [
        "# Question 5: Fine-tune all parameters (requires GPU)\n"
      ],
      "metadata": {
        "id": "WsUT9Dtr2Kbb"
      }
    },
    {
      "cell_type": "code",
      "source": [
        "training_set = load_data('/content/drive/My Drive/training.csv')\n",
        "validation_set = load_data('/content/drive/My Drive/validation.csv')\n",
        "test_set = load_data('/content/drive/My Drive/test_llm.csv')"
      ],
      "metadata": {
        "id": "DjvcGngm_HZg"
      },
      "execution_count": 106,
      "outputs": []
    },
    {
      "cell_type": "code",
      "source": [
        "# Format the training, validation, and test sets\n",
        "# to use them for fine-tuning and evaluation using Distilbert\n",
        "tokenizer = DistilBertTokenizer.from_pretrained('distilbert-base-uncased')\n",
        "def make_finetuning_data_distilbert(dataset, tokenizer, max_length=512):\n",
        "    inputs = tokenizer(dataset[\"Abstract\"].tolist(), padding=\"max_length\", truncation=True, max_length=max_length, return_tensors=\"pt\")\n",
        "    labels = pd.get_dummies(dataset[\"Domain\"]).values.argmax(axis=1)\n",
        "    return {\"input_ids\": inputs[\"input_ids\"], \"attention_mask\": inputs[\"attention_mask\"], \"labels\": torch.tensor(labels)}\n",
        "\n",
        "MAX_LENGTH = 512\n",
        "training_set = make_finetuning_data_distilbert(training_set, tokenizer, MAX_LENGTH)\n",
        "validation_set = make_finetuning_data_distilbert(validation_set, tokenizer, MAX_LENGTH)\n",
        "test_set = make_finetuning_data_distilbert(test_set, tokenizer, MAX_LENGTH)"
      ],
      "metadata": {
        "id": "3jnJytPc_3Hz"
      },
      "execution_count": 107,
      "outputs": []
    },
    {
      "cell_type": "code",
      "source": [
        "MAX_LENGTH = MAX_LENGTH\n",
        "BATCH_SIZE_TRAIN = 8\n",
        "BATCH_SIZE_VAL = 8\n",
        "\n",
        "class FTDataset(Dataset):\n",
        "    def __init__(self, encodings, labels):\n",
        "        self.encodings = encodings\n",
        "        self.labels = labels\n",
        "\n",
        "    def __len__(self):\n",
        "        return len(self.labels)\n",
        "\n",
        "    def __getitem__(self, index):\n",
        "        # Here, 'encodings' is a dictionary containing 'input_ids' and 'attention_mask'\n",
        "        item = {key: val[index] for key, val in self.encodings.items()}\n",
        "        item['labels'] = self.labels[index]\n",
        "        return item\n",
        "\n",
        "# Correctly passing the entire dictionaries\n",
        "dataset_train = FTDataset(training_set, training_set['labels'])\n",
        "dataloader_train = DataLoader(dataset=dataset_train, batch_size=BATCH_SIZE_TRAIN)\n",
        "dataset_val = FTDataset(validation_set, validation_set['labels'])\n",
        "dataloader_val = DataLoader(dataset=dataset_val, batch_size=BATCH_SIZE_VAL)"
      ],
      "metadata": {
        "id": "-3z2JlBQ_9vp"
      },
      "execution_count": 108,
      "outputs": []
    },
    {
      "cell_type": "code",
      "source": [
        "training_set"
      ],
      "metadata": {
        "colab": {
          "base_uri": "https://localhost:8080/"
        },
        "id": "W7HsqJ6iAOF0",
        "outputId": "a063b8fa-081c-4e60-ae1a-1eef7ce329c7"
      },
      "execution_count": 109,
      "outputs": [
        {
          "output_type": "execute_result",
          "data": {
            "text/plain": [
              "{'input_ids': tensor([[ 101, 8704, 1024,  ...,    0,    0,    0],\n",
              "         [ 101, 4684, 4005,  ...,    0,    0,    0],\n",
              "         [ 101, 2023, 3259,  ...,    0,    0,    0],\n",
              "         ...,\n",
              "         [ 101, 1015, 1012,  ...,    0,    0,    0],\n",
              "         [ 101, 1015, 1012,  ...,    0,    0,    0],\n",
              "         [ 101, 1037, 2186,  ...,    0,    0,    0]]),\n",
              " 'attention_mask': tensor([[1, 1, 1,  ..., 0, 0, 0],\n",
              "         [1, 1, 1,  ..., 0, 0, 0],\n",
              "         [1, 1, 1,  ..., 0, 0, 0],\n",
              "         ...,\n",
              "         [1, 1, 1,  ..., 0, 0, 0],\n",
              "         [1, 1, 1,  ..., 0, 0, 0],\n",
              "         [1, 1, 1,  ..., 0, 0, 0]]),\n",
              " 'labels': tensor([4, 0, 2, 5, 5, 0, 5, 2, 0, 4, 4, 1, 6, 4, 2, 4, 1, 4, 3, 5, 4, 4, 0, 2,\n",
              "         6, 6, 4, 6, 6, 5, 6, 0, 2, 6, 5, 6, 2, 6, 6, 6, 6, 1, 1, 1, 3, 4, 6, 6,\n",
              "         4, 3])}"
            ]
          },
          "metadata": {},
          "execution_count": 109
        }
      ]
    },
    {
      "cell_type": "code",
      "source": [
        "bert_model_fullft = DistilBertModel.from_pretrained(\"distilbert-base-uncased\")"
      ],
      "metadata": {
        "id": "NFOb8vqpIplz"
      },
      "execution_count": 110,
      "outputs": []
    },
    {
      "cell_type": "code",
      "source": [
        "path='/content/drive/My Drive/training.csv'\n",
        "df_training_for_labels = pd.read_csv(path)\n",
        "df_training_for_labels.head()"
      ],
      "metadata": {
        "colab": {
          "base_uri": "https://localhost:8080/",
          "height": 206
        },
        "id": "toIqapdkBYEP",
        "outputId": "e84c7edc-d358-4ec4-91fe-4b99fe16a000"
      },
      "execution_count": 111,
      "outputs": [
        {
          "output_type": "execute_result",
          "data": {
            "text/plain": [
              "         Domain                      area  \\\n",
              "0      Medical              Hepatitis C     \n",
              "1           CS    Distributed computing     \n",
              "2          ECE      Control engineering     \n",
              "3  Psychology            False memories     \n",
              "4  Psychology                Leadership     \n",
              "\n",
              "                                            keywords  \\\n",
              "0   Feasibility study; hepatitis C risk behaviour...   \n",
              "1   Agent Architecture; Mobile Agent; Agent Cloni...   \n",
              "2   educational software tool; multivariable cont...   \n",
              "3   judgment; metamemory; accuracy; eyewitness me...   \n",
              "4   Implementation support; Co-occurring disorder...   \n",
              "\n",
              "                                            Abstract  \n",
              "0  Aims: This study aimed to develop and test the...  \n",
              "1  Mobile agent technology is becoming more popul...  \n",
              "2  This paper presents an educational software to...  \n",
              "3  Different researchers have reported positive, ...  \n",
              "4  Background: Incorporating evidence-based integ...  "
            ],
            "text/html": [
              "\n",
              "  <div id=\"df-39f610e6-466d-4377-8e29-4833a6a371a2\" class=\"colab-df-container\">\n",
              "    <div>\n",
              "<style scoped>\n",
              "    .dataframe tbody tr th:only-of-type {\n",
              "        vertical-align: middle;\n",
              "    }\n",
              "\n",
              "    .dataframe tbody tr th {\n",
              "        vertical-align: top;\n",
              "    }\n",
              "\n",
              "    .dataframe thead th {\n",
              "        text-align: right;\n",
              "    }\n",
              "</style>\n",
              "<table border=\"1\" class=\"dataframe\">\n",
              "  <thead>\n",
              "    <tr style=\"text-align: right;\">\n",
              "      <th></th>\n",
              "      <th>Domain</th>\n",
              "      <th>area</th>\n",
              "      <th>keywords</th>\n",
              "      <th>Abstract</th>\n",
              "    </tr>\n",
              "  </thead>\n",
              "  <tbody>\n",
              "    <tr>\n",
              "      <th>0</th>\n",
              "      <td>Medical</td>\n",
              "      <td>Hepatitis C</td>\n",
              "      <td>Feasibility study; hepatitis C risk behaviour...</td>\n",
              "      <td>Aims: This study aimed to develop and test the...</td>\n",
              "    </tr>\n",
              "    <tr>\n",
              "      <th>1</th>\n",
              "      <td>CS</td>\n",
              "      <td>Distributed computing</td>\n",
              "      <td>Agent Architecture; Mobile Agent; Agent Cloni...</td>\n",
              "      <td>Mobile agent technology is becoming more popul...</td>\n",
              "    </tr>\n",
              "    <tr>\n",
              "      <th>2</th>\n",
              "      <td>ECE</td>\n",
              "      <td>Control engineering</td>\n",
              "      <td>educational software tool; multivariable cont...</td>\n",
              "      <td>This paper presents an educational software to...</td>\n",
              "    </tr>\n",
              "    <tr>\n",
              "      <th>3</th>\n",
              "      <td>Psychology</td>\n",
              "      <td>False memories</td>\n",
              "      <td>judgment; metamemory; accuracy; eyewitness me...</td>\n",
              "      <td>Different researchers have reported positive, ...</td>\n",
              "    </tr>\n",
              "    <tr>\n",
              "      <th>4</th>\n",
              "      <td>Psychology</td>\n",
              "      <td>Leadership</td>\n",
              "      <td>Implementation support; Co-occurring disorder...</td>\n",
              "      <td>Background: Incorporating evidence-based integ...</td>\n",
              "    </tr>\n",
              "  </tbody>\n",
              "</table>\n",
              "</div>\n",
              "    <div class=\"colab-df-buttons\">\n",
              "\n",
              "  <div class=\"colab-df-container\">\n",
              "    <button class=\"colab-df-convert\" onclick=\"convertToInteractive('df-39f610e6-466d-4377-8e29-4833a6a371a2')\"\n",
              "            title=\"Convert this dataframe to an interactive table.\"\n",
              "            style=\"display:none;\">\n",
              "\n",
              "  <svg xmlns=\"http://www.w3.org/2000/svg\" height=\"24px\" viewBox=\"0 -960 960 960\">\n",
              "    <path d=\"M120-120v-720h720v720H120Zm60-500h600v-160H180v160Zm220 220h160v-160H400v160Zm0 220h160v-160H400v160ZM180-400h160v-160H180v160Zm440 0h160v-160H620v160ZM180-180h160v-160H180v160Zm440 0h160v-160H620v160Z\"/>\n",
              "  </svg>\n",
              "    </button>\n",
              "\n",
              "  <style>\n",
              "    .colab-df-container {\n",
              "      display:flex;\n",
              "      gap: 12px;\n",
              "    }\n",
              "\n",
              "    .colab-df-convert {\n",
              "      background-color: #E8F0FE;\n",
              "      border: none;\n",
              "      border-radius: 50%;\n",
              "      cursor: pointer;\n",
              "      display: none;\n",
              "      fill: #1967D2;\n",
              "      height: 32px;\n",
              "      padding: 0 0 0 0;\n",
              "      width: 32px;\n",
              "    }\n",
              "\n",
              "    .colab-df-convert:hover {\n",
              "      background-color: #E2EBFA;\n",
              "      box-shadow: 0px 1px 2px rgba(60, 64, 67, 0.3), 0px 1px 3px 1px rgba(60, 64, 67, 0.15);\n",
              "      fill: #174EA6;\n",
              "    }\n",
              "\n",
              "    .colab-df-buttons div {\n",
              "      margin-bottom: 4px;\n",
              "    }\n",
              "\n",
              "    [theme=dark] .colab-df-convert {\n",
              "      background-color: #3B4455;\n",
              "      fill: #D2E3FC;\n",
              "    }\n",
              "\n",
              "    [theme=dark] .colab-df-convert:hover {\n",
              "      background-color: #434B5C;\n",
              "      box-shadow: 0px 1px 3px 1px rgba(0, 0, 0, 0.15);\n",
              "      filter: drop-shadow(0px 1px 2px rgba(0, 0, 0, 0.3));\n",
              "      fill: #FFFFFF;\n",
              "    }\n",
              "  </style>\n",
              "\n",
              "    <script>\n",
              "      const buttonEl =\n",
              "        document.querySelector('#df-39f610e6-466d-4377-8e29-4833a6a371a2 button.colab-df-convert');\n",
              "      buttonEl.style.display =\n",
              "        google.colab.kernel.accessAllowed ? 'block' : 'none';\n",
              "\n",
              "      async function convertToInteractive(key) {\n",
              "        const element = document.querySelector('#df-39f610e6-466d-4377-8e29-4833a6a371a2');\n",
              "        const dataTable =\n",
              "          await google.colab.kernel.invokeFunction('convertToInteractive',\n",
              "                                                    [key], {});\n",
              "        if (!dataTable) return;\n",
              "\n",
              "        const docLinkHtml = 'Like what you see? Visit the ' +\n",
              "          '<a target=\"_blank\" href=https://colab.research.google.com/notebooks/data_table.ipynb>data table notebook</a>'\n",
              "          + ' to learn more about interactive tables.';\n",
              "        element.innerHTML = '';\n",
              "        dataTable['output_type'] = 'display_data';\n",
              "        await google.colab.output.renderOutput(dataTable, element);\n",
              "        const docLink = document.createElement('div');\n",
              "        docLink.innerHTML = docLinkHtml;\n",
              "        element.appendChild(docLink);\n",
              "      }\n",
              "    </script>\n",
              "  </div>\n",
              "\n",
              "\n",
              "<div id=\"df-1f86a2a4-4b42-41b2-93b9-b935f46b3dde\">\n",
              "  <button class=\"colab-df-quickchart\" onclick=\"quickchart('df-1f86a2a4-4b42-41b2-93b9-b935f46b3dde')\"\n",
              "            title=\"Suggest charts\"\n",
              "            style=\"display:none;\">\n",
              "\n",
              "<svg xmlns=\"http://www.w3.org/2000/svg\" height=\"24px\"viewBox=\"0 0 24 24\"\n",
              "     width=\"24px\">\n",
              "    <g>\n",
              "        <path d=\"M19 3H5c-1.1 0-2 .9-2 2v14c0 1.1.9 2 2 2h14c1.1 0 2-.9 2-2V5c0-1.1-.9-2-2-2zM9 17H7v-7h2v7zm4 0h-2V7h2v10zm4 0h-2v-4h2v4z\"/>\n",
              "    </g>\n",
              "</svg>\n",
              "  </button>\n",
              "\n",
              "<style>\n",
              "  .colab-df-quickchart {\n",
              "      --bg-color: #E8F0FE;\n",
              "      --fill-color: #1967D2;\n",
              "      --hover-bg-color: #E2EBFA;\n",
              "      --hover-fill-color: #174EA6;\n",
              "      --disabled-fill-color: #AAA;\n",
              "      --disabled-bg-color: #DDD;\n",
              "  }\n",
              "\n",
              "  [theme=dark] .colab-df-quickchart {\n",
              "      --bg-color: #3B4455;\n",
              "      --fill-color: #D2E3FC;\n",
              "      --hover-bg-color: #434B5C;\n",
              "      --hover-fill-color: #FFFFFF;\n",
              "      --disabled-bg-color: #3B4455;\n",
              "      --disabled-fill-color: #666;\n",
              "  }\n",
              "\n",
              "  .colab-df-quickchart {\n",
              "    background-color: var(--bg-color);\n",
              "    border: none;\n",
              "    border-radius: 50%;\n",
              "    cursor: pointer;\n",
              "    display: none;\n",
              "    fill: var(--fill-color);\n",
              "    height: 32px;\n",
              "    padding: 0;\n",
              "    width: 32px;\n",
              "  }\n",
              "\n",
              "  .colab-df-quickchart:hover {\n",
              "    background-color: var(--hover-bg-color);\n",
              "    box-shadow: 0 1px 2px rgba(60, 64, 67, 0.3), 0 1px 3px 1px rgba(60, 64, 67, 0.15);\n",
              "    fill: var(--button-hover-fill-color);\n",
              "  }\n",
              "\n",
              "  .colab-df-quickchart-complete:disabled,\n",
              "  .colab-df-quickchart-complete:disabled:hover {\n",
              "    background-color: var(--disabled-bg-color);\n",
              "    fill: var(--disabled-fill-color);\n",
              "    box-shadow: none;\n",
              "  }\n",
              "\n",
              "  .colab-df-spinner {\n",
              "    border: 2px solid var(--fill-color);\n",
              "    border-color: transparent;\n",
              "    border-bottom-color: var(--fill-color);\n",
              "    animation:\n",
              "      spin 1s steps(1) infinite;\n",
              "  }\n",
              "\n",
              "  @keyframes spin {\n",
              "    0% {\n",
              "      border-color: transparent;\n",
              "      border-bottom-color: var(--fill-color);\n",
              "      border-left-color: var(--fill-color);\n",
              "    }\n",
              "    20% {\n",
              "      border-color: transparent;\n",
              "      border-left-color: var(--fill-color);\n",
              "      border-top-color: var(--fill-color);\n",
              "    }\n",
              "    30% {\n",
              "      border-color: transparent;\n",
              "      border-left-color: var(--fill-color);\n",
              "      border-top-color: var(--fill-color);\n",
              "      border-right-color: var(--fill-color);\n",
              "    }\n",
              "    40% {\n",
              "      border-color: transparent;\n",
              "      border-right-color: var(--fill-color);\n",
              "      border-top-color: var(--fill-color);\n",
              "    }\n",
              "    60% {\n",
              "      border-color: transparent;\n",
              "      border-right-color: var(--fill-color);\n",
              "    }\n",
              "    80% {\n",
              "      border-color: transparent;\n",
              "      border-right-color: var(--fill-color);\n",
              "      border-bottom-color: var(--fill-color);\n",
              "    }\n",
              "    90% {\n",
              "      border-color: transparent;\n",
              "      border-bottom-color: var(--fill-color);\n",
              "    }\n",
              "  }\n",
              "</style>\n",
              "\n",
              "  <script>\n",
              "    async function quickchart(key) {\n",
              "      const quickchartButtonEl =\n",
              "        document.querySelector('#' + key + ' button');\n",
              "      quickchartButtonEl.disabled = true;  // To prevent multiple clicks.\n",
              "      quickchartButtonEl.classList.add('colab-df-spinner');\n",
              "      try {\n",
              "        const charts = await google.colab.kernel.invokeFunction(\n",
              "            'suggestCharts', [key], {});\n",
              "      } catch (error) {\n",
              "        console.error('Error during call to suggestCharts:', error);\n",
              "      }\n",
              "      quickchartButtonEl.classList.remove('colab-df-spinner');\n",
              "      quickchartButtonEl.classList.add('colab-df-quickchart-complete');\n",
              "    }\n",
              "    (() => {\n",
              "      let quickchartButtonEl =\n",
              "        document.querySelector('#df-1f86a2a4-4b42-41b2-93b9-b935f46b3dde button');\n",
              "      quickchartButtonEl.style.display =\n",
              "        google.colab.kernel.accessAllowed ? 'block' : 'none';\n",
              "    })();\n",
              "  </script>\n",
              "</div>\n",
              "\n",
              "    </div>\n",
              "  </div>\n"
            ],
            "application/vnd.google.colaboratory.intrinsic+json": {
              "type": "dataframe",
              "variable_name": "df_training_for_labels",
              "summary": "{\n  \"name\": \"df_training_for_labels\",\n  \"rows\": 50,\n  \"fields\": [\n    {\n      \"column\": \"Domain\",\n      \"properties\": {\n        \"dtype\": \"category\",\n        \"num_unique_values\": 7,\n        \"samples\": [\n          \"Medical \",\n          \"CS \",\n          \"biochemistry \"\n        ],\n        \"semantic_type\": \"\",\n        \"description\": \"\"\n      }\n    },\n    {\n      \"column\": \"area\",\n      \"properties\": {\n        \"dtype\": \"string\",\n        \"num_unique_values\": 34,\n        \"samples\": [\n          \" Sports Injuries  \",\n          \" Human Metabolism  \",\n          \" Satellite radio  \"\n        ],\n        \"semantic_type\": \"\",\n        \"description\": \"\"\n      }\n    },\n    {\n      \"column\": \"keywords\",\n      \"properties\": {\n        \"dtype\": \"string\",\n        \"num_unique_values\": 50,\n        \"samples\": [\n          \" gloves; individual prevention; hand eczema; massage; occupational exposure; occupational health; occupational skin diseases; protection measure        \",\n          \" Drug metabolism; human-chimeric mice; human liver; mouse liver; phase I enzymes; phase II enzymes; rat-chimeric mice        \",\n          \" angiotensin II; losartan; renovascular hypertension; tissue-specific inhibitor of metalloproteinase-2        \"\n        ],\n        \"semantic_type\": \"\",\n        \"description\": \"\"\n      }\n    },\n    {\n      \"column\": \"Abstract\",\n      \"properties\": {\n        \"dtype\": \"string\",\n        \"num_unique_values\": 50,\n        \"samples\": [\n          \"Background: Physiotherapists have an occupationally elevated risk of dermatoses. One aim of skin care seminars for specific professional groupsin individual prevention programme in Germany is to ensure appropriate use of safety measures during patient treatment. Initially physiotherapists often think skeptically about the use of gloves and patients' acceptance of this protective measure. So the objective of this study was to assess the practicality of glove use during physiotherapy (qualitative investigation) and customer acceptance of them during massage (quantitative investigation). Methods: Structured problem-focused interviews about glove usage were held with 20 skin diseased physiotherapists and masseurs after skin care seminars. The data was evaluated inductively using Mayring's qualitative content analysis. The clients' acceptance was tested in a controlled randomized three setting study with 120 subjects who received a back massage and evaluated quality aspects of their massage in a questionnaire. The physiotherapist was wearing either gloves of PVC, gloves made of nitrile rubber or no gloves at all. A non-inferiority test was used to test group differences. Result: The majority of participating physiotherapists considered the use of protective gloves a practical and useful measure. However, occasional problems in everyday practice and in special therapy methods were reported. The analysis of 120 questionnaires (100% response rate) for quality aspects and the willingness to pay regarding client acceptancein a massage - with or without gloves - showed a non-inferiority result for massages with gloves. Conclusion: Convincing individual physiotherapists of the benefits of wearing gloves is crucial for implementation of this preventive measure. It is improbable that patients would refuse services because therapists wear gloves during treatments. Consequently, the usage of gloves is unlikely to result in a loss of practice custom.\",\n          \"1. Human-chimeric mice with humanized liver have been constructed by transplantation of human hepatocytes into several types of mice having genetic modifications that injure endogenous liver cells. Here, we focus on liver urokinase-type plasminogen activator-transgenic severe combined immunodeficiency (uPA/SCID) mice, which are the most widely used human-chimeric mice. Studies so far indicate that drug metabolism, drug transport, pharmacological effects and toxicological action in these mice are broadly similar to those in humans. 2. Expression of various drug-metabolizing enzymes is known to be different between humans and rodents. However, the expression pattern of cytochrome P450, aldehyde oxidase and phase II enzymes in the liver of human-chimeric mice resembles that in humans, not that in the host mice. 3. Metabolism of various drugs, including S-warfarin, zaleplon, ibuprofen, naproxen, coumarin, troglitazone and midazolam, in human-chimeric mice is mediated by human drug-metabolizing enzymes, not by host mouse enzymes, and thus resembles that in humans. 4. Pharmacological and toxicological effects of various drugs in human-chimeric mice are also similar to those in humans. 5. The current consensus is that chimeric mice with humanized liver are useful to predict drug metabolism catalyzed by cytochrome P450, aldehyde oxidase and phase II enzymes in humans in vivo and in vitro. Some remaining issues are discussed in this review.\",\n          \"1. Angiotensin (Ang) II plays a major role in vascular remodelling. Matrix metalloproteinases (MMPs) and their tissue inhibitors (TIMPs) are involved in the tissue remodelling processes. The aim of the present study was to investigate whether AngII modulates TIMP-2 expression in rat aortic smooth muscle cells in vivo. 2. Angiotensin II (200 ng/kg per min, s.c.) or AngII + losartan (10 mg/kg per day, s.c.) or normal saline was administered continuously by osmotic minipumps to Sprague-Dawley rats for 1 week. In addition, the effect of endogenous AngII on TIMP-2 expression was evaluated in renovascular hypertensive rats (two kidney, one clip (2K1C) and one kidney, one clip (1K1C) models). Control rats (sham 2K1C and sham 1K1C rats) underwent sham-clipping of the left renal artery. At the end of the treatment, plasma renin activity was measured by radioimmunoassay, aortic TIMP-2 mRNA expression was evaluated by real-time polymerase chain reaction and/or northern blotting and protein expression was evaluated by immunohistochemistry. Systolic blood pressure (SBP) was measured twice a week by the tail-cuff method. 3. Exogenous AngII administration produced the expected increase in SBP (P = 0.02) compared with the control saline-treated group. The increase in SBP was abolished in AngII + losartan-treated rats. Administration of AngII caused a significant increase in TIMP-2 expression (P = 0.01) in rat aortic smooth muscle cells that was abolished in AngII + losartan-treated rats. In renovascular hypertensive rats, SBP was higher (P < 0.0001) in 2K1C and 1K1C rats compared with the corresponding sham-operated rats. Plasma renin activity was higher (P < 0.01) in 2K1C rats compared with the other groups. The expression of TIMP-2 was significantly (P < 0.05) increased only in 2K1C rats. 4. Our in vivo data demonstrate that exogenous and endogenous AngII increases TIMP-2 expression in rat aortic smooth muscle cells. This effect is not dependent on the AngII-induced increase in blood pressure and is mediated by angiotensin AT(1) receptors.\"\n        ],\n        \"semantic_type\": \"\",\n        \"description\": \"\"\n      }\n    }\n  ]\n}"
            }
          },
          "metadata": {},
          "execution_count": 111
        }
      ]
    },
    {
      "cell_type": "code",
      "source": [
        "num_labels=df_training_for_labels['Domain'].nunique()\n",
        "num_labels"
      ],
      "metadata": {
        "colab": {
          "base_uri": "https://localhost:8080/"
        },
        "id": "sTWthkYlBhpX",
        "outputId": "538af1c2-a852-448d-e106-727c1c7f73e9"
      },
      "execution_count": 112,
      "outputs": [
        {
          "output_type": "execute_result",
          "data": {
            "text/plain": [
              "7"
            ]
          },
          "metadata": {},
          "execution_count": 112
        }
      ]
    },
    {
      "cell_type": "code",
      "source": [
        "class FTModelFull(nn.Module):\n",
        "    def __init__(self,num_labels):\n",
        "      try:\n",
        "        super(FTModelFull, self).__init__()\n",
        "        self.bert_model_fullft = bert_model_fullft\n",
        "        self.classifier = nn.Linear(self.bert_model_fullft.config.dim, num_labels)\n",
        "      except:\n",
        "        raise NotImplementedError\n",
        "\n",
        "    def forward(self,input_ids,attention_mask):\n",
        "      try:\n",
        "        outputs = self.bert_model_fullft(input_ids=input_ids, attention_mask=attention_mask)\n",
        "        cls_output = outputs.last_hidden_state[:, 0, :]\n",
        "        pred = self.classifier(cls_output)\n",
        "        return pred\n",
        "      except:\n",
        "        raise NotImplementedError\n",
        "\n",
        "model = FTModelFull(num_labels)"
      ],
      "metadata": {
        "id": "riihMKScBINa"
      },
      "execution_count": 113,
      "outputs": []
    },
    {
      "cell_type": "code",
      "source": [
        "# Initialize model but don't freeze Distilbert parameters\n",
        "#model_full_ft = FTModelFull(num_labels).to('cuda')"
      ],
      "metadata": {
        "id": "bJnlh6be2rki"
      },
      "execution_count": 114,
      "outputs": []
    },
    {
      "cell_type": "code",
      "source": [
        "from transformers import AdamW"
      ],
      "metadata": {
        "id": "v2cuVWWn2vEH"
      },
      "execution_count": 115,
      "outputs": []
    },
    {
      "cell_type": "code",
      "source": [
        "loss_fn = nn.CrossEntropyLoss()\n",
        "\n",
        "# Choose parameters wisely!\n",
        "learning_rate = 0.001\n",
        "adam_epsilon = 0.1\n",
        "\n",
        "no_decay = ['bias', 'LayerNorm.weight']\n",
        "optimizer_grouped_parameters = [\n",
        "    {'params': [p for n, p in model.named_parameters() if not any(nd in n for nd in no_decay)],\n",
        "     'weight_decay_rate': 0.2},\n",
        "    {'params': [p for n, p in model.named_parameters() if any(nd in n for nd in no_decay)],\n",
        "     'weight_decay_rate': 0.0}\n",
        "]\n",
        "\n",
        "optimizer = AdamW(optimizer_grouped_parameters, lr=learning_rate, eps=adam_epsilon)"
      ],
      "metadata": {
        "id": "KycuSLjt2xrs",
        "colab": {
          "base_uri": "https://localhost:8080/"
        },
        "outputId": "818bcf43-f228-4260-e940-17e76478fb03"
      },
      "execution_count": 116,
      "outputs": [
        {
          "output_type": "stream",
          "name": "stderr",
          "text": [
            "/usr/local/lib/python3.10/dist-packages/transformers/optimization.py:521: FutureWarning: This implementation of AdamW is deprecated and will be removed in a future version. Use the PyTorch implementation torch.optim.AdamW instead, or set `no_deprecation_warning=True` to disable this warning\n",
            "  warnings.warn(\n"
          ]
        }
      ]
    },
    {
      "cell_type": "code",
      "source": [
        "# Unfreeze parameters of the pre-trained Distilbert model\n",
        "for parameters in model.bert_model_fullft.parameters():\n",
        "    parameters.requires_grad = True"
      ],
      "metadata": {
        "id": "04bWk-XJjc7e"
      },
      "execution_count": 117,
      "outputs": []
    },
    {
      "cell_type": "code",
      "source": [
        "def train_epoch(model, data_loader, loss_fn, optimizer, device):\n",
        "    model = model.train()\n",
        "    losses = []\n",
        "    correct_predictions = 0\n",
        "\n",
        "    for d in data_loader:\n",
        "        input_ids = d[\"input_ids\"].to(device)\n",
        "        attention_mask = d[\"attention_mask\"].to(device)\n",
        "        labels = d[\"labels\"].to(device)\n",
        "\n",
        "        outputs = model(input_ids=input_ids, attention_mask=attention_mask)\n",
        "        _, preds = torch.max(outputs, dim=1)\n",
        "        loss = loss_fn(outputs, labels)\n",
        "\n",
        "        correct_predictions += torch.sum(preds == labels)\n",
        "        losses.append(loss.item())\n",
        "\n",
        "        loss.backward()\n",
        "        optimizer.step()\n",
        "        optimizer.zero_grad()\n",
        "\n",
        "    return correct_predictions.double() / len(data_loader.dataset), np.mean(losses)\n",
        "\n",
        "def eval_model(model, data_loader, loss_fn, device):\n",
        "    model = model.eval()\n",
        "    losses = []\n",
        "    correct_predictions = 0\n",
        "\n",
        "    with torch.no_grad():\n",
        "        for d in data_loader:\n",
        "            input_ids = d[\"input_ids\"].to(device)\n",
        "            attention_mask = d[\"attention_mask\"].to(device)\n",
        "            labels = d[\"labels\"].to(device)\n",
        "\n",
        "            outputs = model(input_ids=input_ids, attention_mask=attention_mask)\n",
        "            _, preds = torch.max(outputs, dim=1)\n",
        "            loss = loss_fn(outputs, labels)\n",
        "\n",
        "            correct_predictions += torch.sum(preds == labels)\n",
        "            losses.append(loss.item())\n",
        "\n",
        "    return correct_predictions.double() / len(data_loader.dataset), np.mean(losses)"
      ],
      "metadata": {
        "id": "YsnKXrZXjkTF"
      },
      "execution_count": 118,
      "outputs": []
    },
    {
      "cell_type": "code",
      "source": [
        "device = torch.device(\"cuda\" if torch.cuda.is_available() else \"cpu\")\n",
        "VAL_FREQUENCY = 1\n",
        "EPOCHS = 3\n",
        "for epoch in range(1, EPOCHS + 1):\n",
        "    print(f\"Epoch {epoch}/{EPOCHS}\")\n",
        "    train_acc, train_loss = train_epoch(model, dataloader_train, loss_fn, optimizer, device)\n",
        "    print(f\"Train loss {train_loss} accuracy {train_acc}\")\n",
        "\n",
        "    if epoch % VAL_FREQUENCY == 0 or epoch == EPOCHS:\n",
        "        val_acc, val_loss = eval_model(model, dataloader_val, loss_fn, device)\n",
        "        print(f\"Val loss {val_loss} accuracy {val_acc}\")"
      ],
      "metadata": {
        "colab": {
          "base_uri": "https://localhost:8080/"
        },
        "id": "RN7JhJ6VjrzW",
        "outputId": "6d640099-face-475f-ca5e-a88178d8457e"
      },
      "execution_count": 119,
      "outputs": [
        {
          "output_type": "stream",
          "name": "stdout",
          "text": [
            "Epoch 1/3\n",
            "Train loss 1.917412621634347 accuracy 0.2\n",
            "Val loss 1.8569792338779993 accuracy 0.34\n",
            "Epoch 2/3\n",
            "Train loss 1.8940377916608537 accuracy 0.18\n",
            "Val loss 1.8071059840066093 accuracy 0.34\n",
            "Epoch 3/3\n",
            "Train loss 1.8606900147029333 accuracy 0.24\n",
            "Val loss 1.7540547507149833 accuracy 0.34\n"
          ]
        }
      ]
    },
    {
      "cell_type": "markdown",
      "source": [
        "# Report accuracy on test set using sklearn.metrics.accuracy_score"
      ],
      "metadata": {
        "id": "QTdJAtlAj9B7"
      }
    },
    {
      "cell_type": "code",
      "source": [
        "from sklearn.metrics import accuracy_score\n",
        "\n",
        "def evaluate_on_test(model, data_loader, device):\n",
        "    model = model.eval()\n",
        "    predictions = []\n",
        "    real_values = []\n",
        "\n",
        "    with torch.no_grad():\n",
        "        for d in data_loader:\n",
        "            input_ids = d['input_ids'].to(device)\n",
        "            attention_mask = d['attention_mask'].to(device)\n",
        "            labels = d['labels'].to(device)\n",
        "\n",
        "            outputs = model(input_ids=input_ids, attention_mask=attention_mask)\n",
        "            _, preds = torch.max(outputs, dim=1)\n",
        "\n",
        "            predictions.extend(preds.tolist())\n",
        "            real_values.extend(labels.tolist())\n",
        "\n",
        "    return accuracy_score(real_values, predictions)"
      ],
      "metadata": {
        "id": "r41PBF6oj0jD"
      },
      "execution_count": 120,
      "outputs": []
    },
    {
      "cell_type": "code",
      "source": [
        "dataset_test = FTDataset(test_set, test_set['labels'])\n",
        "dataloader_test = DataLoader(dataset=dataset_test, batch_size=BATCH_SIZE_TRAIN)\n",
        "evaluate_on_test(model, dataloader_test, device)"
      ],
      "metadata": {
        "colab": {
          "base_uri": "https://localhost:8080/"
        },
        "id": "cLdlmTWHj2E_",
        "outputId": "c8af9fe1-9715-4bc3-f9b8-551520b61df0"
      },
      "execution_count": 121,
      "outputs": [
        {
          "output_type": "execute_result",
          "data": {
            "text/plain": [
              "0.15"
            ]
          },
          "metadata": {},
          "execution_count": 121
        }
      ]
    },
    {
      "cell_type": "code",
      "source": [],
      "metadata": {
        "id": "S54BJidumwbY"
      },
      "execution_count": 71,
      "outputs": []
    }
  ],
  "metadata": {
    "colab": {
      "provenance": [],
      "machine_shape": "hm"
    },
    "kernelspec": {
      "display_name": "Python 3",
      "name": "python3"
    },
    "language_info": {
      "name": "python"
    }
  },
  "nbformat": 4,
  "nbformat_minor": 0
}